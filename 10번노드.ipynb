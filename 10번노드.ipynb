{
  "nbformat": 4,
  "nbformat_minor": 0,
  "metadata": {
    "colab": {
      "provenance": [],
      "authorship_tag": "ABX9TyN27vNyVZhJoYAnoHxFXEZi",
      "include_colab_link": true
    },
    "kernelspec": {
      "name": "python3",
      "display_name": "Python 3"
    },
    "language_info": {
      "name": "python"
    }
  },
  "cells": [
    {
      "cell_type": "markdown",
      "metadata": {
        "id": "view-in-github",
        "colab_type": "text"
      },
      "source": [
        "<a href=\"https://colab.research.google.com/github/TEhyeok/AIFFEL_Exploration/blob/main/10%EB%B2%88%EB%85%B8%EB%93%9C.ipynb\" target=\"_parent\"><img src=\"https://colab.research.google.com/assets/colab-badge.svg\" alt=\"Open In Colab\"/></a>"
      ]
    },
    {
      "cell_type": "code",
      "execution_count": 2,
      "metadata": {
        "colab": {
          "base_uri": "https://localhost:8080/"
        },
        "id": "d_KzPs4R5gtB",
        "outputId": "aab20ac4-3190-4795-8182-c30b689ea2a8"
      },
      "outputs": [
        {
          "output_type": "stream",
          "name": "stdout",
          "text": [
            "넓이를 구하고 싶은 사각형의 숫자를 써주세요.\n",
            " 1.직사각형 2.평행사변형 3.사다리꼴 \n",
            " >>>2\n",
            "평행사변형 함수는 par()입니다.\n"
          ]
        }
      ],
      "source": [
        "# 사각형 넓이를 구하는 클래스 완성!\n",
        "class Square:\n",
        "    def __init__(self):\n",
        "        square = int(input('넓이를 구하고 싶은 사각형의 숫자를 써주세요.\\n 1.직사각형 2.평행사변형 3.사다리꼴 \\n >>>'))\n",
        "\n",
        "        if square == 1:\n",
        "            print('직사각형 함수는 rect()입니다.')\n",
        "\n",
        "        elif square == 2:\n",
        "            print('평행사변형 함수는 par()입니다.')\n",
        "\n",
        "        elif square == 3:\n",
        "            print('사다리꼴 함수는 trape()입니다.')\n",
        "\n",
        "        else:\n",
        "            print('1, 2, 3 중에서 다시 입력해주세요')\n",
        "\n",
        "    def rect(self, width, vertical):\n",
        "        area = width * vertical\n",
        "        result = '직사각형의 넓이는 : ' + str(area)\n",
        "        return result\n",
        "\n",
        "    def par(self, base, height):\n",
        "        area = base * height\n",
        "        result = '평행사변형의 넓이는 : ' + str(area)\n",
        "        return result\n",
        "\n",
        "    def trape(self, top, bottom, height):\n",
        "        area = 0.5 * (top + bottom) * height\n",
        "        result = '사다리꼴의 넓이는 : ' + str(area)\n",
        "        return result\n",
        "\n",
        "a = Square()\n",
        "\n"
      ]
    },
    {
      "cell_type": "code",
      "source": [
        "# 문제 2-4. 추가 주문\n",
        "# 추가 음료의 온도를 입력받고, 가격 리스트와 주문 리스트, 합계 금액을 업데이트합니다.\n",
        "\n",
        "def menu_select(self):\n",
        "    self.order_menu = []  # 주문 리스트\n",
        "    self.order_price = []  # 가격 리스트\n",
        "    self.total_price = 0  # 총합 금액 초기화\n",
        "\n",
        "    while True:\n",
        "        n = int(input(\"음료를 번호를 입력하세요(지불은 0) : \"))  # 음료 번호 또는 지불을 입력\n",
        "\n",
        "        if n == 0:  # 지불을 선택하면\n",
        "            print(\"주문이 완료되었습니다.\")\n",
        "            print(self.order_menu, self.order_price)  # 확인을 위한 리스트를 출력합니다.\n",
        "            break\n",
        "\n",
        "        elif 1 <= n <= len(self.menu):  # 메뉴판에 있는 음료 번호일 때\n",
        "            self.order_price.append(self.price[n-1])  # 가격 리스트에 추가합니다.\n",
        "            self.total_price += self.price[n-1]  # 합계 금액 업데이트\n",
        "\n",
        "        else:  # 메뉴판에 없는 번호일 때\n",
        "            print(\"없는 메뉴입니다. 다시 주문해 주세요.\")\n",
        "            continue\n",
        "\n",
        "        # 음료 온도 물어보기\n",
        "        t = 0\n",
        "        while t != 1 and t != 2:  # 1이나 2를 입력할 때까지 물어보기\n",
        "            t= int(input(\"HOT 음료는 1을, ICE 음료는 2를 입력하세요 : \"))\n",
        "\n",
        "            # 문제 2-3의 답\n",
        "            if t == 1:\n",
        "                self.temp = \"HOT\"\n",
        "            elif t == 2:\n",
        "                self.temp = \"ICE\"\n",
        "            else:\n",
        "                print(\"1과 2 중 하나를 입력하세요.\\n\")\n",
        "\n",
        "        self.order_menu.append(self.temp + ' ' + self.menu[n-1])  # 주문 리스트에 추가합니다.\n",
        "\n",
        "        # 문제 2-2의 답\n",
        "        print(self.temp, self.menu[n-1], ' : ', self.price[n-1], '원')  # 온도 속성을 추가한 주문 결과를 출력합니다.\n",
        "\n",
        "        print('추가 주문 음료', self.temp, self.menu[n-1], ':', self.price[n-1], '원\\n', '합계 : ', self.total_price, '원')\n"
      ],
      "metadata": {
        "id": "JJBPvPZ05rpB"
      },
      "execution_count": 3,
      "outputs": []
    },
    {
      "cell_type": "code",
      "source": [
        "# 문제 3-3. 클래스 업데이트\n",
        "# 앞에서 구현했던 메서드들을 Kiosk 클래스에 추가합니다. 직접 코드를 작성해 보세요!\n",
        "\n",
        "class Kiosk:\n",
        "    def __init__(self):\n",
        "        self.menu = [\"americano\", \"latte\", \"mocha\", \"choco_latte\"]\n",
        "        self.price = [2000, 3000, 3000, 3000]\n",
        "        self.order_menu = []\n",
        "        self.order_price = []\n",
        "\n",
        "    # 메뉴 출력 메서드\n",
        "    def menu_print(self):\n",
        "        for i in range(len(self.menu)):\n",
        "            print(i+1, self.menu[i], ' : ', self.price[i], '원')\n",
        "\n",
        "    # 주문 메서드\n",
        "    def menu_select(self):\n",
        "        n = 0\n",
        "        while n < 1 or len(self.menu) < n:\n",
        "            n = int(input(\"음료 번호를 입력하세요 : \"))\n",
        "            if 1 <= n & n <= len(self.menu):\n",
        "                self.order_price.append(self.price[n-1])\n",
        "                t = 0\n",
        "                while t != 1 and t != 2:\n",
        "                    t= int(input(\"HOT 음료는 1을, ICE 음료는 2를 입력하세요 : \"))\n",
        "                    if t == 1:\n",
        "                        self.temp = \"HOT\"\n",
        "                    elif t == 2:\n",
        "                        self.temp = \"ICE\"\n",
        "                    else:\n",
        "                        print(\"1과 2 중 하나를 입력하세요.\\n\")\n",
        "                self.order_menu.append(self.temp + ' ' + self.menu[n-1])\n",
        "\n",
        "    # 지불 메서드\n",
        "    def pay(self):\n",
        "        p = input(\"결제 수단을 선택하세요 ('cash' or 1 / 'card' or 2): \")\n",
        "        if p == 'cash' or p == '1':\n",
        "            print(\"직원을 호출하겠습니다.\")\n",
        "        elif p == 'card' or p == '2':\n",
        "            print(\"IC칩 방향에 맞게 카드를 꽂아주세요.\")\n",
        "        else:\n",
        "            print(\"올바른 결제 수단을 선택하세요.\")\n",
        "\n",
        "    # 주문서 출력\n",
        "    def table(self):\n",
        "        print('⟝' + '-' * 30 + '⟞')\n",
        "        for i in range(5):\n",
        "            print('|' + ' ' * 31 + '|')\n",
        "        for i in range(len(self.order_menu)):\n",
        "            print('|', self.order_menu[i].ljust(20), ' : ', str(self.order_price[i]).rjust(4), '원', ' ' * 3, '|')\n",
        "        print('|', '합계 금액'.ljust(20), ' : ', str(sum(self.order_price)).rjust(4), '원', ' ' * 3, '|')\n",
        "        for i in range(5):\n",
        "            print('|' + ' ' * 31+ '|')\n",
        "        print('⟝' + '-' * 30 + '⟞')\n"
      ],
      "metadata": {
        "id": "o3NqED9q5jzW"
      },
      "execution_count": 4,
      "outputs": []
    }
  ]
}