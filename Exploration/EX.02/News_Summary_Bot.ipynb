{
  "nbformat": 4,
  "nbformat_minor": 0,
  "metadata": {
    "colab": {
      "provenance": [],
      "gpuType": "T4",
      "authorship_tag": "ABX9TyMnsj5tO2zqpOJX1gRKBNgM",
      "include_colab_link": true
    },
    "kernelspec": {
      "name": "python3",
      "display_name": "Python 3"
    },
    "language_info": {
      "name": "python"
    },
    "accelerator": "GPU"
  },
  "cells": [
    {
      "cell_type": "markdown",
      "metadata": {
        "id": "view-in-github",
        "colab_type": "text"
      },
      "source": [
        "<a href=\"https://colab.research.google.com/github/TEhyeok/AIFFEL_Exploration/blob/main/News_Summary_Bot.ipynb\" target=\"_parent\"><img src=\"https://colab.research.google.com/assets/colab-badge.svg\" alt=\"Open In Colab\"/></a>"
      ]
    },
    {
      "cell_type": "markdown",
      "source": [
        "# 4-1. 프로젝트: 뉴스기사 요약해보기"
      ],
      "metadata": {
        "id": "R3R1B-OceifM"
      }
    },
    {
      "cell_type": "code",
      "execution_count": 2,
      "metadata": {
        "colab": {
          "base_uri": "https://localhost:8080/"
        },
        "id": "z0Pi2HgyQogL",
        "outputId": "d1bdd0c6-b23f-4e2f-9834-8919ba8fa252"
      },
      "outputs": [
        {
          "output_type": "stream",
          "name": "stdout",
          "text": [
            "3.8.1\n",
            "2.14.0\n",
            "1.5.3\n",
            "1.2.0\n"
          ]
        }
      ],
      "source": [
        "from importlib.metadata import version\n",
        "import nltk\n",
        "import tensorflow as tf\n",
        "import summa\n",
        "import pandas as pd\n",
        "\n",
        "print(nltk.__version__)\n",
        "print(tf.__version__)\n",
        "print(pd.__version__)\n",
        "print(version('summa'))"
      ]
    },
    {
      "cell_type": "code",
      "source": [
        "import nltk\n",
        "nltk.download('stopwords')\n",
        "\n",
        "import numpy as np\n",
        "import pandas as pd\n",
        "import os\n",
        "import re\n",
        "import matplotlib.pyplot as plt\n",
        "from nltk.corpus import stopwords\n",
        "from bs4 import BeautifulSoup\n",
        "from tensorflow.keras.preprocessing.text import Tokenizer\n",
        "from tensorflow.keras.preprocessing.sequence import pad_sequences\n",
        "import urllib.request\n",
        "import warnings\n",
        "warnings.filterwarnings(\"ignore\", category=UserWarning, module='bs4')"
      ],
      "metadata": {
        "colab": {
          "base_uri": "https://localhost:8080/"
        },
        "id": "y5Hpq9KcBBnQ",
        "outputId": "0bb34395-1542-42d5-cfa4-79478a177f45"
      },
      "execution_count": 3,
      "outputs": [
        {
          "output_type": "stream",
          "name": "stderr",
          "text": [
            "[nltk_data] Downloading package stopwords to /root/nltk_data...\n",
            "[nltk_data]   Unzipping corpora/stopwords.zip.\n"
          ]
        }
      ]
    },
    {
      "cell_type": "markdown",
      "source": [
        "## Step 1. 데이터 수집하기\n",
        "데이터는 아래 링크에 있는 뉴스 기사 데이터(news_summary_more.csv)를 사용하세요.\n",
        "\n",
        "https://github.com/sunnysai12345/News_Summary\n",
        "\n",
        "아래의 코드로 데이터를 다운로드할 수 있어요."
      ],
      "metadata": {
        "id": "GYEODOMFenAS"
      }
    },
    {
      "cell_type": "code",
      "source": [
        "import urllib.request\n",
        "urllib.request.urlretrieve(\"https://raw.githubusercontent.com/sunnysai12345/News_Summary/master/news_summary_more.csv\", filename=\"news_summary_more.csv\")\n",
        "data = pd.read_csv('news_summary_more.csv', encoding='iso-8859-1')"
      ],
      "metadata": {
        "id": "u7lCquI0d8bC"
      },
      "execution_count": 4,
      "outputs": []
    },
    {
      "cell_type": "code",
      "source": [
        "data.sample(10)"
      ],
      "metadata": {
        "colab": {
          "base_uri": "https://localhost:8080/",
          "height": 363
        },
        "id": "Et5q4xdmeAnC",
        "outputId": "72a40282-6712-4610-bcf0-8284030ca6dc"
      },
      "execution_count": 5,
      "outputs": [
        {
          "output_type": "execute_result",
          "data": {
            "text/plain": [
              "                                               headlines  \\\n",
              "67501  Cop arrested for attempting to rape 6-year-old...   \n",
              "27694  Railways to replace face towels with napkins i...   \n",
              "90954  Two soldiers martyred in ceasefire violation i...   \n",
              "55416  UK to switch from burgundy to blue passports a...   \n",
              "55435  Vandals damage 115 mn-year-old dinosaur footpr...   \n",
              "97936  Pujara's ton takes India to 360/6, trail Aus b...   \n",
              "56718  Maldives gets 1st ice skating rink next to the...   \n",
              "80170  Wipro shares rise 5.5%, biggest intraday gain ...   \n",
              "25616  No harm in health warning on cigarette packs: ...   \n",
              "5884   B'desh to build memorial for Indian soldiers k...   \n",
              "\n",
              "                                                    text  \n",
              "67501  A policeman in Uttar Pradesh has been arrested...  \n",
              "27694  The Railways has announced that it will replac...  \n",
              "90954  At least two soldiers were martyred in a cease...  \n",
              "55416  The UK will switch from burgundy to blue colou...  \n",
              "55435  A three-toed dinosaur footprint dating back 11...  \n",
              "97936  India ended day three of the Ranchi Test at 36...  \n",
              "56718  The Jumeirah Vittaveli hotel is opening Maldiv...  \n",
              "80170  Shares of India's third largest IT company Wip...  \n",
              "25616  The Supreme Court has refused to stay the new ...  \n",
              "5884   The Bangladesh government will be building a w...  "
            ],
            "text/html": [
              "\n",
              "  <div id=\"df-fff096ca-14f8-48c3-946c-5acd7c8c60fa\" class=\"colab-df-container\">\n",
              "    <div>\n",
              "<style scoped>\n",
              "    .dataframe tbody tr th:only-of-type {\n",
              "        vertical-align: middle;\n",
              "    }\n",
              "\n",
              "    .dataframe tbody tr th {\n",
              "        vertical-align: top;\n",
              "    }\n",
              "\n",
              "    .dataframe thead th {\n",
              "        text-align: right;\n",
              "    }\n",
              "</style>\n",
              "<table border=\"1\" class=\"dataframe\">\n",
              "  <thead>\n",
              "    <tr style=\"text-align: right;\">\n",
              "      <th></th>\n",
              "      <th>headlines</th>\n",
              "      <th>text</th>\n",
              "    </tr>\n",
              "  </thead>\n",
              "  <tbody>\n",
              "    <tr>\n",
              "      <th>67501</th>\n",
              "      <td>Cop arrested for attempting to rape 6-year-old...</td>\n",
              "      <td>A policeman in Uttar Pradesh has been arrested...</td>\n",
              "    </tr>\n",
              "    <tr>\n",
              "      <th>27694</th>\n",
              "      <td>Railways to replace face towels with napkins i...</td>\n",
              "      <td>The Railways has announced that it will replac...</td>\n",
              "    </tr>\n",
              "    <tr>\n",
              "      <th>90954</th>\n",
              "      <td>Two soldiers martyred in ceasefire violation i...</td>\n",
              "      <td>At least two soldiers were martyred in a cease...</td>\n",
              "    </tr>\n",
              "    <tr>\n",
              "      <th>55416</th>\n",
              "      <td>UK to switch from burgundy to blue passports a...</td>\n",
              "      <td>The UK will switch from burgundy to blue colou...</td>\n",
              "    </tr>\n",
              "    <tr>\n",
              "      <th>55435</th>\n",
              "      <td>Vandals damage 115 mn-year-old dinosaur footpr...</td>\n",
              "      <td>A three-toed dinosaur footprint dating back 11...</td>\n",
              "    </tr>\n",
              "    <tr>\n",
              "      <th>97936</th>\n",
              "      <td>Pujara's ton takes India to 360/6, trail Aus b...</td>\n",
              "      <td>India ended day three of the Ranchi Test at 36...</td>\n",
              "    </tr>\n",
              "    <tr>\n",
              "      <th>56718</th>\n",
              "      <td>Maldives gets 1st ice skating rink next to the...</td>\n",
              "      <td>The Jumeirah Vittaveli hotel is opening Maldiv...</td>\n",
              "    </tr>\n",
              "    <tr>\n",
              "      <th>80170</th>\n",
              "      <td>Wipro shares rise 5.5%, biggest intraday gain ...</td>\n",
              "      <td>Shares of India's third largest IT company Wip...</td>\n",
              "    </tr>\n",
              "    <tr>\n",
              "      <th>25616</th>\n",
              "      <td>No harm in health warning on cigarette packs: ...</td>\n",
              "      <td>The Supreme Court has refused to stay the new ...</td>\n",
              "    </tr>\n",
              "    <tr>\n",
              "      <th>5884</th>\n",
              "      <td>B'desh to build memorial for Indian soldiers k...</td>\n",
              "      <td>The Bangladesh government will be building a w...</td>\n",
              "    </tr>\n",
              "  </tbody>\n",
              "</table>\n",
              "</div>\n",
              "    <div class=\"colab-df-buttons\">\n",
              "\n",
              "  <div class=\"colab-df-container\">\n",
              "    <button class=\"colab-df-convert\" onclick=\"convertToInteractive('df-fff096ca-14f8-48c3-946c-5acd7c8c60fa')\"\n",
              "            title=\"Convert this dataframe to an interactive table.\"\n",
              "            style=\"display:none;\">\n",
              "\n",
              "  <svg xmlns=\"http://www.w3.org/2000/svg\" height=\"24px\" viewBox=\"0 -960 960 960\">\n",
              "    <path d=\"M120-120v-720h720v720H120Zm60-500h600v-160H180v160Zm220 220h160v-160H400v160Zm0 220h160v-160H400v160ZM180-400h160v-160H180v160Zm440 0h160v-160H620v160ZM180-180h160v-160H180v160Zm440 0h160v-160H620v160Z\"/>\n",
              "  </svg>\n",
              "    </button>\n",
              "\n",
              "  <style>\n",
              "    .colab-df-container {\n",
              "      display:flex;\n",
              "      gap: 12px;\n",
              "    }\n",
              "\n",
              "    .colab-df-convert {\n",
              "      background-color: #E8F0FE;\n",
              "      border: none;\n",
              "      border-radius: 50%;\n",
              "      cursor: pointer;\n",
              "      display: none;\n",
              "      fill: #1967D2;\n",
              "      height: 32px;\n",
              "      padding: 0 0 0 0;\n",
              "      width: 32px;\n",
              "    }\n",
              "\n",
              "    .colab-df-convert:hover {\n",
              "      background-color: #E2EBFA;\n",
              "      box-shadow: 0px 1px 2px rgba(60, 64, 67, 0.3), 0px 1px 3px 1px rgba(60, 64, 67, 0.15);\n",
              "      fill: #174EA6;\n",
              "    }\n",
              "\n",
              "    .colab-df-buttons div {\n",
              "      margin-bottom: 4px;\n",
              "    }\n",
              "\n",
              "    [theme=dark] .colab-df-convert {\n",
              "      background-color: #3B4455;\n",
              "      fill: #D2E3FC;\n",
              "    }\n",
              "\n",
              "    [theme=dark] .colab-df-convert:hover {\n",
              "      background-color: #434B5C;\n",
              "      box-shadow: 0px 1px 3px 1px rgba(0, 0, 0, 0.15);\n",
              "      filter: drop-shadow(0px 1px 2px rgba(0, 0, 0, 0.3));\n",
              "      fill: #FFFFFF;\n",
              "    }\n",
              "  </style>\n",
              "\n",
              "    <script>\n",
              "      const buttonEl =\n",
              "        document.querySelector('#df-fff096ca-14f8-48c3-946c-5acd7c8c60fa button.colab-df-convert');\n",
              "      buttonEl.style.display =\n",
              "        google.colab.kernel.accessAllowed ? 'block' : 'none';\n",
              "\n",
              "      async function convertToInteractive(key) {\n",
              "        const element = document.querySelector('#df-fff096ca-14f8-48c3-946c-5acd7c8c60fa');\n",
              "        const dataTable =\n",
              "          await google.colab.kernel.invokeFunction('convertToInteractive',\n",
              "                                                    [key], {});\n",
              "        if (!dataTable) return;\n",
              "\n",
              "        const docLinkHtml = 'Like what you see? Visit the ' +\n",
              "          '<a target=\"_blank\" href=https://colab.research.google.com/notebooks/data_table.ipynb>data table notebook</a>'\n",
              "          + ' to learn more about interactive tables.';\n",
              "        element.innerHTML = '';\n",
              "        dataTable['output_type'] = 'display_data';\n",
              "        await google.colab.output.renderOutput(dataTable, element);\n",
              "        const docLink = document.createElement('div');\n",
              "        docLink.innerHTML = docLinkHtml;\n",
              "        element.appendChild(docLink);\n",
              "      }\n",
              "    </script>\n",
              "  </div>\n",
              "\n",
              "\n",
              "<div id=\"df-c8d8424d-2895-4358-a930-2b78f14dbbe9\">\n",
              "  <button class=\"colab-df-quickchart\" onclick=\"quickchart('df-c8d8424d-2895-4358-a930-2b78f14dbbe9')\"\n",
              "            title=\"Suggest charts\"\n",
              "            style=\"display:none;\">\n",
              "\n",
              "<svg xmlns=\"http://www.w3.org/2000/svg\" height=\"24px\"viewBox=\"0 0 24 24\"\n",
              "     width=\"24px\">\n",
              "    <g>\n",
              "        <path d=\"M19 3H5c-1.1 0-2 .9-2 2v14c0 1.1.9 2 2 2h14c1.1 0 2-.9 2-2V5c0-1.1-.9-2-2-2zM9 17H7v-7h2v7zm4 0h-2V7h2v10zm4 0h-2v-4h2v4z\"/>\n",
              "    </g>\n",
              "</svg>\n",
              "  </button>\n",
              "\n",
              "<style>\n",
              "  .colab-df-quickchart {\n",
              "      --bg-color: #E8F0FE;\n",
              "      --fill-color: #1967D2;\n",
              "      --hover-bg-color: #E2EBFA;\n",
              "      --hover-fill-color: #174EA6;\n",
              "      --disabled-fill-color: #AAA;\n",
              "      --disabled-bg-color: #DDD;\n",
              "  }\n",
              "\n",
              "  [theme=dark] .colab-df-quickchart {\n",
              "      --bg-color: #3B4455;\n",
              "      --fill-color: #D2E3FC;\n",
              "      --hover-bg-color: #434B5C;\n",
              "      --hover-fill-color: #FFFFFF;\n",
              "      --disabled-bg-color: #3B4455;\n",
              "      --disabled-fill-color: #666;\n",
              "  }\n",
              "\n",
              "  .colab-df-quickchart {\n",
              "    background-color: var(--bg-color);\n",
              "    border: none;\n",
              "    border-radius: 50%;\n",
              "    cursor: pointer;\n",
              "    display: none;\n",
              "    fill: var(--fill-color);\n",
              "    height: 32px;\n",
              "    padding: 0;\n",
              "    width: 32px;\n",
              "  }\n",
              "\n",
              "  .colab-df-quickchart:hover {\n",
              "    background-color: var(--hover-bg-color);\n",
              "    box-shadow: 0 1px 2px rgba(60, 64, 67, 0.3), 0 1px 3px 1px rgba(60, 64, 67, 0.15);\n",
              "    fill: var(--button-hover-fill-color);\n",
              "  }\n",
              "\n",
              "  .colab-df-quickchart-complete:disabled,\n",
              "  .colab-df-quickchart-complete:disabled:hover {\n",
              "    background-color: var(--disabled-bg-color);\n",
              "    fill: var(--disabled-fill-color);\n",
              "    box-shadow: none;\n",
              "  }\n",
              "\n",
              "  .colab-df-spinner {\n",
              "    border: 2px solid var(--fill-color);\n",
              "    border-color: transparent;\n",
              "    border-bottom-color: var(--fill-color);\n",
              "    animation:\n",
              "      spin 1s steps(1) infinite;\n",
              "  }\n",
              "\n",
              "  @keyframes spin {\n",
              "    0% {\n",
              "      border-color: transparent;\n",
              "      border-bottom-color: var(--fill-color);\n",
              "      border-left-color: var(--fill-color);\n",
              "    }\n",
              "    20% {\n",
              "      border-color: transparent;\n",
              "      border-left-color: var(--fill-color);\n",
              "      border-top-color: var(--fill-color);\n",
              "    }\n",
              "    30% {\n",
              "      border-color: transparent;\n",
              "      border-left-color: var(--fill-color);\n",
              "      border-top-color: var(--fill-color);\n",
              "      border-right-color: var(--fill-color);\n",
              "    }\n",
              "    40% {\n",
              "      border-color: transparent;\n",
              "      border-right-color: var(--fill-color);\n",
              "      border-top-color: var(--fill-color);\n",
              "    }\n",
              "    60% {\n",
              "      border-color: transparent;\n",
              "      border-right-color: var(--fill-color);\n",
              "    }\n",
              "    80% {\n",
              "      border-color: transparent;\n",
              "      border-right-color: var(--fill-color);\n",
              "      border-bottom-color: var(--fill-color);\n",
              "    }\n",
              "    90% {\n",
              "      border-color: transparent;\n",
              "      border-bottom-color: var(--fill-color);\n",
              "    }\n",
              "  }\n",
              "</style>\n",
              "\n",
              "  <script>\n",
              "    async function quickchart(key) {\n",
              "      const quickchartButtonEl =\n",
              "        document.querySelector('#' + key + ' button');\n",
              "      quickchartButtonEl.disabled = true;  // To prevent multiple clicks.\n",
              "      quickchartButtonEl.classList.add('colab-df-spinner');\n",
              "      try {\n",
              "        const charts = await google.colab.kernel.invokeFunction(\n",
              "            'suggestCharts', [key], {});\n",
              "      } catch (error) {\n",
              "        console.error('Error during call to suggestCharts:', error);\n",
              "      }\n",
              "      quickchartButtonEl.classList.remove('colab-df-spinner');\n",
              "      quickchartButtonEl.classList.add('colab-df-quickchart-complete');\n",
              "    }\n",
              "    (() => {\n",
              "      let quickchartButtonEl =\n",
              "        document.querySelector('#df-c8d8424d-2895-4358-a930-2b78f14dbbe9 button');\n",
              "      quickchartButtonEl.style.display =\n",
              "        google.colab.kernel.accessAllowed ? 'block' : 'none';\n",
              "    })();\n",
              "  </script>\n",
              "</div>\n",
              "    </div>\n",
              "  </div>\n"
            ]
          },
          "metadata": {},
          "execution_count": 5
        }
      ]
    },
    {
      "cell_type": "code",
      "source": [
        "# 전체 샘플 수\n",
        "print(len(data))"
      ],
      "metadata": {
        "colab": {
          "base_uri": "https://localhost:8080/"
        },
        "id": "x2pwX2nQfUjY",
        "outputId": "b745a1e6-2270-4467-e26e-486b4cceed89"
      },
      "execution_count": 6,
      "outputs": [
        {
          "output_type": "stream",
          "name": "stdout",
          "text": [
            "98401\n"
          ]
        }
      ]
    },
    {
      "cell_type": "markdown",
      "source": [
        "이 데이터는 기사의 본문에 해당되는 text와 headlines 두 가지 열로 구성되어져 있습니다.\n",
        "\n",
        "추상적 요약을 하는 경우에는 text를 본문, headlines를 이미 요약된 데이터로 삼아서 모델을 학습할 수 있어요. 추출적 요약을 하는 경우에는 오직 text열만을 사용하세요."
      ],
      "metadata": {
        "id": "NBLiwPbhev39"
      }
    },
    {
      "cell_type": "markdown",
      "source": [
        "## Step 2. 데이터 전처리하기 (추상적 요약)\n",
        "실습에서 사용된 전처리를 참고하여 각자 필요하다고 생각하는 전처리를 추가 사용하여 텍스트를 정규화 또는 정제해 보세요. 만약, 불용어 제거를 선택한다면 상대적으로 길이가 짧은 요약 데이터에 대해서도 불용어를 제거하는 것이 좋을지 고민해 보세요."
      ],
      "metadata": {
        "id": "YYTlXssVew3N"
      }
    },
    {
      "cell_type": "code",
      "source": [
        "print('headlines 열에서 중복을 배제한 유일한 샘플의 수 :', data['headlines'].nunique())\n",
        "print('text 열에서 중복을 배제한 유일한 샘플의 수 :', data['text'].nunique())"
      ],
      "metadata": {
        "colab": {
          "base_uri": "https://localhost:8080/"
        },
        "id": "aRU_eHHvfP1x",
        "outputId": "b75d825d-660b-49c8-b861-de7a7d26dc40"
      },
      "execution_count": 7,
      "outputs": [
        {
          "output_type": "stream",
          "name": "stdout",
          "text": [
            "headlines 열에서 중복을 배제한 유일한 샘플의 수 : 98280\n",
            "text 열에서 중복을 배제한 유일한 샘플의 수 : 98360\n"
          ]
        }
      ]
    },
    {
      "cell_type": "code",
      "source": [
        "contractions = {\"ain't\": \"is not\", \"aren't\": \"are not\",\"can't\": \"cannot\", \"'cause\": \"because\", \"could've\": \"could have\", \"couldn't\": \"could not\",\n",
        "                           \"didn't\": \"did not\",  \"doesn't\": \"does not\", \"don't\": \"do not\", \"hadn't\": \"had not\", \"hasn't\": \"has not\", \"haven't\": \"have not\",\n",
        "                           \"he'd\": \"he would\",\"he'll\": \"he will\", \"he's\": \"he is\", \"how'd\": \"how did\", \"how'd'y\": \"how do you\", \"how'll\": \"how will\", \"how's\": \"how is\",\n",
        "                           \"I'd\": \"I would\", \"I'd've\": \"I would have\", \"I'll\": \"I will\", \"I'll've\": \"I will have\",\"I'm\": \"I am\", \"I've\": \"I have\", \"i'd\": \"i would\",\n",
        "                           \"i'd've\": \"i would have\", \"i'll\": \"i will\",  \"i'll've\": \"i will have\",\"i'm\": \"i am\", \"i've\": \"i have\", \"isn't\": \"is not\", \"it'd\": \"it would\",\n",
        "                           \"it'd've\": \"it would have\", \"it'll\": \"it will\", \"it'll've\": \"it will have\",\"it's\": \"it is\", \"let's\": \"let us\", \"ma'am\": \"madam\",\n",
        "                           \"mayn't\": \"may not\", \"might've\": \"might have\",\"mightn't\": \"might not\",\"mightn't've\": \"might not have\", \"must've\": \"must have\",\n",
        "                           \"mustn't\": \"must not\", \"mustn't've\": \"must not have\", \"needn't\": \"need not\", \"needn't've\": \"need not have\",\"o'clock\": \"of the clock\",\n",
        "                           \"oughtn't\": \"ought not\", \"oughtn't've\": \"ought not have\", \"shan't\": \"shall not\", \"sha'n't\": \"shall not\", \"shan't've\": \"shall not have\",\n",
        "                           \"she'd\": \"she would\", \"she'd've\": \"she would have\", \"she'll\": \"she will\", \"she'll've\": \"she will have\", \"she's\": \"she is\",\n",
        "                           \"should've\": \"should have\", \"shouldn't\": \"should not\", \"shouldn't've\": \"should not have\", \"so've\": \"so have\",\"so's\": \"so as\",\n",
        "                           \"this's\": \"this is\",\"that'd\": \"that would\", \"that'd've\": \"that would have\", \"that's\": \"that is\", \"there'd\": \"there would\",\n",
        "                           \"there'd've\": \"there would have\", \"there's\": \"there is\", \"here's\": \"here is\",\"they'd\": \"they would\", \"they'd've\": \"they would have\",\n",
        "                           \"they'll\": \"they will\", \"they'll've\": \"they will have\", \"they're\": \"they are\", \"they've\": \"they have\", \"to've\": \"to have\",\n",
        "                           \"wasn't\": \"was not\", \"we'd\": \"we would\", \"we'd've\": \"we would have\", \"we'll\": \"we will\", \"we'll've\": \"we will have\", \"we're\": \"we are\",\n",
        "                           \"we've\": \"we have\", \"weren't\": \"were not\", \"what'll\": \"what will\", \"what'll've\": \"what will have\", \"what're\": \"what are\",\n",
        "                           \"what's\": \"what is\", \"what've\": \"what have\", \"when's\": \"when is\", \"when've\": \"when have\", \"where'd\": \"where did\", \"where's\": \"where is\",\n",
        "                           \"where've\": \"where have\", \"who'll\": \"who will\", \"who'll've\": \"who will have\", \"who's\": \"who is\", \"who've\": \"who have\",\n",
        "                           \"why's\": \"why is\", \"why've\": \"why have\", \"will've\": \"will have\", \"won't\": \"will not\", \"won't've\": \"will not have\",\n",
        "                           \"would've\": \"would have\", \"wouldn't\": \"would not\", \"wouldn't've\": \"would not have\", \"y'all\": \"you all\",\n",
        "                           \"y'all'd\": \"you all would\",\"y'all'd've\": \"you all would have\",\"y'all're\": \"you all are\",\"y'all've\": \"you all have\",\n",
        "                           \"you'd\": \"you would\", \"you'd've\": \"you would have\", \"you'll\": \"you will\", \"you'll've\": \"you will have\",\n",
        "                           \"you're\": \"you are\", \"you've\": \"you have\"}\n",
        "\n",
        "print(\"정규화 사전의 수: \", len(contractions))"
      ],
      "metadata": {
        "colab": {
          "base_uri": "https://localhost:8080/"
        },
        "id": "Q9V4C4wZAZnR",
        "outputId": "8372091a-b60d-40f9-cfe8-2084cce2c1f2"
      },
      "execution_count": 8,
      "outputs": [
        {
          "output_type": "stream",
          "name": "stdout",
          "text": [
            "정규화 사전의 수:  120\n"
          ]
        }
      ]
    },
    {
      "cell_type": "code",
      "source": [
        "import nltk\n",
        "nltk.download('stopwords')\n",
        "from nltk.corpus import stopwords\n",
        "\n",
        "print('불용어 개수 :', len(stopwords.words('english') ))\n",
        "print(stopwords.words('english'))"
      ],
      "metadata": {
        "colab": {
          "base_uri": "https://localhost:8080/"
        },
        "id": "lwBefwPaAagC",
        "outputId": "6b23bb98-61ae-4d30-bf6e-216011ea9848"
      },
      "execution_count": 9,
      "outputs": [
        {
          "output_type": "stream",
          "name": "stdout",
          "text": [
            "불용어 개수 : 179\n",
            "['i', 'me', 'my', 'myself', 'we', 'our', 'ours', 'ourselves', 'you', \"you're\", \"you've\", \"you'll\", \"you'd\", 'your', 'yours', 'yourself', 'yourselves', 'he', 'him', 'his', 'himself', 'she', \"she's\", 'her', 'hers', 'herself', 'it', \"it's\", 'its', 'itself', 'they', 'them', 'their', 'theirs', 'themselves', 'what', 'which', 'who', 'whom', 'this', 'that', \"that'll\", 'these', 'those', 'am', 'is', 'are', 'was', 'were', 'be', 'been', 'being', 'have', 'has', 'had', 'having', 'do', 'does', 'did', 'doing', 'a', 'an', 'the', 'and', 'but', 'if', 'or', 'because', 'as', 'until', 'while', 'of', 'at', 'by', 'for', 'with', 'about', 'against', 'between', 'into', 'through', 'during', 'before', 'after', 'above', 'below', 'to', 'from', 'up', 'down', 'in', 'out', 'on', 'off', 'over', 'under', 'again', 'further', 'then', 'once', 'here', 'there', 'when', 'where', 'why', 'how', 'all', 'any', 'both', 'each', 'few', 'more', 'most', 'other', 'some', 'such', 'no', 'nor', 'not', 'only', 'own', 'same', 'so', 'than', 'too', 'very', 's', 't', 'can', 'will', 'just', 'don', \"don't\", 'should', \"should've\", 'now', 'd', 'll', 'm', 'o', 're', 've', 'y', 'ain', 'aren', \"aren't\", 'couldn', \"couldn't\", 'didn', \"didn't\", 'doesn', \"doesn't\", 'hadn', \"hadn't\", 'hasn', \"hasn't\", 'haven', \"haven't\", 'isn', \"isn't\", 'ma', 'mightn', \"mightn't\", 'mustn', \"mustn't\", 'needn', \"needn't\", 'shan', \"shan't\", 'shouldn', \"shouldn't\", 'wasn', \"wasn't\", 'weren', \"weren't\", 'won', \"won't\", 'wouldn', \"wouldn't\"]\n"
          ]
        },
        {
          "output_type": "stream",
          "name": "stderr",
          "text": [
            "[nltk_data] Downloading package stopwords to /root/nltk_data...\n",
            "[nltk_data]   Package stopwords is already up-to-date!\n"
          ]
        }
      ]
    },
    {
      "cell_type": "code",
      "source": [
        "# 데이터 전처리 함수\n",
        "def preprocess_sentence(sentence, remove_stopwords=True):\n",
        "    sentence = sentence.lower() # 텍스트 소문자화\n",
        "    sentence = BeautifulSoup(sentence, \"lxml\").text # <br />, <a href = ...> 등의 html 태그 제거\n",
        "    sentence = re.sub(r'\\([^)]*\\)', '', sentence) # 괄호로 닫힌 문자열 (...) 제거 Ex) my husband (and myself!) for => my husband for\n",
        "    sentence = re.sub('\"','', sentence) # 쌍따옴표 \" 제거\n",
        "    sentence = ' '.join([contractions[t] if t in contractions else t for t in sentence.split(\" \")]) # 약어 정규화\n",
        "    sentence = re.sub(r\"'s\\b\",\"\", sentence) # 소유격 제거. Ex) roland's -> roland\n",
        "    sentence = re.sub(\"[^a-zA-Z]\", \" \", sentence) # 영어 외 문자(숫자, 특수문자 등) 공백으로 변환\n",
        "    sentence = re.sub('[m]{2,}', 'mm', sentence) # m이 3개 이상이면 2개로 변경. Ex) ummmmmmm yeah -> umm yeah\n",
        "\n",
        "    # 불용어 제거 (Text)\n",
        "    if remove_stopwords:\n",
        "        tokens = ' '.join(word for word in sentence.split() if not word in stopwords.words('english') if len(word) > 1)\n",
        "    # 불용어 미제거 (Summary)\n",
        "    else:\n",
        "        tokens = ' '.join(word for word in sentence.split() if len(word) > 1)\n",
        "    return tokens"
      ],
      "metadata": {
        "id": "zUIrGxMzAq_C"
      },
      "execution_count": 10,
      "outputs": []
    },
    {
      "cell_type": "code",
      "source": [
        "# 전체 Text 데이터에 대한 전처리 : 10분 이상 시간이 걸릴 수 있습니다.\n",
        "clean_text = []\n",
        "\n",
        "for index, item in data.iterrows():\n",
        "    text = preprocess_sentence(item['text'])\n",
        "\n",
        "    clean_text.append(text)\n",
        "\n",
        "# 전처리 후 출력\n",
        "print(\"Text 전처리 후 결과: \", clean_text[:5])"
      ],
      "metadata": {
        "colab": {
          "base_uri": "https://localhost:8080/"
        },
        "id": "LK0HYeXzAwp9",
        "outputId": "bd104fff-ec9d-4211-e2ec-08b76b16f3db"
      },
      "execution_count": 11,
      "outputs": [
        {
          "output_type": "stream",
          "name": "stdout",
          "text": [
            "Text 전처리 후 결과:  ['saurav kant alumnus upgrad iiit pg program machine learning artificial intelligence sr systems engineer infosys almost years work experience program upgrad degree career support helped transition data scientist tech mahindra salary hike upgrad online power learning powered lakh careers', 'kunal shah credit card bill payment platform cred gave users chance win free food swiggy one year pranav kaushik delhi techie bagged reward spending cred coins users get one cred coin per rupee bill paid used avail rewards brands like ixigo bookmyshow ubereats cult fit', 'new zealand defeated india wickets fourth odi hamilton thursday win first match five match odi series india lost international match rohit sharma captaincy consecutive victories dating back march match witnessed india getting seventh lowest total odi cricket history', 'aegon life iterm insurance plan customers enjoy tax benefits premiums paid save taxes plan provides life cover age years also customers options insure critical illnesses disability accidental death benefit rider life cover age years', 'speaking sexual harassment allegations rajkumar hirani sonam kapoor said known hirani many years true metoo movement get derailed metoo movement always believe woman case need reserve judgment added hirani accused assistant worked sanju']\n"
          ]
        }
      ]
    },
    {
      "cell_type": "code",
      "source": [
        "# 전체 Summary 데이터에 대한 전처리 : 5분 이상 시간이 걸릴 수 있습니다.\n",
        "clean_summary = []\n",
        "\n",
        "for index, item in data.iterrows():\n",
        "    summary = preprocess_sentence(item['headlines'], False)\n",
        "\n",
        "    clean_summary.append(summary)\n",
        "\n",
        "print(\"headlines 전처리 후 결과: \", clean_summary[:5])"
      ],
      "metadata": {
        "colab": {
          "base_uri": "https://localhost:8080/"
        },
        "id": "E845L1l2BGy1",
        "outputId": "ce5cc698-5b6b-4a0d-a591-63fc2fb768ea"
      },
      "execution_count": 12,
      "outputs": [
        {
          "output_type": "stream",
          "name": "stderr",
          "text": [
            "<ipython-input-10-1466dbc68293>:4: MarkupResemblesLocatorWarning: The input looks more like a filename than markup. You may want to open this file and pass the filehandle into Beautiful Soup.\n",
            "  sentence = BeautifulSoup(sentence, \"lxml\").text # <br />, <a href = ...> 등의 html 태그 제거\n"
          ]
        },
        {
          "output_type": "stream",
          "name": "stdout",
          "text": [
            "headlines 전처리 후 결과:  ['upgrad learner switches to career in ml al with salary hike', 'delhi techie wins free food from swiggy for one year on cred', 'new zealand end rohit sharma led india match winning streak', 'aegon life iterm insurance plan helps customers save tax', 'have known hirani for yrs what if metoo claims are not true sonam']\n"
          ]
        }
      ]
    },
    {
      "cell_type": "code",
      "source": [
        "data['text'] = clean_text\n",
        "data['headlines'] = clean_summary\n",
        "\n",
        "# 빈 값을 Null 값으로 변환\n",
        "data.replace('', np.nan, inplace=True)\n",
        "print('=3')"
      ],
      "metadata": {
        "colab": {
          "base_uri": "https://localhost:8080/"
        },
        "id": "NeHZXp1XBOYx",
        "outputId": "ac0f335b-f802-4db0-f7df-508e644dd254"
      },
      "execution_count": 13,
      "outputs": [
        {
          "output_type": "stream",
          "name": "stdout",
          "text": [
            "=3\n"
          ]
        }
      ]
    },
    {
      "cell_type": "code",
      "source": [
        "data.isnull().sum()"
      ],
      "metadata": {
        "colab": {
          "base_uri": "https://localhost:8080/"
        },
        "id": "dChKSaz8BUk8",
        "outputId": "8ba73eee-2fd3-4d29-eba2-b5e6c9342241"
      },
      "execution_count": 14,
      "outputs": [
        {
          "output_type": "execute_result",
          "data": {
            "text/plain": [
              "headlines    0\n",
              "text         0\n",
              "dtype: int64"
            ]
          },
          "metadata": {},
          "execution_count": 14
        }
      ]
    },
    {
      "cell_type": "code",
      "source": [
        "data.dropna(axis=0, inplace=True)\n",
        "print('전체 샘플수 :', (len(data)))"
      ],
      "metadata": {
        "colab": {
          "base_uri": "https://localhost:8080/"
        },
        "id": "2-T8yjncBWe9",
        "outputId": "0ef7fa19-9642-4222-9a49-fccfe0c18e0a"
      },
      "execution_count": 15,
      "outputs": [
        {
          "output_type": "stream",
          "name": "stdout",
          "text": [
            "전체 샘플수 : 98401\n"
          ]
        }
      ]
    },
    {
      "cell_type": "code",
      "source": [
        "import matplotlib.pyplot as plt\n",
        "import numpy as np\n",
        "import pandas as pd\n",
        "\n",
        "# 텍스트와 헤드라인의 길이 계산\n",
        "text_len = [len(s.split()) for s in data['text']]\n",
        "headlines_len = [len(s.split()) for s in data['headlines']]  # 'Summary' 대신 'Headlines' 사용\n",
        "\n",
        "# 기본 통계 정보 출력\n",
        "print('텍스트의 최소 길이 : {}'.format(np.min(text_len)))\n",
        "print('텍스트의 최대 길이 : {}'.format(np.max(text_len)))\n",
        "print('텍스트의 평균 길이 : {}'.format(np.mean(text_len)))\n",
        "print('헤드라인의 최소 길이 : {}'.format(np.min(headlines_len)))\n",
        "print('헤드라인의 최대 길이 : {}'.format(np.max(headlines_len)))\n",
        "print('헤드라인의 평균 길이 : {}'.format(np.mean(headlines_len)))\n",
        "\n",
        "# 박스 플롯으로 길이 분포 시각화\n",
        "plt.figure(figsize=(12, 6))\n",
        "plt.subplot(1,2,1)\n",
        "plt.boxplot(text_len)\n",
        "plt.title('Text Length')\n",
        "plt.subplot(1,2,2)\n",
        "plt.boxplot(headlines_len)\n",
        "plt.title('Headlines Length')\n",
        "plt.tight_layout()\n",
        "plt.show()\n",
        "\n",
        "# 히스토그램으로 길이 분포 시각화\n",
        "plt.figure(figsize=(12, 6))\n",
        "plt.subplot(1,2,1)\n",
        "plt.hist(text_len, bins = 40)\n",
        "plt.title('Text Length Distribution')\n",
        "plt.xlabel('Length of Samples')\n",
        "plt.ylabel('Number of Samples')\n",
        "\n",
        "plt.subplot(1,2,2)\n",
        "plt.hist(headlines_len, bins = 40)\n",
        "plt.title('Headlines Length Distribution')\n",
        "plt.xlabel('Length of Samples')\n",
        "plt.ylabel('Number of Samples')\n",
        "plt.show()\n",
        "\n",
        "# 전처리 전\n",
        "# 텍스트의 최소 길이 : 1\n",
        "# 텍스트의 최대 길이 : 91\n",
        "# 텍스트의 평균 길이 : 58.2385341612382\n",
        "# 헤드라인의 최소 길이 : 1\n",
        "# 헤드라인의 최대 길이 : 18\n",
        "# 헤드라인의 평균 길이 : 9.553906972490116\n",
        "\n",
        "# 전처리 후\n",
        "# 텍스트의 최소 길이 : 1\n",
        "# 텍스트의 최대 길이 : 60\n",
        "# 텍스트의 평균 길이 : 35.09983638377659\n",
        "# 헤드라인의 최소 길이 : 1\n",
        "# 헤드라인의 최대 길이 : 16\n",
        "# 헤드라인의 평균 길이 : 9.299651426306644"
      ],
      "metadata": {
        "colab": {
          "base_uri": "https://localhost:8080/",
          "height": 1000
        },
        "id": "VEpb1moh_UsI",
        "outputId": "2885d716-a3dd-4fe0-a7ed-6f8891a1c7fe"
      },
      "execution_count": 16,
      "outputs": [
        {
          "output_type": "stream",
          "name": "stdout",
          "text": [
            "텍스트의 최소 길이 : 1\n",
            "텍스트의 최대 길이 : 60\n",
            "텍스트의 평균 길이 : 35.09983638377659\n",
            "헤드라인의 최소 길이 : 1\n",
            "헤드라인의 최대 길이 : 16\n",
            "헤드라인의 평균 길이 : 9.299651426306644\n"
          ]
        },
        {
          "output_type": "display_data",
          "data": {
            "text/plain": [
              "<Figure size 1200x600 with 2 Axes>"
            ],
            "image/png": "[encoded data removed]"
          },
          "metadata": {}
        },
        {
          "output_type": "display_data",
          "data": {
            "text/plain": [
              "<Figure size 1200x600 with 2 Axes>"
            ],
            "image/png": "[encoded data removed]"
          },
          "metadata": {}
        }
      ]
    },
    {
      "cell_type": "code",
      "source": [
        "text_max_len = 40\n",
        "headlines_max_len = 10\n",
        "print('=3')"
      ],
      "metadata": {
        "colab": {
          "base_uri": "https://localhost:8080/"
        },
        "id": "UBXNTJrVEt5E",
        "outputId": "9368ac6f-d232-4ee3-df2f-48111daf2288"
      },
      "execution_count": 17,
      "outputs": [
        {
          "output_type": "stream",
          "name": "stdout",
          "text": [
            "=3\n"
          ]
        }
      ]
    },
    {
      "cell_type": "code",
      "source": [
        "def below_threshold_len(max_len, nested_list):\n",
        "  cnt = 0\n",
        "  for s in nested_list:\n",
        "    if(len(s.split()) <= max_len):\n",
        "        cnt = cnt + 1\n",
        "  print('전체 샘플 중 길이가 %s 이하인 샘플의 비율: %s'%(max_len, (cnt / len(nested_list))))"
      ],
      "metadata": {
        "id": "qH5MX3OLEylm"
      },
      "execution_count": 18,
      "outputs": []
    },
    {
      "cell_type": "code",
      "source": [
        "below_threshold_len(text_max_len, data['text'])\n",
        "below_threshold_len(headlines_max_len,  data['headlines'])"
      ],
      "metadata": {
        "colab": {
          "base_uri": "https://localhost:8080/"
        },
        "id": "EqhnOtq4E1Qp",
        "outputId": "46bd5ccc-f72b-4c1f-9680-4ba2c3e7a9e8"
      },
      "execution_count": 19,
      "outputs": [
        {
          "output_type": "stream",
          "name": "stdout",
          "text": [
            "전체 샘플 중 길이가 40 이하인 샘플의 비율: 0.9238320748772878\n",
            "전체 샘플 중 길이가 10 이하인 샘플의 비율: 0.8162823548541174\n"
          ]
        }
      ]
    },
    {
      "cell_type": "code",
      "source": [
        "# 길이 조건을 만족하는 샘플만 필터링\n",
        "filtered_data = data.apply(lambda x: len(x['text'].split()) <= text_max_len and len(x['headlines'].split()) <= headlines_max_len, axis=1)\n",
        "data = data[filtered_data]\n",
        "\n",
        "# 결과 확인\n",
        "print('전체 샘플수 :', len(data))\n",
        "\n",
        "# 전체 샘플수 : 74128"
      ],
      "metadata": {
        "colab": {
          "base_uri": "https://localhost:8080/"
        },
        "id": "pIVP0PxHFEVM",
        "outputId": "16b35f53-d790-4e28-e114-94a6238cfa7c"
      },
      "execution_count": 20,
      "outputs": [
        {
          "output_type": "stream",
          "name": "stdout",
          "text": [
            "전체 샘플수 : 74128\n"
          ]
        }
      ]
    },
    {
      "cell_type": "code",
      "source": [
        "# 요약 데이터에는 시작 토큰과 종료 토큰을 추가한다.\n",
        "data['decoder_input'] = data['headlines'].apply(lambda x : 'sostoken '+ x)\n",
        "data['decoder_target'] = data['headlines'].apply(lambda x : x + ' eostoken')\n",
        "data.head()"
      ],
      "metadata": {
        "colab": {
          "base_uri": "https://localhost:8080/",
          "height": 414
        },
        "id": "7UBFUq2dFoDm",
        "outputId": "4347ede9-4469-4cea-fa80-0c9fce52668c"
      },
      "execution_count": 21,
      "outputs": [
        {
          "output_type": "stream",
          "name": "stderr",
          "text": [
            "<ipython-input-21-5f0b0a3a6e34>:2: SettingWithCopyWarning: \n",
            "A value is trying to be set on a copy of a slice from a DataFrame.\n",
            "Try using .loc[row_indexer,col_indexer] = value instead\n",
            "\n",
            "See the caveats in the documentation: https://pandas.pydata.org/pandas-docs/stable/user_guide/indexing.html#returning-a-view-versus-a-copy\n",
            "  data['decoder_input'] = data['headlines'].apply(lambda x : 'sostoken '+ x)\n",
            "<ipython-input-21-5f0b0a3a6e34>:3: SettingWithCopyWarning: \n",
            "A value is trying to be set on a copy of a slice from a DataFrame.\n",
            "Try using .loc[row_indexer,col_indexer] = value instead\n",
            "\n",
            "See the caveats in the documentation: https://pandas.pydata.org/pandas-docs/stable/user_guide/indexing.html#returning-a-view-versus-a-copy\n",
            "  data['decoder_target'] = data['headlines'].apply(lambda x : x + ' eostoken')\n"
          ]
        },
        {
          "output_type": "execute_result",
          "data": {
            "text/plain": [
              "                                            headlines  \\\n",
              "2   new zealand end rohit sharma led india match w...   \n",
              "3   aegon life iterm insurance plan helps customer...   \n",
              "5   rahat fateh ali khan denies getting notice for...   \n",
              "9   cong wins ramgarh bypoll in rajasthan takes to...   \n",
              "10  up cousins fed human excreta for friendship wi...   \n",
              "\n",
              "                                                 text  \\\n",
              "2   new zealand defeated india wickets fourth odi ...   \n",
              "3   aegon life iterm insurance plan customers enjo...   \n",
              "5   pakistani singer rahat fateh ali khan denied r...   \n",
              "9   congress candidate shafia zubair ramgarh assem...   \n",
              "10  two minor cousins uttar pradesh gorakhpur alle...   \n",
              "\n",
              "                                        decoder_input  \\\n",
              "2   sostoken new zealand end rohit sharma led indi...   \n",
              "3   sostoken aegon life iterm insurance plan helps...   \n",
              "5   sostoken rahat fateh ali khan denies getting n...   \n",
              "9   sostoken cong wins ramgarh bypoll in rajasthan...   \n",
              "10  sostoken up cousins fed human excreta for frie...   \n",
              "\n",
              "                                       decoder_target  \n",
              "2   new zealand end rohit sharma led india match w...  \n",
              "3   aegon life iterm insurance plan helps customer...  \n",
              "5   rahat fateh ali khan denies getting notice for...  \n",
              "9   cong wins ramgarh bypoll in rajasthan takes to...  \n",
              "10  up cousins fed human excreta for friendship wi...  "
            ],
            "text/html": [
              "\n",
              "  <div id=\"df-c43eea1e-58b7-4067-a64c-449ab2b61e3a\" class=\"colab-df-container\">\n",
              "    <div>\n",
              "<style scoped>\n",
              "    .dataframe tbody tr th:only-of-type {\n",
              "        vertical-align: middle;\n",
              "    }\n",
              "\n",
              "    .dataframe tbody tr th {\n",
              "        vertical-align: top;\n",
              "    }\n",
              "\n",
              "    .dataframe thead th {\n",
              "        text-align: right;\n",
              "    }\n",
              "</style>\n",
              "<table border=\"1\" class=\"dataframe\">\n",
              "  <thead>\n",
              "    <tr style=\"text-align: right;\">\n",
              "      <th></th>\n",
              "      <th>headlines</th>\n",
              "      <th>text</th>\n",
              "      <th>decoder_input</th>\n",
              "      <th>decoder_target</th>\n",
              "    </tr>\n",
              "  </thead>\n",
              "  <tbody>\n",
              "    <tr>\n",
              "      <th>2</th>\n",
              "      <td>new zealand end rohit sharma led india match w...</td>\n",
              "      <td>new zealand defeated india wickets fourth odi ...</td>\n",
              "      <td>sostoken new zealand end rohit sharma led indi...</td>\n",
              "      <td>new zealand end rohit sharma led india match w...</td>\n",
              "    </tr>\n",
              "    <tr>\n",
              "      <th>3</th>\n",
              "      <td>aegon life iterm insurance plan helps customer...</td>\n",
              "      <td>aegon life iterm insurance plan customers enjo...</td>\n",
              "      <td>sostoken aegon life iterm insurance plan helps...</td>\n",
              "      <td>aegon life iterm insurance plan helps customer...</td>\n",
              "    </tr>\n",
              "    <tr>\n",
              "      <th>5</th>\n",
              "      <td>rahat fateh ali khan denies getting notice for...</td>\n",
              "      <td>pakistani singer rahat fateh ali khan denied r...</td>\n",
              "      <td>sostoken rahat fateh ali khan denies getting n...</td>\n",
              "      <td>rahat fateh ali khan denies getting notice for...</td>\n",
              "    </tr>\n",
              "    <tr>\n",
              "      <th>9</th>\n",
              "      <td>cong wins ramgarh bypoll in rajasthan takes to...</td>\n",
              "      <td>congress candidate shafia zubair ramgarh assem...</td>\n",
              "      <td>sostoken cong wins ramgarh bypoll in rajasthan...</td>\n",
              "      <td>cong wins ramgarh bypoll in rajasthan takes to...</td>\n",
              "    </tr>\n",
              "    <tr>\n",
              "      <th>10</th>\n",
              "      <td>up cousins fed human excreta for friendship wi...</td>\n",
              "      <td>two minor cousins uttar pradesh gorakhpur alle...</td>\n",
              "      <td>sostoken up cousins fed human excreta for frie...</td>\n",
              "      <td>up cousins fed human excreta for friendship wi...</td>\n",
              "    </tr>\n",
              "  </tbody>\n",
              "</table>\n",
              "</div>\n",
              "    <div class=\"colab-df-buttons\">\n",
              "\n",
              "  <div class=\"colab-df-container\">\n",
              "    <button class=\"colab-df-convert\" onclick=\"convertToInteractive('df-c43eea1e-58b7-4067-a64c-449ab2b61e3a')\"\n",
              "            title=\"Convert this dataframe to an interactive table.\"\n",
              "            style=\"display:none;\">\n",
              "\n",
              "  <svg xmlns=\"http://www.w3.org/2000/svg\" height=\"24px\" viewBox=\"0 -960 960 960\">\n",
              "    <path d=\"M120-120v-720h720v720H120Zm60-500h600v-160H180v160Zm220 220h160v-160H400v160Zm0 220h160v-160H400v160ZM180-400h160v-160H180v160Zm440 0h160v-160H620v160ZM180-180h160v-160H180v160Zm440 0h160v-160H620v160Z\"/>\n",
              "  </svg>\n",
              "    </button>\n",
              "\n",
              "  <style>\n",
              "    .colab-df-container {\n",
              "      display:flex;\n",
              "      gap: 12px;\n",
              "    }\n",
              "\n",
              "    .colab-df-convert {\n",
              "      background-color: #E8F0FE;\n",
              "      border: none;\n",
              "      border-radius: 50%;\n",
              "      cursor: pointer;\n",
              "      display: none;\n",
              "      fill: #1967D2;\n",
              "      height: 32px;\n",
              "      padding: 0 0 0 0;\n",
              "      width: 32px;\n",
              "    }\n",
              "\n",
              "    .colab-df-convert:hover {\n",
              "      background-color: #E2EBFA;\n",
              "      box-shadow: 0px 1px 2px rgba(60, 64, 67, 0.3), 0px 1px 3px 1px rgba(60, 64, 67, 0.15);\n",
              "      fill: #174EA6;\n",
              "    }\n",
              "\n",
              "    .colab-df-buttons div {\n",
              "      margin-bottom: 4px;\n",
              "    }\n",
              "\n",
              "    [theme=dark] .colab-df-convert {\n",
              "      background-color: #3B4455;\n",
              "      fill: #D2E3FC;\n",
              "    }\n",
              "\n",
              "    [theme=dark] .colab-df-convert:hover {\n",
              "      background-color: #434B5C;\n",
              "      box-shadow: 0px 1px 3px 1px rgba(0, 0, 0, 0.15);\n",
              "      filter: drop-shadow(0px 1px 2px rgba(0, 0, 0, 0.3));\n",
              "      fill: #FFFFFF;\n",
              "    }\n",
              "  </style>\n",
              "\n",
              "    <script>\n",
              "      const buttonEl =\n",
              "        document.querySelector('#df-c43eea1e-58b7-4067-a64c-449ab2b61e3a button.colab-df-convert');\n",
              "      buttonEl.style.display =\n",
              "        google.colab.kernel.accessAllowed ? 'block' : 'none';\n",
              "\n",
              "      async function convertToInteractive(key) {\n",
              "        const element = document.querySelector('#df-c43eea1e-58b7-4067-a64c-449ab2b61e3a');\n",
              "        const dataTable =\n",
              "          await google.colab.kernel.invokeFunction('convertToInteractive',\n",
              "                                                    [key], {});\n",
              "        if (!dataTable) return;\n",
              "\n",
              "        const docLinkHtml = 'Like what you see? Visit the ' +\n",
              "          '<a target=\"_blank\" href=https://colab.research.google.com/notebooks/data_table.ipynb>data table notebook</a>'\n",
              "          + ' to learn more about interactive tables.';\n",
              "        element.innerHTML = '';\n",
              "        dataTable['output_type'] = 'display_data';\n",
              "        await google.colab.output.renderOutput(dataTable, element);\n",
              "        const docLink = document.createElement('div');\n",
              "        docLink.innerHTML = docLinkHtml;\n",
              "        element.appendChild(docLink);\n",
              "      }\n",
              "    </script>\n",
              "  </div>\n",
              "\n",
              "\n",
              "<div id=\"df-d38bb376-bb8e-43b8-9c91-10572088ef24\">\n",
              "  <button class=\"colab-df-quickchart\" onclick=\"quickchart('df-d38bb376-bb8e-43b8-9c91-10572088ef24')\"\n",
              "            title=\"Suggest charts\"\n",
              "            style=\"display:none;\">\n",
              "\n",
              "<svg xmlns=\"http://www.w3.org/2000/svg\" height=\"24px\"viewBox=\"0 0 24 24\"\n",
              "     width=\"24px\">\n",
              "    <g>\n",
              "        <path d=\"M19 3H5c-1.1 0-2 .9-2 2v14c0 1.1.9 2 2 2h14c1.1 0 2-.9 2-2V5c0-1.1-.9-2-2-2zM9 17H7v-7h2v7zm4 0h-2V7h2v10zm4 0h-2v-4h2v4z\"/>\n",
              "    </g>\n",
              "</svg>\n",
              "  </button>\n",
              "\n",
              "<style>\n",
              "  .colab-df-quickchart {\n",
              "      --bg-color: #E8F0FE;\n",
              "      --fill-color: #1967D2;\n",
              "      --hover-bg-color: #E2EBFA;\n",
              "      --hover-fill-color: #174EA6;\n",
              "      --disabled-fill-color: #AAA;\n",
              "      --disabled-bg-color: #DDD;\n",
              "  }\n",
              "\n",
              "  [theme=dark] .colab-df-quickchart {\n",
              "      --bg-color: #3B4455;\n",
              "      --fill-color: #D2E3FC;\n",
              "      --hover-bg-color: #434B5C;\n",
              "      --hover-fill-color: #FFFFFF;\n",
              "      --disabled-bg-color: #3B4455;\n",
              "      --disabled-fill-color: #666;\n",
              "  }\n",
              "\n",
              "  .colab-df-quickchart {\n",
              "    background-color: var(--bg-color);\n",
              "    border: none;\n",
              "    border-radius: 50%;\n",
              "    cursor: pointer;\n",
              "    display: none;\n",
              "    fill: var(--fill-color);\n",
              "    height: 32px;\n",
              "    padding: 0;\n",
              "    width: 32px;\n",
              "  }\n",
              "\n",
              "  .colab-df-quickchart:hover {\n",
              "    background-color: var(--hover-bg-color);\n",
              "    box-shadow: 0 1px 2px rgba(60, 64, 67, 0.3), 0 1px 3px 1px rgba(60, 64, 67, 0.15);\n",
              "    fill: var(--button-hover-fill-color);\n",
              "  }\n",
              "\n",
              "  .colab-df-quickchart-complete:disabled,\n",
              "  .colab-df-quickchart-complete:disabled:hover {\n",
              "    background-color: var(--disabled-bg-color);\n",
              "    fill: var(--disabled-fill-color);\n",
              "    box-shadow: none;\n",
              "  }\n",
              "\n",
              "  .colab-df-spinner {\n",
              "    border: 2px solid var(--fill-color);\n",
              "    border-color: transparent;\n",
              "    border-bottom-color: var(--fill-color);\n",
              "    animation:\n",
              "      spin 1s steps(1) infinite;\n",
              "  }\n",
              "\n",
              "  @keyframes spin {\n",
              "    0% {\n",
              "      border-color: transparent;\n",
              "      border-bottom-color: var(--fill-color);\n",
              "      border-left-color: var(--fill-color);\n",
              "    }\n",
              "    20% {\n",
              "      border-color: transparent;\n",
              "      border-left-color: var(--fill-color);\n",
              "      border-top-color: var(--fill-color);\n",
              "    }\n",
              "    30% {\n",
              "      border-color: transparent;\n",
              "      border-left-color: var(--fill-color);\n",
              "      border-top-color: var(--fill-color);\n",
              "      border-right-color: var(--fill-color);\n",
              "    }\n",
              "    40% {\n",
              "      border-color: transparent;\n",
              "      border-right-color: var(--fill-color);\n",
              "      border-top-color: var(--fill-color);\n",
              "    }\n",
              "    60% {\n",
              "      border-color: transparent;\n",
              "      border-right-color: var(--fill-color);\n",
              "    }\n",
              "    80% {\n",
              "      border-color: transparent;\n",
              "      border-right-color: var(--fill-color);\n",
              "      border-bottom-color: var(--fill-color);\n",
              "    }\n",
              "    90% {\n",
              "      border-color: transparent;\n",
              "      border-bottom-color: var(--fill-color);\n",
              "    }\n",
              "  }\n",
              "</style>\n",
              "\n",
              "  <script>\n",
              "    async function quickchart(key) {\n",
              "      const quickchartButtonEl =\n",
              "        document.querySelector('#' + key + ' button');\n",
              "      quickchartButtonEl.disabled = true;  // To prevent multiple clicks.\n",
              "      quickchartButtonEl.classList.add('colab-df-spinner');\n",
              "      try {\n",
              "        const charts = await google.colab.kernel.invokeFunction(\n",
              "            'suggestCharts', [key], {});\n",
              "      } catch (error) {\n",
              "        console.error('Error during call to suggestCharts:', error);\n",
              "      }\n",
              "      quickchartButtonEl.classList.remove('colab-df-spinner');\n",
              "      quickchartButtonEl.classList.add('colab-df-quickchart-complete');\n",
              "    }\n",
              "    (() => {\n",
              "      let quickchartButtonEl =\n",
              "        document.querySelector('#df-d38bb376-bb8e-43b8-9c91-10572088ef24 button');\n",
              "      quickchartButtonEl.style.display =\n",
              "        google.colab.kernel.accessAllowed ? 'block' : 'none';\n",
              "    })();\n",
              "  </script>\n",
              "</div>\n",
              "    </div>\n",
              "  </div>\n"
            ]
          },
          "metadata": {},
          "execution_count": 21
        }
      ]
    },
    {
      "cell_type": "code",
      "source": [
        "encoder_input = np.array(data['text']) # 인코더의 입력\n",
        "decoder_input = np.array(data['decoder_input']) # 디코더의 입력\n",
        "decoder_target = np.array(data['decoder_target']) # 디코더의 레이블\n",
        "print('=3')"
      ],
      "metadata": {
        "colab": {
          "base_uri": "https://localhost:8080/"
        },
        "id": "b_6mkXLNFttY",
        "outputId": "842c1a76-754e-4ba6-efd8-8b8f89f6b78e"
      },
      "execution_count": 22,
      "outputs": [
        {
          "output_type": "stream",
          "name": "stdout",
          "text": [
            "=3\n"
          ]
        }
      ]
    },
    {
      "cell_type": "code",
      "source": [
        "indices = np.arange(encoder_input.shape[0])\n",
        "np.random.shuffle(indices)\n",
        "print(indices)"
      ],
      "metadata": {
        "colab": {
          "base_uri": "https://localhost:8080/"
        },
        "id": "gCwuvxGvFwlm",
        "outputId": "ff9fb0a4-9ee3-4004-ed6c-7d2b65178ad4"
      },
      "execution_count": 23,
      "outputs": [
        {
          "output_type": "stream",
          "name": "stdout",
          "text": [
            "[58826 64982 34136 ...   639 43600 43427]\n"
          ]
        }
      ]
    },
    {
      "cell_type": "code",
      "source": [
        "encoder_input = encoder_input[indices]\n",
        "decoder_input = decoder_input[indices]\n",
        "decoder_target = decoder_target[indices]\n",
        "print('=3')"
      ],
      "metadata": {
        "colab": {
          "base_uri": "https://localhost:8080/"
        },
        "id": "Zwv3m_yjFywx",
        "outputId": "39ed2d82-355c-41c0-e54f-a6b4ec65bdfb"
      },
      "execution_count": 24,
      "outputs": [
        {
          "output_type": "stream",
          "name": "stdout",
          "text": [
            "=3\n"
          ]
        }
      ]
    },
    {
      "cell_type": "code",
      "source": [
        "n_of_val = int(len(encoder_input)*0.2)\n",
        "print('테스트 데이터의 수 :', n_of_val)"
      ],
      "metadata": {
        "colab": {
          "base_uri": "https://localhost:8080/"
        },
        "id": "HkaLi3cQF1H5",
        "outputId": "9148300a-a693-45ac-dec3-185e41684a52"
      },
      "execution_count": 25,
      "outputs": [
        {
          "output_type": "stream",
          "name": "stdout",
          "text": [
            "테스트 데이터의 수 : 14825\n"
          ]
        }
      ]
    },
    {
      "cell_type": "code",
      "source": [
        "encoder_input_train = encoder_input[:-n_of_val]\n",
        "decoder_input_train = decoder_input[:-n_of_val]\n",
        "decoder_target_train = decoder_target[:-n_of_val]\n",
        "\n",
        "encoder_input_test = encoder_input[-n_of_val:]\n",
        "decoder_input_test = decoder_input[-n_of_val:]\n",
        "decoder_target_test = decoder_target[-n_of_val:]\n",
        "\n",
        "print('훈련 데이터의 개수 :', len(encoder_input_train))\n",
        "print('훈련 레이블의 개수 :', len(decoder_input_train))\n",
        "print('테스트 데이터의 개수 :', len(encoder_input_test))\n",
        "print('테스트 레이블의 개수 :', len(decoder_input_test))"
      ],
      "metadata": {
        "colab": {
          "base_uri": "https://localhost:8080/"
        },
        "id": "_z0bmIIUF2no",
        "outputId": "ea4fe668-e180-4be5-dbd8-ad25035cf34b"
      },
      "execution_count": 26,
      "outputs": [
        {
          "output_type": "stream",
          "name": "stdout",
          "text": [
            "훈련 데이터의 개수 : 59303\n",
            "훈련 레이블의 개수 : 59303\n",
            "테스트 데이터의 개수 : 14825\n",
            "테스트 레이블의 개수 : 14825\n"
          ]
        }
      ]
    },
    {
      "cell_type": "code",
      "source": [
        "decoder_input_test[:3]"
      ],
      "metadata": {
        "colab": {
          "base_uri": "https://localhost:8080/"
        },
        "id": "isfqWU7QJsMQ",
        "outputId": "5e82785d-762e-44e8-9598-7b359c2f7ea7"
      },
      "execution_count": 27,
      "outputs": [
        {
          "output_type": "execute_result",
          "data": {
            "text/plain": [
              "array(['sostoken insect eyes inspire new solar cell design',\n",
              "       'sostoken nasa announces landing site for its mars rover',\n",
              "       'sostoken after cancelling flights ryanair cancels more'],\n",
              "      dtype=object)"
            ]
          },
          "metadata": {},
          "execution_count": 27
        }
      ]
    },
    {
      "cell_type": "code",
      "source": [
        "src_tokenizer = Tokenizer() # 토크나이저 정의\n",
        "src_tokenizer.fit_on_texts(encoder_input_train) # 입력된 데이터로부터 단어 집합 생성\n",
        "print('=3')"
      ],
      "metadata": {
        "colab": {
          "base_uri": "https://localhost:8080/"
        },
        "id": "odZ89eMHF5k8",
        "outputId": "0734c673-1fe2-44b4-e114-0eaa6a704d7c"
      },
      "execution_count": 28,
      "outputs": [
        {
          "output_type": "stream",
          "name": "stdout",
          "text": [
            "=3\n"
          ]
        }
      ]
    },
    {
      "cell_type": "code",
      "source": [
        "threshold = 7\n",
        "total_cnt = len(src_tokenizer.word_index) # 단어의 수\n",
        "rare_cnt = 0 # 등장 빈도수가 threshold보다 작은 단어의 개수를 카운트\n",
        "total_freq = 0 # 훈련 데이터의 전체 단어 빈도수 총 합\n",
        "rare_freq = 0 # 등장 빈도수가 threshold보다 작은 단어의 등장 빈도수의 총 합\n",
        "\n",
        "# 단어와 빈도수의 쌍(pair)을 key와 value로 받는다.\n",
        "for key, value in src_tokenizer.word_counts.items():\n",
        "    total_freq = total_freq + value\n",
        "\n",
        "    # 단어의 등장 빈도수가 threshold보다 작으면\n",
        "    if(value < threshold):\n",
        "        rare_cnt = rare_cnt + 1\n",
        "        rare_freq = rare_freq + value\n",
        "\n",
        "print('단어 집합(vocabulary)의 크기 :', total_cnt)\n",
        "print('등장 빈도가 %s번 이하인 희귀 단어의 수: %s'%(threshold - 1, rare_cnt))\n",
        "print('단어 집합에서 희귀 단어를 제외시킬 경우의 단어 집합의 크기 %s'%(total_cnt - rare_cnt))\n",
        "print(\"단어 집합에서 희귀 단어의 비율:\", (rare_cnt / total_cnt)*100)\n",
        "print(\"전체 등장 빈도에서 희귀 단어 등장 빈도 비율:\", (rare_freq / total_freq)*100)"
      ],
      "metadata": {
        "colab": {
          "base_uri": "https://localhost:8080/"
        },
        "id": "aiotAnM5F7nl",
        "outputId": "2fcf1511-e55b-451a-b2b5-e56bc853e95e"
      },
      "execution_count": 29,
      "outputs": [
        {
          "output_type": "stream",
          "name": "stdout",
          "text": [
            "단어 집합(vocabulary)의 크기 : 61569\n",
            "등장 빈도가 6번 이하인 희귀 단어의 수: 42218\n",
            "단어 집합에서 희귀 단어를 제외시킬 경우의 단어 집합의 크기 19351\n",
            "단어 집합에서 희귀 단어의 비율: 68.57022202731893\n",
            "전체 등장 빈도에서 희귀 단어 등장 빈도 비율: 4.183453633835894\n"
          ]
        }
      ]
    },
    {
      "cell_type": "code",
      "source": [
        "src_vocab = 20000\n",
        "src_tokenizer = Tokenizer(num_words=src_vocab) # 단어 집합의 크기를 8,000으로 제한\n",
        "src_tokenizer.fit_on_texts(encoder_input_train) # 단어 집합 재생성\n",
        "print('=3')"
      ],
      "metadata": {
        "colab": {
          "base_uri": "https://localhost:8080/"
        },
        "id": "UJk6R9lyGOb3",
        "outputId": "55726662-f88f-4862-8db5-7f4eff3511ea"
      },
      "execution_count": 30,
      "outputs": [
        {
          "output_type": "stream",
          "name": "stdout",
          "text": [
            "=3\n"
          ]
        }
      ]
    },
    {
      "cell_type": "code",
      "source": [
        "# 텍스트 시퀀스를 정수 시퀀스로 변환\n",
        "encoder_input_train = src_tokenizer.texts_to_sequences(encoder_input_train)\n",
        "encoder_input_test = src_tokenizer.texts_to_sequences(encoder_input_test)\n",
        "\n",
        "# 잘 진행되었는지 샘플 출력\n",
        "print(encoder_input_train[:3])"
      ],
      "metadata": {
        "colab": {
          "base_uri": "https://localhost:8080/"
        },
        "id": "j6raLWSnGTHT",
        "outputId": "371da571-5004-464c-c4ab-db76a66981f5"
      },
      "execution_count": 31,
      "outputs": [
        {
          "output_type": "stream",
          "name": "stdout",
          "text": [
            "[[304, 9, 56, 1501, 420, 655, 50, 14, 2161, 1792, 6766, 679, 2475, 1378, 20, 9768, 5745, 2257, 581, 14, 7804, 179, 1, 680, 1018, 9041, 5985, 126, 276, 1196, 50, 14, 4673, 4011, 360], [8659, 327, 1423, 883, 4850, 5986, 3362, 210, 2485, 1534, 11317, 692, 611, 1324, 8659, 6439, 327, 752, 2598, 948, 2, 238, 18005, 2635, 314, 327, 7805, 5986, 270, 10957, 15913, 5040], [11, 104, 240, 18006, 2056, 73, 53, 91, 1735, 7, 27, 2056, 240, 1135, 2191, 147, 11717, 1157, 2606, 10304, 5825, 773, 10030, 8660, 7, 1003, 11, 34, 58, 4276, 10304, 5825, 1570, 3035]]\n"
          ]
        }
      ]
    },
    {
      "cell_type": "code",
      "source": [
        "tar_tokenizer = Tokenizer()\n",
        "tar_tokenizer.fit_on_texts(decoder_input_train)\n",
        "print('=3')"
      ],
      "metadata": {
        "colab": {
          "base_uri": "https://localhost:8080/"
        },
        "id": "-cm62Y0FGVNS",
        "outputId": "b9e5ef7f-5fff-4e0b-d7be-24ca954dd784"
      },
      "execution_count": 32,
      "outputs": [
        {
          "output_type": "stream",
          "name": "stdout",
          "text": [
            "=3\n"
          ]
        }
      ]
    },
    {
      "cell_type": "code",
      "source": [
        "threshold = 6\n",
        "total_cnt = len(tar_tokenizer.word_index) # 단어의 수\n",
        "rare_cnt = 0 # 등장 빈도수가 threshold보다 작은 단어의 개수를 카운트\n",
        "total_freq = 0 # 훈련 데이터의 전체 단어 빈도수 총 합\n",
        "rare_freq = 0 # 등장 빈도수가 threshold보다 작은 단어의 등장 빈도수의 총 합\n",
        "\n",
        "# 단어와 빈도수의 쌍(pair)을 key와 value로 받는다.\n",
        "for key, value in tar_tokenizer.word_counts.items():\n",
        "    total_freq = total_freq + value\n",
        "\n",
        "    # 단어의 등장 빈도수가 threshold보다 작으면\n",
        "    if(value < threshold):\n",
        "        rare_cnt = rare_cnt + 1\n",
        "        rare_freq = rare_freq + value\n",
        "\n",
        "print('단어 집합(vocabulary)의 크기 :', total_cnt)\n",
        "print('등장 빈도가 %s번 이하인 희귀 단어의 수: %s'%(threshold - 1, rare_cnt))\n",
        "print('단어 집합에서 희귀 단어를 제외시킬 경우의 단어 집합의 크기 %s'%(total_cnt - rare_cnt))\n",
        "print(\"단어 집합에서 희귀 단어의 비율:\", (rare_cnt / total_cnt)*100)\n",
        "print(\"전체 등장 빈도에서 희귀 단어 등장 빈도 비율:\", (rare_freq / total_freq)*100)"
      ],
      "metadata": {
        "colab": {
          "base_uri": "https://localhost:8080/"
        },
        "id": "jkwDlix_GX68",
        "outputId": "b5ed0e2f-fca4-442f-e28a-e70a4aba9ceb"
      },
      "execution_count": 33,
      "outputs": [
        {
          "output_type": "stream",
          "name": "stdout",
          "text": [
            "단어 집합(vocabulary)의 크기 : 27329\n",
            "등장 빈도가 5번 이하인 희귀 단어의 수: 18235\n",
            "단어 집합에서 희귀 단어를 제외시킬 경우의 단어 집합의 크기 9094\n",
            "단어 집합에서 희귀 단어의 비율: 66.72399282813129\n",
            "전체 등장 빈도에서 희귀 단어 등장 빈도 비율: 5.959584349100092\n"
          ]
        }
      ]
    },
    {
      "cell_type": "code",
      "source": [
        "tar_vocab = 9000\n",
        "tar_tokenizer = Tokenizer(num_words=tar_vocab)\n",
        "tar_tokenizer.fit_on_texts(decoder_input_train)\n",
        "tar_tokenizer.fit_on_texts(decoder_target_train)\n",
        "\n",
        "# 텍스트 시퀀스를 정수 시퀀스로 변환\n",
        "decoder_input_train = tar_tokenizer.texts_to_sequences(decoder_input_train)\n",
        "decoder_target_train = tar_tokenizer.texts_to_sequences(decoder_target_train)\n",
        "decoder_input_test = tar_tokenizer.texts_to_sequences(decoder_input_test)\n",
        "decoder_target_test = tar_tokenizer.texts_to_sequences(decoder_target_test)\n",
        "\n",
        "# 잘 변환되었는지 확인\n",
        "print('input')\n",
        "print('input ',decoder_input_train[:5])\n",
        "print('target')\n",
        "print('decoder ',decoder_target_train[:5])"
      ],
      "metadata": {
        "colab": {
          "base_uri": "https://localhost:8080/"
        },
        "id": "X67ebtPpGbK_",
        "outputId": "3494792b-2fed-460a-86cb-69e1e94d69b8"
      },
      "execution_count": 34,
      "outputs": [
        {
          "output_type": "stream",
          "name": "stdout",
          "text": [
            "input\n",
            "input  [[1, 207, 1039, 845, 2963, 5, 3117, 5397], [1, 37, 391, 8223, 3, 3839, 1535, 796, 2340], [1, 2650, 52, 5732, 5398, 4304, 11, 236, 567, 60], [1, 4879, 1882, 3118, 6, 223, 7537], [1, 919, 8, 486, 1008, 164, 87, 971, 1381, 3, 1515]]\n",
            "target\n",
            "decoder  [[207, 1039, 845, 2963, 5, 3117, 5397, 2], [37, 391, 8223, 3, 3839, 1535, 796, 2340, 2], [2650, 52, 5732, 5398, 4304, 11, 236, 567, 60, 2], [4879, 1882, 3118, 6, 223, 7537, 2], [919, 8, 486, 1008, 164, 87, 971, 1381, 3, 1515, 2]]\n"
          ]
        }
      ]
    },
    {
      "cell_type": "code",
      "source": [
        "drop_train = [index for index, sentence in enumerate(decoder_input_train) if len(sentence) == 1]\n",
        "drop_test = [index for index, sentence in enumerate(decoder_input_test) if len(sentence) == 1]\n",
        "\n",
        "print('삭제할 훈련 데이터의 개수 :', len(drop_train))\n",
        "print('삭제할 테스트 데이터의 개수 :', len(drop_test))\n",
        "\n",
        "encoder_input_train = [sentence for index, sentence in enumerate(encoder_input_train) if index not in drop_train]\n",
        "decoder_input_train = [sentence for index, sentence in enumerate(decoder_input_train) if index not in drop_train]\n",
        "decoder_target_train = [sentence for index, sentence in enumerate(decoder_target_train) if index not in drop_train]\n",
        "\n",
        "encoder_input_test = [sentence for index, sentence in enumerate(encoder_input_test) if index not in drop_test]\n",
        "decoder_input_test = [sentence for index, sentence in enumerate(decoder_input_test) if index not in drop_test]\n",
        "decoder_target_test = [sentence for index, sentence in enumerate(decoder_target_test) if index not in drop_test]\n",
        "\n",
        "print('훈련 데이터의 개수 :', len(encoder_input_train))\n",
        "print('훈련 레이블의 개수 :', len(decoder_input_train))\n",
        "print('테스트 데이터의 개수 :', len(encoder_input_test))\n",
        "print('테스트 레이블의 개수 :', len(decoder_input_test))"
      ],
      "metadata": {
        "colab": {
          "base_uri": "https://localhost:8080/"
        },
        "id": "_jJ_iqObGfJs",
        "outputId": "68e697e2-64b1-4efe-a866-5e78d0d24af1"
      },
      "execution_count": 35,
      "outputs": [
        {
          "output_type": "stream",
          "name": "stdout",
          "text": [
            "삭제할 훈련 데이터의 개수 : 0\n",
            "삭제할 테스트 데이터의 개수 : 0\n",
            "훈련 데이터의 개수 : 59303\n",
            "훈련 레이블의 개수 : 59303\n",
            "테스트 데이터의 개수 : 14825\n",
            "테스트 레이블의 개수 : 14825\n"
          ]
        }
      ]
    },
    {
      "cell_type": "code",
      "source": [
        "encoder_input_train = pad_sequences(encoder_input_train, maxlen=text_max_len, padding='post')\n",
        "encoder_input_test = pad_sequences(encoder_input_test, maxlen=text_max_len, padding='post')\n",
        "decoder_input_train = pad_sequences(decoder_input_train, maxlen=headlines_max_len, padding='post')\n",
        "decoder_target_train = pad_sequences(decoder_target_train, maxlen=headlines_max_len, padding='post')\n",
        "decoder_input_test = pad_sequences(decoder_input_test, maxlen=headlines_max_len, padding='post')\n",
        "decoder_target_test = pad_sequences(decoder_target_test, maxlen=headlines_max_len, padding='post')\n",
        "print('=3')"
      ],
      "metadata": {
        "colab": {
          "base_uri": "https://localhost:8080/"
        },
        "id": "60O5LxeUGkP3",
        "outputId": "b7524647-98bc-419e-aa6c-2527f73f6a0c"
      },
      "execution_count": 37,
      "outputs": [
        {
          "output_type": "stream",
          "name": "stdout",
          "text": [
            "=3\n"
          ]
        }
      ]
    },
    {
      "cell_type": "markdown",
      "source": [
        "## Step 3. 어텐션 메커니즘 사용하기 (추상적 요약)\n",
        "일반적인 seq2seq보다는 어텐션 메커니즘을 사용한 seq2seq를 사용하는 것이 더 나은 성능을 얻을 수 있어요. 실습 내용을 참고하여 어텐션 메커니즘을 사용한 seq2seq를 설계해 보세요."
      ],
      "metadata": {
        "id": "0DHJbnPbez_z"
      }
    },
    {
      "cell_type": "code",
      "source": [
        "from tensorflow.keras.layers import Input, LSTM, Embedding, Dense, Concatenate, TimeDistributed\n",
        "from tensorflow.keras.models import Model\n",
        "from tensorflow.keras.callbacks import EarlyStopping, ModelCheckpoint\n",
        "\n",
        "\n",
        "# 인코더 설계 시작\n",
        "embedding_dim = 128\n",
        "hidden_size = 256\n",
        "\n",
        "# 인코더\n",
        "encoder_inputs = Input(shape=(text_max_len,))\n",
        "\n",
        "# 인코더의 임베딩 층\n",
        "enc_emb = Embedding(src_vocab, embedding_dim)(encoder_inputs)\n",
        "\n",
        "# 인코더의 LSTM 1\n",
        "# encoder_lstm1 = LSTM(hidden_size, return_sequences=True, return_state=True ,dropout = 0.4, recurrent_dropout = 0.4)\n",
        "encoder_lstm1 = LSTM(hidden_size, return_sequences=True, return_state=True ,dropout = 0.4)\n",
        "encoder_output1, state_h1, state_c1 = encoder_lstm1(enc_emb)\n",
        "\n",
        "# 인코더의 LSTM 2\n",
        "encoder_lstm2 = LSTM(hidden_size, return_sequences=True, return_state=True, dropout=0.4)\n",
        "encoder_output2, state_h2, state_c2 = encoder_lstm2(encoder_output1)\n",
        "\n",
        "# 인코더의 LSTM 3\n",
        "encoder_lstm3 = LSTM(hidden_size, return_sequences=True, return_state=True, dropout=0.4)\n",
        "encoder_output3, state_h3, state_c3 = encoder_lstm3(encoder_output2)"
      ],
      "metadata": {
        "id": "aW1LPoDWHIUx"
      },
      "execution_count": 38,
      "outputs": []
    },
    {
      "cell_type": "code",
      "source": [
        "# 디코더 설계\n",
        "decoder_inputs = Input(shape=(None,))\n",
        "\n",
        "# 디코더의 임베딩 층\n",
        "dec_emb_layer = Embedding(tar_vocab, embedding_dim)\n",
        "dec_emb = dec_emb_layer(decoder_inputs)\n",
        "\n",
        "# 디코더의 LSTM\n",
        "# decoder_lstm = LSTM(hidden_size, return_sequences=True, return_state=True, dropout=0.4, recurrent_dropout=0.2)\n",
        "decoder_lstm = LSTM(hidden_size, return_sequences=True, return_state=True, dropout=0.4)\n",
        "decoder_outputs, _, _ = decoder_lstm(dec_emb, initial_state=[state_h3, state_c3])"
      ],
      "metadata": {
        "id": "6R8iIpeMHYCK"
      },
      "execution_count": 39,
      "outputs": []
    },
    {
      "cell_type": "code",
      "source": [
        "from tensorflow.keras.layers import AdditiveAttention\n",
        "\n",
        "# 어텐션 층(어텐션 함수)\n",
        "attn_layer = AdditiveAttention(name='attention_layer')\n",
        "\n",
        "# 인코더와 디코더의 모든 time step의 hidden state를 어텐션 층에 전달하고 결과를 리턴\n",
        "attn_out = attn_layer([decoder_outputs, encoder_output3])\n",
        "\n",
        "# 어텐션의 결과와 디코더의 hidden state들을 연결\n",
        "decoder_concat_input = Concatenate(axis=-1, name='concat_layer')([decoder_outputs, attn_out])\n",
        "\n",
        "# 디코더의 출력층\n",
        "decoder_softmax_layer = Dense(tar_vocab, activation='softmax')\n",
        "decoder_softmax_outputs = decoder_softmax_layer(decoder_concat_input)\n",
        "\n",
        "# 모델 정의\n",
        "model = Model([encoder_inputs, decoder_inputs], decoder_softmax_outputs)\n",
        "model.summary()\n"
      ],
      "metadata": {
        "colab": {
          "base_uri": "https://localhost:8080/"
        },
        "id": "X0oGrspCHUCE",
        "outputId": "b2c2fdfd-1962-49a0-ec32-f8440530c4b5"
      },
      "execution_count": 40,
      "outputs": [
        {
          "output_type": "stream",
          "name": "stdout",
          "text": [
            "Model: \"model\"\n",
            "__________________________________________________________________________________________________\n",
            " Layer (type)                Output Shape                 Param #   Connected to                  \n",
            "==================================================================================================\n",
            " input_1 (InputLayer)        [(None, 40)]                 0         []                            \n",
            "                                                                                                  \n",
            " embedding (Embedding)       (None, 40, 128)              2560000   ['input_1[0][0]']             \n",
            "                                                                                                  \n",
            " lstm (LSTM)                 [(None, 40, 256),            394240    ['embedding[0][0]']           \n",
            "                              (None, 256),                                                        \n",
            "                              (None, 256)]                                                        \n",
            "                                                                                                  \n",
            " input_2 (InputLayer)        [(None, None)]               0         []                            \n",
            "                                                                                                  \n",
            " lstm_1 (LSTM)               [(None, 40, 256),            525312    ['lstm[0][0]']                \n",
            "                              (None, 256),                                                        \n",
            "                              (None, 256)]                                                        \n",
            "                                                                                                  \n",
            " embedding_1 (Embedding)     (None, None, 128)            1152000   ['input_2[0][0]']             \n",
            "                                                                                                  \n",
            " lstm_2 (LSTM)               [(None, 40, 256),            525312    ['lstm_1[0][0]']              \n",
            "                              (None, 256),                                                        \n",
            "                              (None, 256)]                                                        \n",
            "                                                                                                  \n",
            " lstm_3 (LSTM)               [(None, None, 256),          394240    ['embedding_1[0][0]',         \n",
            "                              (None, 256),                           'lstm_2[0][1]',              \n",
            "                              (None, 256)]                           'lstm_2[0][2]']              \n",
            "                                                                                                  \n",
            " attention_layer (AdditiveA  (None, None, 256)            256       ['lstm_3[0][0]',              \n",
            " ttention)                                                           'lstm_2[0][0]']              \n",
            "                                                                                                  \n",
            " concat_layer (Concatenate)  (None, None, 512)            0         ['lstm_3[0][0]',              \n",
            "                                                                     'attention_layer[0][0]']     \n",
            "                                                                                                  \n",
            " dense (Dense)               (None, None, 9000)           4617000   ['concat_layer[0][0]']        \n",
            "                                                                                                  \n",
            "==================================================================================================\n",
            "Total params: 10168360 (38.79 MB)\n",
            "Trainable params: 10168360 (38.79 MB)\n",
            "Non-trainable params: 0 (0.00 Byte)\n",
            "__________________________________________________________________________________________________\n"
          ]
        }
      ]
    },
    {
      "cell_type": "code",
      "source": [
        "model.compile(optimizer='rmsprop', loss='sparse_categorical_crossentropy')\n",
        "es = EarlyStopping(monitor='val_loss', patience=2, verbose=1)\n",
        "history = model.fit(x=[encoder_input_train, decoder_input_train], y=decoder_target_train, \\\n",
        "          validation_data=([encoder_input_test, decoder_input_test], decoder_target_test), \\\n",
        "          batch_size=256, callbacks=[es], epochs=50)"
      ],
      "metadata": {
        "colab": {
          "base_uri": "https://localhost:8080/"
        },
        "id": "EvlcL3bQHdB7",
        "outputId": "d834458e-8d9b-4274-a792-52bb6166c1a5"
      },
      "execution_count": 41,
      "outputs": [
        {
          "output_type": "stream",
          "name": "stdout",
          "text": [
            "Epoch 1/50\n",
            "232/232 [==============================] - 39s 108ms/step - loss: 6.5737 - val_loss: 6.2287\n",
            "Epoch 2/50\n",
            "232/232 [==============================] - 20s 85ms/step - loss: 6.2260 - val_loss: 6.1424\n",
            "Epoch 3/50\n",
            "232/232 [==============================] - 19s 83ms/step - loss: 6.1779 - val_loss: 6.1170\n",
            "Epoch 4/50\n",
            "232/232 [==============================] - 20s 86ms/step - loss: 6.1122 - val_loss: 6.0318\n",
            "Epoch 5/50\n",
            "232/232 [==============================] - 19s 84ms/step - loss: 6.0420 - val_loss: 5.9886\n",
            "Epoch 6/50\n",
            "232/232 [==============================] - 20s 86ms/step - loss: 5.9784 - val_loss: 5.9243\n",
            "Epoch 7/50\n",
            "232/232 [==============================] - 20s 87ms/step - loss: 5.8581 - val_loss: 5.7832\n",
            "Epoch 8/50\n",
            "232/232 [==============================] - 21s 89ms/step - loss: 5.7469 - val_loss: 5.6944\n",
            "Epoch 9/50\n",
            "232/232 [==============================] - 20s 88ms/step - loss: 5.6595 - val_loss: 5.6184\n",
            "Epoch 10/50\n",
            "232/232 [==============================] - 20s 88ms/step - loss: 5.5692 - val_loss: 5.5270\n",
            "Epoch 11/50\n",
            "232/232 [==============================] - 20s 87ms/step - loss: 5.4586 - val_loss: 5.4358\n",
            "Epoch 12/50\n",
            "232/232 [==============================] - 20s 88ms/step - loss: 5.3522 - val_loss: 5.3489\n",
            "Epoch 13/50\n",
            "232/232 [==============================] - 20s 88ms/step - loss: 5.2510 - val_loss: 5.2618\n",
            "Epoch 14/50\n",
            "232/232 [==============================] - 20s 88ms/step - loss: 5.1604 - val_loss: 5.2034\n",
            "Epoch 15/50\n",
            "232/232 [==============================] - 20s 88ms/step - loss: 5.0772 - val_loss: 5.1487\n",
            "Epoch 16/50\n",
            "232/232 [==============================] - 21s 89ms/step - loss: 4.9979 - val_loss: 5.0841\n",
            "Epoch 17/50\n",
            "232/232 [==============================] - 20s 88ms/step - loss: 4.9156 - val_loss: 5.0328\n",
            "Epoch 18/50\n",
            "232/232 [==============================] - 21s 89ms/step - loss: 4.8357 - val_loss: 4.9882\n",
            "Epoch 19/50\n",
            "232/232 [==============================] - 20s 88ms/step - loss: 4.7636 - val_loss: 4.9393\n",
            "Epoch 20/50\n",
            "232/232 [==============================] - 20s 88ms/step - loss: 4.6947 - val_loss: 4.8859\n",
            "Epoch 21/50\n",
            "232/232 [==============================] - 20s 88ms/step - loss: 4.6253 - val_loss: 4.8433\n",
            "Epoch 22/50\n",
            "232/232 [==============================] - 20s 88ms/step - loss: 4.5579 - val_loss: 4.8062\n",
            "Epoch 23/50\n",
            "232/232 [==============================] - 21s 88ms/step - loss: 4.4912 - val_loss: 4.7688\n",
            "Epoch 24/50\n",
            "232/232 [==============================] - 21s 89ms/step - loss: 4.4258 - val_loss: 4.7322\n",
            "Epoch 25/50\n",
            "232/232 [==============================] - 21s 89ms/step - loss: 4.3613 - val_loss: 4.6913\n",
            "Epoch 26/50\n",
            "232/232 [==============================] - 21s 90ms/step - loss: 4.2987 - val_loss: 4.6585\n",
            "Epoch 27/50\n",
            "232/232 [==============================] - 21s 90ms/step - loss: 4.2394 - val_loss: 4.6271\n",
            "Epoch 28/50\n",
            "232/232 [==============================] - 21s 89ms/step - loss: 4.1818 - val_loss: 4.5980\n",
            "Epoch 29/50\n",
            "232/232 [==============================] - 21s 89ms/step - loss: 4.1257 - val_loss: 4.5720\n",
            "Epoch 30/50\n",
            "232/232 [==============================] - 21s 89ms/step - loss: 4.0694 - val_loss: 4.5606\n",
            "Epoch 31/50\n",
            "232/232 [==============================] - 21s 89ms/step - loss: 4.0173 - val_loss: 4.5265\n",
            "Epoch 32/50\n",
            "232/232 [==============================] - 21s 90ms/step - loss: 3.9650 - val_loss: 4.4985\n",
            "Epoch 33/50\n",
            "232/232 [==============================] - 21s 90ms/step - loss: 3.9149 - val_loss: 4.4835\n",
            "Epoch 34/50\n",
            "232/232 [==============================] - 21s 89ms/step - loss: 3.8653 - val_loss: 4.4639\n",
            "Epoch 35/50\n",
            "232/232 [==============================] - 21s 89ms/step - loss: 3.8183 - val_loss: 4.4502\n",
            "Epoch 36/50\n",
            "232/232 [==============================] - 21s 89ms/step - loss: 3.7725 - val_loss: 4.4318\n",
            "Epoch 37/50\n",
            "232/232 [==============================] - 21s 89ms/step - loss: 3.7277 - val_loss: 4.4209\n",
            "Epoch 38/50\n",
            "232/232 [==============================] - 20s 88ms/step - loss: 3.6846 - val_loss: 4.4091\n",
            "Epoch 39/50\n",
            "232/232 [==============================] - 20s 88ms/step - loss: 3.6422 - val_loss: 4.4043\n",
            "Epoch 40/50\n",
            "232/232 [==============================] - 21s 89ms/step - loss: 3.6016 - val_loss: 4.3947\n",
            "Epoch 41/50\n",
            "232/232 [==============================] - 20s 88ms/step - loss: 3.5601 - val_loss: 4.3777\n",
            "Epoch 42/50\n",
            "232/232 [==============================] - 21s 89ms/step - loss: 3.5217 - val_loss: 4.3676\n",
            "Epoch 43/50\n",
            "232/232 [==============================] - 21s 89ms/step - loss: 3.4834 - val_loss: 4.3591\n",
            "Epoch 44/50\n",
            "232/232 [==============================] - 21s 89ms/step - loss: 3.4463 - val_loss: 4.3545\n",
            "Epoch 45/50\n",
            "232/232 [==============================] - 21s 88ms/step - loss: 3.4096 - val_loss: 4.3486\n",
            "Epoch 46/50\n",
            "232/232 [==============================] - 20s 88ms/step - loss: 3.3732 - val_loss: 4.3444\n",
            "Epoch 47/50\n",
            "232/232 [==============================] - 20s 88ms/step - loss: 3.3387 - val_loss: 4.3390\n",
            "Epoch 48/50\n",
            "232/232 [==============================] - 20s 88ms/step - loss: 3.3063 - val_loss: 4.3368\n",
            "Epoch 49/50\n",
            "232/232 [==============================] - 20s 88ms/step - loss: 3.2717 - val_loss: 4.3329\n",
            "Epoch 50/50\n",
            "232/232 [==============================] - 21s 89ms/step - loss: 3.2388 - val_loss: 4.3335\n"
          ]
        }
      ]
    },
    {
      "cell_type": "code",
      "source": [
        "plt.plot(history.history['loss'], label='train')\n",
        "plt.plot(history.history['val_loss'], label='test')\n",
        "plt.legend()\n",
        "plt.show()"
      ],
      "metadata": {
        "colab": {
          "base_uri": "https://localhost:8080/",
          "height": 430
        },
        "id": "1zQ9tEh7HgBp",
        "outputId": "1eda7f45-ad4d-4f3a-f6c1-0a19758c8cc5"
      },
      "execution_count": 42,
      "outputs": [
        {
          "output_type": "display_data",
          "data": {
            "text/plain": [
              "<Figure size 640x480 with 1 Axes>"
            ],
            "image/png": "[encoded data removed]"
          },
          "metadata": {}
        }
      ]
    },
    {
      "cell_type": "code",
      "source": [
        "src_index_to_word = src_tokenizer.index_word # 원문 단어 집합에서 정수 -> 단어를 얻음\n",
        "tar_word_to_index = tar_tokenizer.word_index # 요약 단어 집합에서 단어 -> 정수를 얻음\n",
        "tar_index_to_word = tar_tokenizer.index_word # 요약 단어 집합에서 정수 -> 단어를 얻음\n",
        "\n",
        "print('=3')"
      ],
      "metadata": {
        "colab": {
          "base_uri": "https://localhost:8080/"
        },
        "id": "-mtrwIP8HmD-",
        "outputId": "28e93e3f-7f01-4204-def4-76d3bb016605"
      },
      "execution_count": 43,
      "outputs": [
        {
          "output_type": "stream",
          "name": "stdout",
          "text": [
            "=3\n"
          ]
        }
      ]
    },
    {
      "cell_type": "code",
      "source": [
        "# 인코더 설계\n",
        "encoder_model = Model(inputs=encoder_inputs, outputs=[encoder_output3, state_h3, state_c3])\n",
        "\n",
        "# 이전 시점의 상태들을 저장하는 텐서\n",
        "decoder_state_input_h = Input(shape=(hidden_size,))\n",
        "decoder_state_input_c = Input(shape=(hidden_size,))\n",
        "\n",
        "dec_emb2 = dec_emb_layer(decoder_inputs)\n",
        "\n",
        "# 문장의 다음 단어를 예측하기 위해서 초기 상태(initial_state)를 이전 시점의 상태로 사용. 이는 뒤의 함수 decode_sequence()에 구현\n",
        "# 훈련 과정에서와 달리 LSTM의 리턴하는 은닉 상태와 셀 상태인 state_h와 state_c를 버리지 않음.\n",
        "decoder_outputs2, state_h2, state_c2 = decoder_lstm(dec_emb2, initial_state=[decoder_state_input_h, decoder_state_input_c])\n",
        "\n",
        "print('=3')\n"
      ],
      "metadata": {
        "colab": {
          "base_uri": "https://localhost:8080/"
        },
        "id": "mNuclOUTHoZM",
        "outputId": "6b247b41-9949-4774-cc26-0925b8de515b"
      },
      "execution_count": 44,
      "outputs": [
        {
          "output_type": "stream",
          "name": "stdout",
          "text": [
            "=3\n"
          ]
        }
      ]
    },
    {
      "cell_type": "code",
      "source": [
        "# 어텐션 함수\n",
        "decoder_hidden_state_input = Input(shape=(text_max_len, hidden_size))\n",
        "attn_out_inf = attn_layer([decoder_outputs2, decoder_hidden_state_input])\n",
        "decoder_inf_concat = Concatenate(axis=-1, name='concat')([decoder_outputs2, attn_out_inf])\n",
        "\n",
        "# 디코더의 출력층\n",
        "decoder_outputs2 = decoder_softmax_layer(decoder_inf_concat)\n",
        "\n",
        "# 최종 디코더 모델\n",
        "decoder_model = Model(\n",
        "    [decoder_inputs] + [decoder_hidden_state_input,decoder_state_input_h, decoder_state_input_c],\n",
        "    [decoder_outputs2] + [state_h2, state_c2])\n",
        "\n",
        "print('=3')"
      ],
      "metadata": {
        "colab": {
          "base_uri": "https://localhost:8080/"
        },
        "id": "LA41o7aiH47I",
        "outputId": "49d44084-6e78-4e91-dd6c-b1d11e4b9c57"
      },
      "execution_count": 45,
      "outputs": [
        {
          "output_type": "stream",
          "name": "stdout",
          "text": [
            "=3\n"
          ]
        }
      ]
    },
    {
      "cell_type": "code",
      "source": [
        "def decode_sequence(input_seq):\n",
        "    # 입력으로부터 인코더의 상태를 얻음\n",
        "    e_out, e_h, e_c = encoder_model.predict(input_seq)\n",
        "\n",
        "     # <SOS>에 해당하는 토큰 생성\n",
        "    target_seq = np.zeros((1,1))\n",
        "    target_seq[0, 0] = tar_word_to_index['sostoken']\n",
        "\n",
        "    stop_condition = False\n",
        "    decoded_sentence = ''\n",
        "    while not stop_condition: # stop_condition이 True가 될 때까지 루프 반복\n",
        "\n",
        "        output_tokens, h, c = decoder_model.predict([target_seq] + [e_out, e_h, e_c])\n",
        "        sampled_token_index = np.argmax(output_tokens[0, -1, :])\n",
        "        sampled_token = tar_index_to_word[sampled_token_index]\n",
        "\n",
        "        if (sampled_token!='eostoken'):\n",
        "            decoded_sentence += ' '+sampled_token\n",
        "\n",
        "        #  <eos>에 도달하거나 최대 길이를 넘으면 중단.\n",
        "        if (sampled_token == 'eostoken'  or len(decoded_sentence.split()) >= (headlines_max_len-1)):\n",
        "            stop_condition = True\n",
        "\n",
        "        # 길이가 1인 타겟 시퀀스를 업데이트\n",
        "        target_seq = np.zeros((1,1))\n",
        "        target_seq[0, 0] = sampled_token_index\n",
        "\n",
        "        # 상태를 업데이트 합니다.\n",
        "        e_h, e_c = h, c\n",
        "\n",
        "    return decoded_sentence\n",
        "print('=3')"
      ],
      "metadata": {
        "colab": {
          "base_uri": "https://localhost:8080/"
        },
        "id": "wz4Yq-eaH67_",
        "outputId": "8d7df9ef-822e-4a59-bc1d-4a26116b2462"
      },
      "execution_count": 52,
      "outputs": [
        {
          "output_type": "stream",
          "name": "stdout",
          "text": [
            "=3\n"
          ]
        }
      ]
    },
    {
      "cell_type": "markdown",
      "source": [
        "## Step 4. 실제 결과와 요약문 비교하기 (추상적 요약)\n",
        "원래의 요약문(headlines 열)과 학습을 통해 얻은 추상적 요약의 결과를 비교해 보세요."
      ],
      "metadata": {
        "id": "VRQFX96ke2dB"
      }
    },
    {
      "cell_type": "code",
      "source": [
        "# 원문의 정수 시퀀스를 텍스트 시퀀스로 변환\n",
        "def seq2text(input_seq):\n",
        "    temp=''\n",
        "    for i in input_seq:\n",
        "        if (i!=0):\n",
        "            temp = temp + src_index_to_word[i]+' '\n",
        "    return temp\n",
        "\n",
        "# 요약문의 정수 시퀀스를 텍스트 시퀀스로 변환\n",
        "def seq2summary(input_seq):\n",
        "    temp=''\n",
        "    for i in input_seq:\n",
        "        if ((i!=0 and i!=tar_word_to_index['sostoken']) and i!=tar_word_to_index['eostoken']):\n",
        "            temp = temp + tar_index_to_word[i] + ' '\n",
        "    return temp\n",
        "\n",
        "print('=3')"
      ],
      "metadata": {
        "colab": {
          "base_uri": "https://localhost:8080/"
        },
        "id": "bTgCQRUJH-DS",
        "outputId": "e960b99a-5b2d-41d1-f05e-ce69d54eb867"
      },
      "execution_count": 53,
      "outputs": [
        {
          "output_type": "stream",
          "name": "stdout",
          "text": [
            "=3\n"
          ]
        }
      ]
    },
    {
      "cell_type": "code",
      "source": [
        "tar_word_to_index['eostoken']"
      ],
      "metadata": {
        "colab": {
          "base_uri": "https://localhost:8080/"
        },
        "id": "xBnX20ZrNzmT",
        "outputId": "3018d61f-37dd-421d-fda3-1d5368c9f1dc"
      },
      "execution_count": 54,
      "outputs": [
        {
          "output_type": "execute_result",
          "data": {
            "text/plain": [
              "2"
            ]
          },
          "metadata": {},
          "execution_count": 54
        }
      ]
    },
    {
      "cell_type": "code",
      "source": [
        "decoder_input_test[:3]"
      ],
      "metadata": {
        "colab": {
          "base_uri": "https://localhost:8080/"
        },
        "id": "AgaFNGA5MbQi",
        "outputId": "9941f2af-84bf-48cc-e403-4383c58ff712"
      },
      "execution_count": 55,
      "outputs": [
        {
          "output_type": "execute_result",
          "data": {
            "text/plain": [
              "array([[   1, 7072, 3249,   37,  874, 3222, 2167,    0,    0,    0],\n",
              "       [   1,  272,  310, 1232,  982,    5,   67,  944, 4299,    0],\n",
              "       [   1,   10, 6058,  960, 5776, 1072,  122,    0,    0,    0]],\n",
              "      dtype=int32)"
            ]
          },
          "metadata": {},
          "execution_count": 55
        }
      ]
    },
    {
      "cell_type": "code",
      "source": [
        "for i in range(50, 100):\n",
        "    print(\"원문 :\", seq2text(encoder_input_test[i]))\n",
        "    print(\"실제 요약 :\", seq2summary(decoder_input_test[i]))\n",
        "    print(\"예측 요약 :\", decode_sequence(encoder_input_test[i].reshape(1, text_max_len)))\n",
        "    print(\"\\n\")"
      ],
      "metadata": {
        "colab": {
          "base_uri": "https://localhost:8080/"
        },
        "id": "UAb2IoIIH_9O",
        "outputId": "6979dda2-e092-4850-bb84-0bf320b10c73"
      },
      "execution_count": 56,
      "outputs": [
        {
          "output_type": "stream",
          "name": "stdout",
          "text": [
            "원문 : year old boy allegedly committed suicide gujarat tuesday lost newly purchased mobile phone deceased bought mobile phone worth around earnings feared parents would losing police official said meanwhile police looking possibilities behind suicide \n",
            "실제 요약 : year old gujarat boy hangs himself after losing new phone \n",
            "1/1 [==============================] - 0s 19ms/step\n",
            "1/1 [==============================] - 0s 21ms/step\n",
            "1/1 [==============================] - 0s 19ms/step\n",
            "1/1 [==============================] - 0s 20ms/step\n",
            "1/1 [==============================] - 0s 19ms/step\n",
            "1/1 [==============================] - 0s 21ms/step\n",
            "1/1 [==============================] - 0s 19ms/step\n",
            "1/1 [==============================] - 0s 21ms/step\n",
            "1/1 [==============================] - 0s 20ms/step\n",
            "1/1 [==============================] - 0s 20ms/step\n",
            "예측 요약 :  year old girl killed in gurugram for driving\n",
            "\n",
            "\n",
            "원문 : according recently published us based research chance earth avoid warming least threshold set paris climate agreement research studied global trends economy emissions population growth stated chance temperatures rise less \n",
            "실제 요약 : only chance of earth reaching paris climate goal study \n",
            "1/1 [==============================] - 0s 19ms/step\n",
            "1/1 [==============================] - 0s 19ms/step\n",
            "1/1 [==============================] - 0s 22ms/step\n",
            "1/1 [==============================] - 0s 19ms/step\n",
            "1/1 [==============================] - 0s 21ms/step\n",
            "1/1 [==============================] - 0s 21ms/step\n",
            "1/1 [==============================] - 0s 19ms/step\n",
            "1/1 [==============================] - 0s 18ms/step\n",
            "1/1 [==============================] - 0s 18ms/step\n",
            "1/1 [==============================] - 0s 18ms/step\n",
            "예측 요약 :  why are the most of the moon study\n",
            "\n",
            "\n",
            "원문 : jammu kashmir governor satya pal malik said talked ipl chairman rajeev shukla forming ipl team state plan ipl team plans cricket football team focusing ipl team malik said plan \n",
            "실제 요약 : governor spoke to ipl chief for team from the state \n",
            "1/1 [==============================] - 0s 18ms/step\n",
            "1/1 [==============================] - 0s 19ms/step\n",
            "1/1 [==============================] - 0s 20ms/step\n",
            "1/1 [==============================] - 0s 21ms/step\n",
            "1/1 [==============================] - 0s 21ms/step\n",
            "1/1 [==============================] - 0s 21ms/step\n",
            "1/1 [==============================] - 0s 23ms/step\n",
            "1/1 [==============================] - 0s 20ms/step\n",
            "1/1 [==============================] - 0s 21ms/step\n",
            "1/1 [==============================] - 0s 21ms/step\n",
            "예측 요약 :  why is the most been of ipl cricket\n",
            "\n",
            "\n",
            "원문 : american researchers developed method generating numbers guaranteed random using photons particles light based quantum random numbers employed large scale data electronic networks however numbers generated software physical devices could predicted undermining system security said researchers \n",
            "실제 요약 : scientists generate random numbers using particles of light \n",
            "1/1 [==============================] - 0s 20ms/step\n",
            "1/1 [==============================] - 0s 20ms/step\n",
            "1/1 [==============================] - 0s 20ms/step\n",
            "1/1 [==============================] - 0s 21ms/step\n",
            "1/1 [==============================] - 0s 20ms/step\n",
            "1/1 [==============================] - 0s 18ms/step\n",
            "1/1 [==============================] - 0s 19ms/step\n",
            "1/1 [==============================] - 0s 21ms/step\n",
            "1/1 [==============================] - 0s 22ms/step\n",
            "예측 요약 :  mit makes use of electronic to detect\n",
            "\n",
            "\n",
            "원문 : three former executives uk biggest retailer tesco cooking books support tesco share price secure huge compensation packages prosecutors told london court executives abused positions encourage manipulation profit figures lied auditors court heard tesco announced profit forecast million \n",
            "실제 요약 : former executives staff to cook books \n",
            "1/1 [==============================] - 0s 20ms/step\n",
            "1/1 [==============================] - 0s 22ms/step\n",
            "1/1 [==============================] - 0s 23ms/step\n",
            "1/1 [==============================] - 0s 21ms/step\n",
            "1/1 [==============================] - 0s 21ms/step\n",
            "1/1 [==============================] - 0s 21ms/step\n",
            "1/1 [==============================] - 0s 19ms/step\n",
            "1/1 [==============================] - 0s 20ms/step\n",
            "1/1 [==============================] - 0s 20ms/step\n",
            "예측 요약 :  ex unilever to get crore to crore\n",
            "\n",
            "\n",
            "원문 : shimla tuesday recorded hottest march day seven years maximum temperature rose met department said also third highest temperature ever recorded march several cities towns himachal pradesh including dharamsala also witnessed high temperatures daytime \n",
            "실제 요약 : shimla witnesses hottest march day in years \n",
            "1/1 [==============================] - 0s 20ms/step\n",
            "1/1 [==============================] - 0s 19ms/step\n",
            "1/1 [==============================] - 0s 20ms/step\n",
            "1/1 [==============================] - 0s 21ms/step\n",
            "1/1 [==============================] - 0s 19ms/step\n",
            "1/1 [==============================] - 0s 20ms/step\n",
            "1/1 [==============================] - 0s 22ms/step\n",
            "1/1 [==============================] - 0s 32ms/step\n",
            "1/1 [==============================] - 0s 32ms/step\n",
            "1/1 [==============================] - 0s 33ms/step\n",
            "예측 요약 :  mumbai records highest ever in the first time\n",
            "\n",
            "\n",
            "원문 : rare butterfly known white letter spotted scotland first time since white letter numbers decreased last years part due dutch disease white letter butterflies live trees feed \n",
            "실제 요약 : rare seen in scotland for first time in years \n",
            "1/1 [==============================] - 0s 27ms/step\n",
            "1/1 [==============================] - 0s 29ms/step\n",
            "1/1 [==============================] - 0s 32ms/step\n",
            "1/1 [==============================] - 0s 31ms/step\n",
            "1/1 [==============================] - 0s 31ms/step\n",
            "1/1 [==============================] - 0s 31ms/step\n",
            "1/1 [==============================] - 0s 33ms/step\n",
            "예측 요약 :  einstein letter to be named\n",
            "\n",
            "\n",
            "원문 : unidentified men looted lakh flipkart centre sunday industrial area delhi men faces covered reportedly injured guard robbery also removed digital video recorder centre police said analysing cctv footage area identify robbers \n",
            "실제 요약 : unidentified men loot from flipkart centre in delhi \n",
            "1/1 [==============================] - 0s 32ms/step\n",
            "1/1 [==============================] - 0s 32ms/step\n",
            "1/1 [==============================] - 0s 30ms/step\n",
            "1/1 [==============================] - 0s 29ms/step\n",
            "1/1 [==============================] - 0s 30ms/step\n",
            "1/1 [==============================] - 0s 32ms/step\n",
            "1/1 [==============================] - 0s 31ms/step\n",
            "1/1 [==============================] - 0s 35ms/step\n",
            "1/1 [==============================] - 0s 29ms/step\n",
            "예측 요약 :  year old bank of crore in delhi\n",
            "\n",
            "\n",
            "원문 : civil aviation minister suresh prabhu directed directorate general civil aviation conduct safety audit scheduled airlines flying training schools report submitted within days comes around passengers jet airways flight suffered nose ear crew failed turn switch maintains cabin pressure \n",
            "실제 요약 : safety audit of airlines airports post jet airways incident \n",
            "1/1 [==============================] - 0s 27ms/step\n",
            "1/1 [==============================] - 0s 36ms/step\n",
            "1/1 [==============================] - 0s 30ms/step\n",
            "1/1 [==============================] - 0s 33ms/step\n",
            "1/1 [==============================] - 0s 37ms/step\n",
            "1/1 [==============================] - 0s 33ms/step\n",
            "1/1 [==============================] - 0s 35ms/step\n",
            "1/1 [==============================] - 0s 33ms/step\n",
            "1/1 [==============================] - 0s 31ms/step\n",
            "1/1 [==============================] - 0s 31ms/step\n",
            "예측 요약 :  india to get air india flight for flight\n",
            "\n",
            "\n",
            "원문 : decapitated head man stuck springs freight train engine travelled km found inspecting staff junction karnataka district staff checking engine loco pilot complained dragging wheels man reportedly jumped front speeding train railway station \n",
            "실제 요약 : man head found stuck in train engine after km journey \n",
            "1/1 [==============================] - 0s 26ms/step\n",
            "1/1 [==============================] - 0s 29ms/step\n",
            "1/1 [==============================] - 0s 30ms/step\n",
            "1/1 [==============================] - 0s 29ms/step\n",
            "1/1 [==============================] - 0s 30ms/step\n",
            "1/1 [==============================] - 0s 36ms/step\n",
            "1/1 [==============================] - 0s 29ms/step\n",
            "1/1 [==============================] - 0s 32ms/step\n",
            "1/1 [==============================] - 0s 30ms/step\n",
            "예측 요약 :  man jumps off after falling from train\n",
            "\n",
            "\n",
            "원문 : many people chennai allegedly misused crore worth car loans state bank india produce tamil movie sbi auto loan counsellor allegedly hacked user id password bank officials divert loan amounts applicants personal accounts madras high court temporarily stalled movie release \n",
            "실제 요약 : use crore sbi car loan to produce tamil movie \n",
            "1/1 [==============================] - 0s 18ms/step\n",
            "1/1 [==============================] - 0s 19ms/step\n",
            "1/1 [==============================] - 0s 22ms/step\n",
            "1/1 [==============================] - 0s 19ms/step\n",
            "1/1 [==============================] - 0s 19ms/step\n",
            "1/1 [==============================] - 0s 21ms/step\n",
            "1/1 [==============================] - 0s 20ms/step\n",
            "1/1 [==============================] - 0s 20ms/step\n",
            "예측 요약 :  cr bank of crore in india\n",
            "\n",
            "\n",
            "원문 : hurricane irma hit us state florida sunday killing least three people leaving nearly lakh homes without power according reports irma downgraded category storm winds reading less mph however tornado warnings issued parts central eastern florida well southern georgia \n",
            "실제 요약 : killed homes without power as irma hits florida \n",
            "1/1 [==============================] - 0s 19ms/step\n",
            "1/1 [==============================] - 0s 20ms/step\n",
            "1/1 [==============================] - 0s 20ms/step\n",
            "1/1 [==============================] - 0s 20ms/step\n",
            "1/1 [==============================] - 0s 19ms/step\n",
            "1/1 [==============================] - 0s 21ms/step\n",
            "1/1 [==============================] - 0s 20ms/step\n",
            "1/1 [==============================] - 0s 19ms/step\n",
            "예측 요약 :  russian rico in us kills us\n",
            "\n",
            "\n",
            "원문 : believed different ways spell name english playwright william shakespeare including shakespeare known signed name using variations due proper documentation april regarded birth date april death date \n",
            "실제 요약 : there are recorded ways to spell shakespeare \n",
            "1/1 [==============================] - 0s 19ms/step\n",
            "1/1 [==============================] - 0s 19ms/step\n",
            "1/1 [==============================] - 0s 20ms/step\n",
            "1/1 [==============================] - 0s 20ms/step\n",
            "1/1 [==============================] - 0s 19ms/step\n",
            "1/1 [==============================] - 0s 21ms/step\n",
            "1/1 [==============================] - 0s 26ms/step\n",
            "1/1 [==============================] - 0s 25ms/step\n",
            "1/1 [==============================] - 0s 20ms/step\n",
            "예측 요약 :  einstein letter to be auctioned for nobel\n",
            "\n",
            "\n",
            "원문 : many judge positions presently vacant across high courts amid standoff judiciary government appointment process according reports names suggested judiciary former cji khehar term yet approved position government appointed candidates approved judiciary \n",
            "실제 요약 : judge positions vacant in the high courts \n",
            "1/1 [==============================] - 0s 21ms/step\n",
            "1/1 [==============================] - 0s 20ms/step\n",
            "1/1 [==============================] - 0s 21ms/step\n",
            "1/1 [==============================] - 0s 20ms/step\n",
            "1/1 [==============================] - 0s 20ms/step\n",
            "1/1 [==============================] - 0s 20ms/step\n",
            "1/1 [==============================] - 0s 20ms/step\n",
            "1/1 [==============================] - 0s 19ms/step\n",
            "1/1 [==============================] - 0s 20ms/step\n",
            "1/1 [==============================] - 0s 19ms/step\n",
            "예측 요약 :  india to be held for national national day\n",
            "\n",
            "\n",
            "원문 : yeh first song sonakshi sinha starrer upcoming drama film noor released song composed amaal mallik vocals armaan malik lyrics manoj sonakshi seen portraying pakistani journalist writer film directed film scheduled release april \n",
            "실제 요약 : first song from sonakshi sinha titled out \n",
            "1/1 [==============================] - 0s 19ms/step\n",
            "1/1 [==============================] - 0s 19ms/step\n",
            "1/1 [==============================] - 0s 20ms/step\n",
            "1/1 [==============================] - 0s 20ms/step\n",
            "1/1 [==============================] - 0s 19ms/step\n",
            "1/1 [==============================] - 0s 19ms/step\n",
            "1/1 [==============================] - 0s 19ms/step\n",
            "예측 요약 :  song from sushant starrer released\n",
            "\n",
            "\n",
            "원문 : chinese companies invested nearly billion indian startups according report chinese firms predominantly focused commerce followed transportation fintech report said added major chinese companies invested indian startups include alibaba bytedance tencent \n",
            "실제 요약 : chinese firms invested bn in indian startups in \n",
            "1/1 [==============================] - 0s 18ms/step\n",
            "1/1 [==============================] - 0s 19ms/step\n",
            "1/1 [==============================] - 0s 19ms/step\n",
            "1/1 [==============================] - 0s 22ms/step\n",
            "1/1 [==============================] - 0s 20ms/step\n",
            "1/1 [==============================] - 0s 19ms/step\n",
            "1/1 [==============================] - 0s 20ms/step\n",
            "1/1 [==============================] - 0s 20ms/step\n",
            "예측 요약 :  china to invest bn in china\n",
            "\n",
            "\n",
            "원문 : panasonic launching clothes japan clothes hung scent relies technology called involves releasing nano sized particles gather moisture air get rid smells clothes requires power supply special cable work \n",
            "실제 요약 : to launch in japan \n",
            "1/1 [==============================] - 0s 20ms/step\n",
            "1/1 [==============================] - 0s 22ms/step\n",
            "1/1 [==============================] - 0s 21ms/step\n",
            "1/1 [==============================] - 0s 21ms/step\n",
            "1/1 [==============================] - 0s 20ms/step\n",
            "1/1 [==============================] - 0s 19ms/step\n",
            "1/1 [==============================] - 0s 22ms/step\n",
            "예측 요약 :  scientists develop of air with\n",
            "\n",
            "\n",
            "원문 : jd leader sharad yadav allegedly received threat letter right wing group warning interfering bihar politics supporting anti national forces letter reportedly warned speak bihar government hindu interests notably yadav party decision break grand alliance join nda \n",
            "실제 요약 : letter threatens sharad yadav to stay out of bihar politics \n",
            "1/1 [==============================] - 0s 18ms/step\n",
            "1/1 [==============================] - 0s 25ms/step\n",
            "1/1 [==============================] - 0s 21ms/step\n",
            "1/1 [==============================] - 0s 19ms/step\n",
            "1/1 [==============================] - 0s 19ms/step\n",
            "1/1 [==============================] - 0s 19ms/step\n",
            "1/1 [==============================] - 0s 20ms/step\n",
            "1/1 [==============================] - 0s 21ms/step\n",
            "예측 요약 :  sharad yadav blames pdp for party\n",
            "\n",
            "\n",
            "원문 : researchers confirmed octopuses half genetic structures creatures use enzymes specific rna bases replace different base process called rna editing previous studies shown mechanism make proteins dna found adapting temperature changes \n",
            "실제 요약 : and can over of their genes study \n",
            "1/1 [==============================] - 0s 18ms/step\n",
            "1/1 [==============================] - 0s 20ms/step\n",
            "1/1 [==============================] - 0s 19ms/step\n",
            "1/1 [==============================] - 0s 19ms/step\n",
            "1/1 [==============================] - 0s 21ms/step\n",
            "1/1 [==============================] - 0s 19ms/step\n",
            "1/1 [==============================] - 0s 22ms/step\n",
            "예측 요약 :  scientists discover new species of\n",
            "\n",
            "\n",
            "원문 : andhra pradesh government rejected rti petition seeking details expenses incurred cm chandrababu naidu son minister nara lokesh state sponsored foreign tours slamming state government rejecting rti ysrcp leader padma said would fair government share information raises doubts otherwise \n",
            "실제 요약 : andhra govt rejects rti on cm naidu son travel expenses \n",
            "1/1 [==============================] - 0s 18ms/step\n",
            "1/1 [==============================] - 0s 21ms/step\n",
            "1/1 [==============================] - 0s 26ms/step\n",
            "1/1 [==============================] - 0s 19ms/step\n",
            "1/1 [==============================] - 0s 21ms/step\n",
            "1/1 [==============================] - 0s 19ms/step\n",
            "1/1 [==============================] - 0s 19ms/step\n",
            "1/1 [==============================] - 0s 21ms/step\n",
            "1/1 [==============================] - 0s 19ms/step\n",
            "예측 요약 :  centre seeks centre to remove cm mlas\n",
            "\n",
            "\n",
            "원문 : nthe centre sanctioned crore punjab government rehabilitate anti sikh riot victims migrated state centre earlier planned disburse compensation november state unable rehabilitation accordance recommendations made committee led justice mathur \n",
            "실제 요약 : centre clears crore for over sikh riot victims \n",
            "1/1 [==============================] - 0s 18ms/step\n",
            "1/1 [==============================] - 0s 19ms/step\n",
            "1/1 [==============================] - 0s 21ms/step\n",
            "1/1 [==============================] - 0s 19ms/step\n",
            "1/1 [==============================] - 0s 22ms/step\n",
            "1/1 [==============================] - 0s 21ms/step\n",
            "1/1 [==============================] - 0s 20ms/step\n",
            "1/1 [==============================] - 0s 22ms/step\n",
            "1/1 [==============================] - 0s 20ms/step\n",
            "예측 요약 :  govt approves cr to fund for march\n",
            "\n",
            "\n",
            "원문 : railway minister piyush goyal directed officials ensure meals served onboard trains carry information quantity date packing contractor supplying letter issued wednesday said guidelines implemented immediate effect packets mention food vegetarian non vegetarian \n",
            "실제 요약 : meals served on trains to have details of supplier \n",
            "1/1 [==============================] - 0s 22ms/step\n",
            "1/1 [==============================] - 0s 20ms/step\n",
            "1/1 [==============================] - 0s 29ms/step\n",
            "1/1 [==============================] - 0s 24ms/step\n",
            "1/1 [==============================] - 0s 23ms/step\n",
            "1/1 [==============================] - 0s 22ms/step\n",
            "1/1 [==============================] - 0s 23ms/step\n",
            "1/1 [==============================] - 0s 22ms/step\n",
            "예측 요약 :  railways to get new health system\n",
            "\n",
            "\n",
            "원문 : rjd leader tejashwi yadav said main accused bihar shelter home rape case hanged number crimes bihar increased past one year added rjd organised protest new delhi saturday case least girls raped state funded shelter home \n",
            "실제 요약 : bihar shelter rape case accused should be hanged tejashwi \n",
            "1/1 [==============================] - 0s 22ms/step\n",
            "1/1 [==============================] - 0s 22ms/step\n",
            "1/1 [==============================] - 0s 29ms/step\n",
            "1/1 [==============================] - 0s 23ms/step\n",
            "1/1 [==============================] - 0s 21ms/step\n",
            "1/1 [==============================] - 0s 22ms/step\n",
            "1/1 [==============================] - 0s 21ms/step\n",
            "1/1 [==============================] - 0s 22ms/step\n",
            "1/1 [==============================] - 0s 20ms/step\n",
            "1/1 [==============================] - 0s 21ms/step\n",
            "예측 요약 :  lalu prasad yadav convicted of bihar shelter home case\n",
            "\n",
            "\n",
            "원문 : slamming actress swara bhasker opposing padmaavat actress suchitra tweeted standards said found funny swara played erotic dancer prostitute onscreen feels like vagina watching story queen swara earlier penned open letter director sanjay leela bhansali \n",
            "실제 요약 : what standards are these to swara over padmaavat \n",
            "1/1 [==============================] - 0s 24ms/step\n",
            "1/1 [==============================] - 0s 48ms/step\n",
            "1/1 [==============================] - 0s 49ms/step\n",
            "1/1 [==============================] - 0s 42ms/step\n",
            "1/1 [==============================] - 0s 59ms/step\n",
            "1/1 [==============================] - 0s 41ms/step\n",
            "1/1 [==============================] - 0s 31ms/step\n",
            "1/1 [==============================] - 0s 65ms/step\n",
            "1/1 [==============================] - 0s 39ms/step\n",
            "예측 요약 :  swara slams twitter to make his name\n",
            "\n",
            "\n",
            "원문 : paytm commerce unit paytm mall affected cashback service close scaling business per report key backers alibaba softbank realised cashback driven commerce going nowhere sources quoted saying report added paytm mall decided focus service \n",
            "실제 요약 : paytm mall hit by to cut down business report \n",
            "1/1 [==============================] - 0s 33ms/step\n",
            "1/1 [==============================] - 0s 37ms/step\n",
            "1/1 [==============================] - 0s 83ms/step\n",
            "1/1 [==============================] - 0s 33ms/step\n",
            "1/1 [==============================] - 0s 39ms/step\n",
            "1/1 [==============================] - 0s 30ms/step\n",
            "1/1 [==============================] - 0s 33ms/step\n",
            "1/1 [==============================] - 0s 82ms/step\n",
            "1/1 [==============================] - 0s 31ms/step\n",
            "1/1 [==============================] - 0s 82ms/step\n",
            "예측 요약 :  paytm founder to get mn from new company\n",
            "\n",
            "\n",
            "원문 : supreme court tuesday refused pass order interim order government decision making aadhaar card compulsory however ruled people currently aadhaar card deprived government schemes benefits next hearing scheduled july \n",
            "실제 요약 : those without aadhaar card can benefits till order sc \n",
            "1/1 [==============================] - 0s 44ms/step\n",
            "1/1 [==============================] - 0s 31ms/step\n",
            "1/1 [==============================] - 0s 31ms/step\n",
            "1/1 [==============================] - 0s 31ms/step\n",
            "1/1 [==============================] - 0s 30ms/step\n",
            "1/1 [==============================] - 0s 29ms/step\n",
            "1/1 [==============================] - 0s 31ms/step\n",
            "1/1 [==============================] - 0s 30ms/step\n",
            "예측 요약 :  sc stays aadhaar mandatory for aadhaar\n",
            "\n",
            "\n",
            "원문 : dove slammed selling body wash bottles designed imitate various shapes sizes women care bottle looks like care product inside works tweeted user dove finally recognising use product unless looks like plastic cheap read another tweet \n",
            "실제 요약 : sells body wash in bottles shaped like women bodies \n",
            "1/1 [==============================] - 0s 28ms/step\n",
            "1/1 [==============================] - 0s 32ms/step\n",
            "1/1 [==============================] - 0s 32ms/step\n",
            "1/1 [==============================] - 0s 43ms/step\n",
            "1/1 [==============================] - 0s 29ms/step\n",
            "1/1 [==============================] - 0s 30ms/step\n",
            "1/1 [==============================] - 0s 29ms/step\n",
            "1/1 [==============================] - 0s 29ms/step\n",
            "1/1 [==============================] - 0s 28ms/step\n",
            "예측 요약 :  luxury fashion fashion fashion fashion goes out\n",
            "\n",
            "\n",
            "원문 : world number one bowler rashid khan become first cricketer named leading twenty cricketer world wisden year old highest wicket taker professional cricket picking wickets matches rashid enables thrive new wrote wisden \n",
            "실제 요약 : rashid khan st leading cricketer in the world \n",
            "1/1 [==============================] - 0s 36ms/step\n",
            "1/1 [==============================] - 0s 33ms/step\n",
            "1/1 [==============================] - 0s 31ms/step\n",
            "1/1 [==============================] - 0s 31ms/step\n",
            "1/1 [==============================] - 0s 34ms/step\n",
            "1/1 [==============================] - 0s 30ms/step\n",
            "1/1 [==============================] - 0s 33ms/step\n",
            "1/1 [==============================] - 0s 29ms/step\n",
            "1/1 [==============================] - 0s 30ms/step\n",
            "예측 요약 :  sachin once scored in innings to win\n",
            "\n",
            "\n",
            "원문 : wife daughter former delhi high court chief justice kumar kapur allegedly held hostage hired help accomplices new friends colony residence delhi accused cash valuables worth lakhs rupees attacking year old daughter rod chief justice passed away \n",
            "실제 요약 : late delhi hc chief justice family held hostage by \n",
            "1/1 [==============================] - 0s 26ms/step\n",
            "1/1 [==============================] - 0s 30ms/step\n",
            "1/1 [==============================] - 0s 32ms/step\n",
            "1/1 [==============================] - 0s 29ms/step\n",
            "1/1 [==============================] - 0s 30ms/step\n",
            "1/1 [==============================] - 0s 29ms/step\n",
            "1/1 [==============================] - 0s 36ms/step\n",
            "1/1 [==============================] - 0s 29ms/step\n",
            "1/1 [==============================] - 0s 32ms/step\n",
            "1/1 [==============================] - 0s 28ms/step\n",
            "예측 요약 :  wife jailed for cheating of lakh in delhi\n",
            "\n",
            "\n",
            "원문 : american taxi hailing startup uber competitor lyft reportedly raised million new round funding values company billion lyft last valued billion according cb insights lyft previously received million funding general motors two partnered pilot self driving service \n",
            "실제 요약 : uber rival lyft raises mn at bn valuation report \n",
            "1/1 [==============================] - 0s 33ms/step\n",
            "1/1 [==============================] - 0s 33ms/step\n",
            "1/1 [==============================] - 0s 32ms/step\n",
            "1/1 [==============================] - 0s 19ms/step\n",
            "1/1 [==============================] - 0s 19ms/step\n",
            "1/1 [==============================] - 0s 23ms/step\n",
            "1/1 [==============================] - 0s 22ms/step\n",
            "1/1 [==============================] - 0s 21ms/step\n",
            "1/1 [==============================] - 0s 18ms/step\n",
            "예측 요약 :  uber rival raises mn from mn valuation\n",
            "\n",
            "\n",
            "원문 : nestle india tuesday became third indian fast moving consumer goods company join club firms seen market capitalisation cross trillion mark nestle shares surged far year hindustan unilever india valued fmcg company valuation trillion followed itc whose valuation trillion \n",
            "실제 요약 : nestle india market value crosses trillion for first time \n",
            "1/1 [==============================] - 0s 18ms/step\n",
            "1/1 [==============================] - 0s 19ms/step\n",
            "1/1 [==============================] - 0s 20ms/step\n",
            "1/1 [==============================] - 0s 18ms/step\n",
            "1/1 [==============================] - 0s 19ms/step\n",
            "1/1 [==============================] - 0s 19ms/step\n",
            "1/1 [==============================] - 0s 21ms/step\n",
            "1/1 [==============================] - 0s 18ms/step\n",
            "1/1 [==============================] - 0s 19ms/step\n",
            "1/1 [==============================] - 0s 21ms/step\n",
            "예측 요약 :  indian becomes india most valuable firm becomes top firm\n",
            "\n",
            "\n",
            "원문 : aam aadmi party received lakh party national convener delhi cm arvind kejriwal appealed donations help keep idea clean alternative politics alive appeal kejriwal quoted association democratic reforms report stated political funding bjp congress unknown sources \n",
            "실제 요약 : aap gets lakh in donations after cm kejriwal appeal \n",
            "1/1 [==============================] - 0s 18ms/step\n",
            "1/1 [==============================] - 0s 19ms/step\n",
            "1/1 [==============================] - 0s 19ms/step\n",
            "1/1 [==============================] - 0s 21ms/step\n",
            "1/1 [==============================] - 0s 18ms/step\n",
            "1/1 [==============================] - 0s 19ms/step\n",
            "1/1 [==============================] - 0s 19ms/step\n",
            "1/1 [==============================] - 0s 19ms/step\n",
            "1/1 [==============================] - 0s 25ms/step\n",
            "예측 요약 :  aap kejriwal to be kejriwal to kejriwal\n",
            "\n",
            "\n",
            "원문 : chennai super kings announced comeback ipl next year tweeting news official handle monday csk congratulated newly crowned champions mumbai indians win final wrote next summer meanwhile gujarat lions year runners rising pune supergiant feature tournament next season \n",
            "실제 요약 : chennai super kings announce return to ipl \n",
            "1/1 [==============================] - 0s 18ms/step\n",
            "1/1 [==============================] - 0s 19ms/step\n",
            "1/1 [==============================] - 0s 24ms/step\n",
            "1/1 [==============================] - 0s 37ms/step\n",
            "1/1 [==============================] - 0s 52ms/step\n",
            "1/1 [==============================] - 0s 51ms/step\n",
            "1/1 [==============================] - 0s 33ms/step\n",
            "1/1 [==============================] - 0s 46ms/step\n",
            "1/1 [==============================] - 0s 42ms/step\n",
            "1/1 [==============================] - 0s 36ms/step\n",
            "예측 요약 :  who are the indian cricketer to play in kolkata\n",
            "\n",
            "\n",
            "원문 : tom holland took instagram reveal title spider man homecoming sequel spider man far home video showed tom apologising fans big announcements make sequel flipped tablet spider man far home written whether revealed title intentionally unintentionally known \n",
            "실제 요약 : tom reveals title of spider man sequel \n",
            "1/1 [==============================] - 0s 27ms/step\n",
            "1/1 [==============================] - 0s 31ms/step\n",
            "1/1 [==============================] - 0s 54ms/step\n",
            "1/1 [==============================] - 0s 32ms/step\n",
            "1/1 [==============================] - 0s 34ms/step\n",
            "1/1 [==============================] - 0s 32ms/step\n",
            "1/1 [==============================] - 0s 35ms/step\n",
            "1/1 [==============================] - 0s 23ms/step\n",
            "1/1 [==============================] - 0s 21ms/step\n",
            "예측 요약 :  mcgregor shares picture with him to daughter\n",
            "\n",
            "\n",
            "원문 : indian football association bid host fifa world cup ended fifa council members voted favour poland hosting tournament india hosted world cup registered record attendance figures age group fifa world cup event tournament last edition hosted south korea \n",
            "실제 요약 : india by poland to host fifa world cup \n",
            "1/1 [==============================] - 0s 22ms/step\n",
            "1/1 [==============================] - 0s 20ms/step\n",
            "1/1 [==============================] - 0s 19ms/step\n",
            "1/1 [==============================] - 0s 20ms/step\n",
            "1/1 [==============================] - 0s 20ms/step\n",
            "1/1 [==============================] - 0s 28ms/step\n",
            "1/1 [==============================] - 0s 20ms/step\n",
            "1/1 [==============================] - 0s 22ms/step\n",
            "1/1 [==============================] - 0s 22ms/step\n",
            "1/1 [==============================] - 0s 19ms/step\n",
            "예측 요약 :  india beat fifa world cup to reach world cup\n",
            "\n",
            "\n",
            "원문 : pakistan based jaish mohammed released video year old militant hailing jihad going attack crpf camp pulwama militant son policeman killed security personnel attack five crpf jawans martyred video urged kashmiri youths join fight \n",
            "실제 요약 : yr old militant recorded video before pulwama attack \n",
            "1/1 [==============================] - 0s 19ms/step\n",
            "1/1 [==============================] - 0s 22ms/step\n",
            "1/1 [==============================] - 0s 22ms/step\n",
            "1/1 [==============================] - 0s 23ms/step\n",
            "1/1 [==============================] - 0s 21ms/step\n",
            "1/1 [==============================] - 0s 19ms/step\n",
            "1/1 [==============================] - 0s 19ms/step\n",
            "1/1 [==============================] - 0s 19ms/step\n",
            "1/1 [==============================] - 0s 22ms/step\n",
            "1/1 [==============================] - 0s 20ms/step\n",
            "예측 요약 :  pak envoy to death for attack on attack\n",
            "\n",
            "\n",
            "원문 : amid ongoing trade war two countries us president donald trump said china become victory us trade war us president added country nice trade talks china great respect chinese counterpart xi jinping \n",
            "실제 요약 : china has become very with us trade win trump \n",
            "1/1 [==============================] - 0s 23ms/step\n",
            "1/1 [==============================] - 0s 21ms/step\n",
            "1/1 [==============================] - 0s 22ms/step\n",
            "1/1 [==============================] - 0s 28ms/step\n",
            "1/1 [==============================] - 0s 19ms/step\n",
            "1/1 [==============================] - 0s 21ms/step\n",
            "1/1 [==============================] - 0s 48ms/step\n",
            "1/1 [==============================] - 0s 21ms/step\n",
            "1/1 [==============================] - 0s 19ms/step\n",
            "1/1 [==============================] - 0s 23ms/step\n",
            "예측 요약 :  trump has war for the war us us\n",
            "\n",
            "\n",
            "원문 : denying dating rumours bigg boss winner tv actress bigg boss contestant kamya punjabi said dear friend added falls love anyone would happy let everyone know rumours started kamya met party last year \n",
            "실제 요약 : is dear friend punjabi on dating rumours \n",
            "1/1 [==============================] - 0s 18ms/step\n",
            "1/1 [==============================] - 0s 19ms/step\n",
            "1/1 [==============================] - 0s 18ms/step\n",
            "1/1 [==============================] - 0s 20ms/step\n",
            "1/1 [==============================] - 0s 20ms/step\n",
            "1/1 [==============================] - 0s 20ms/step\n",
            "1/1 [==============================] - 0s 19ms/step\n",
            "1/1 [==============================] - 0s 22ms/step\n",
            "1/1 [==============================] - 0s 19ms/step\n",
            "예측 요약 :  marriage is not marriage is not marriage\n",
            "\n",
            "\n",
            "원문 : home minister rajnath singh reached jammu kashmir four day visit one policeman killed two injured terrorist attack anantnag district saturday incident took place yards away venue rajnath meeting officials state sunday \n",
            "실제 요약 : policeman killed in terror attack amid rajnath visit \n",
            "1/1 [==============================] - 0s 18ms/step\n",
            "1/1 [==============================] - 0s 21ms/step\n",
            "1/1 [==============================] - 0s 22ms/step\n",
            "1/1 [==============================] - 0s 20ms/step\n",
            "1/1 [==============================] - 0s 20ms/step\n",
            "1/1 [==============================] - 0s 22ms/step\n",
            "1/1 [==============================] - 0s 23ms/step\n",
            "1/1 [==============================] - 0s 24ms/step\n",
            "1/1 [==============================] - 0s 19ms/step\n",
            "1/1 [==============================] - 0s 21ms/step\n",
            "예측 요약 :  rajnath singh in amritsar attack on amritsar attack\n",
            "\n",
            "\n",
            "원문 : district near madhya pradesh capital bhopal using emojis indicators tackle problem among children six years age paint green smiling emoji healthy baby flat yellow face unhealthy malnourished child red sad emoji severely malnourished baby every home wall \n",
            "실제 요약 : mp district uses to children \n",
            "1/1 [==============================] - 0s 18ms/step\n",
            "1/1 [==============================] - 0s 21ms/step\n",
            "1/1 [==============================] - 0s 39ms/step\n",
            "1/1 [==============================] - 0s 24ms/step\n",
            "1/1 [==============================] - 0s 19ms/step\n",
            "1/1 [==============================] - 0s 43ms/step\n",
            "1/1 [==============================] - 0s 57ms/step\n",
            "1/1 [==============================] - 0s 30ms/step\n",
            "1/1 [==============================] - 0s 30ms/step\n",
            "예측 요약 :  telangana police to get stray dogs in\n",
            "\n",
            "\n",
            "원문 : five soldiers trapped multiple avalanches jammu kashmir sector two succumbed injuries friday one still missing two five soldiers rescued earlier per army unprecedented snowfall valley triggered multiple avalanches post sector buried snow \n",
            "실제 요약 : two soldiers to injuries in avalanche \n",
            "1/1 [==============================] - 0s 34ms/step\n",
            "1/1 [==============================] - 0s 53ms/step\n",
            "1/1 [==============================] - 0s 31ms/step\n",
            "1/1 [==============================] - 0s 47ms/step\n",
            "1/1 [==============================] - 0s 53ms/step\n",
            "1/1 [==============================] - 0s 30ms/step\n",
            "1/1 [==============================] - 0s 34ms/step\n",
            "1/1 [==============================] - 0s 30ms/step\n",
            "예측 요약 :  children injured in bangladesh in jammu\n",
            "\n",
            "\n",
            "원문 : global passport security system monday morning causing huge delays passengers travelling abroad new zealand australian airports hundreds passengers checked manually three hours problem resolved passport system tracks entry departure travellers ensuring travel countries authorised \n",
            "실제 요약 : global passport system down delay at international airports \n",
            "1/1 [==============================] - 0s 27ms/step\n",
            "1/1 [==============================] - 0s 21ms/step\n",
            "1/1 [==============================] - 0s 19ms/step\n",
            "1/1 [==============================] - 0s 23ms/step\n",
            "1/1 [==============================] - 0s 22ms/step\n",
            "1/1 [==============================] - 0s 24ms/step\n",
            "1/1 [==============================] - 0s 20ms/step\n",
            "1/1 [==============================] - 0s 20ms/step\n",
            "1/1 [==============================] - 0s 20ms/step\n",
            "1/1 [==============================] - 0s 24ms/step\n",
            "예측 요약 :  india to get planes to check after diwali\n",
            "\n",
            "\n",
            "원문 : theoretical physicist albert einstein offered nobel prize money wife part divorce settlement even prize later awarded nobel prize physics services theoretical physics especially discovery law effect \n",
            "실제 요약 : einstein offered nobel prize money in divorce before winning \n",
            "1/1 [==============================] - 0s 26ms/step\n",
            "1/1 [==============================] - 0s 22ms/step\n",
            "1/1 [==============================] - 0s 40ms/step\n",
            "1/1 [==============================] - 0s 31ms/step\n",
            "1/1 [==============================] - 0s 30ms/step\n",
            "1/1 [==============================] - 0s 35ms/step\n",
            "1/1 [==============================] - 0s 35ms/step\n",
            "1/1 [==============================] - 0s 30ms/step\n",
            "1/1 [==============================] - 0s 47ms/step\n",
            "예측 요약 :  nobel prize to retire from nobel prize\n",
            "\n",
            "\n",
            "원문 : passenger allegedly caught foreign currency worth nearly lakh hidden delhi airport tuesday said cisf officials passenger singh caught underwent pre security check subsequent pat search singh supposed travel dubai handed customs \n",
            "실제 요약 : flyer caught with foreign currency worth in \n",
            "1/1 [==============================] - 0s 29ms/step\n",
            "1/1 [==============================] - 0s 33ms/step\n",
            "1/1 [==============================] - 0s 30ms/step\n",
            "1/1 [==============================] - 0s 29ms/step\n",
            "1/1 [==============================] - 0s 29ms/step\n",
            "1/1 [==============================] - 0s 30ms/step\n",
            "1/1 [==============================] - 0s 28ms/step\n",
            "1/1 [==============================] - 0s 29ms/step\n",
            "1/1 [==============================] - 0s 28ms/step\n",
            "예측 요약 :  man caught smuggling gold at delhi airport\n",
            "\n",
            "\n",
            "원문 : jammu kashmir government ordered suspension licenses cable operators broadcast non permitted pakistani channels list banned channels also includes islamic channels like tv noor tv along sports channel music channel centre ruled channels potential encourage violence state \n",
            "실제 요약 : to cancel of operators showing pak channels \n",
            "1/1 [==============================] - 0s 28ms/step\n",
            "1/1 [==============================] - 0s 40ms/step\n",
            "1/1 [==============================] - 0s 30ms/step\n",
            "1/1 [==============================] - 0s 30ms/step\n",
            "1/1 [==============================] - 0s 30ms/step\n",
            "1/1 [==============================] - 0s 31ms/step\n",
            "1/1 [==============================] - 0s 81ms/step\n",
            "1/1 [==============================] - 0s 90ms/step\n",
            "1/1 [==============================] - 0s 72ms/step\n",
            "예측 요약 :  govt launches internet group to stop internet\n",
            "\n",
            "\n",
            "원문 : gurugram based home rental startup raised crore funding clutch angel investors led khosla anirudh agarwal khosla agarwal join startup board part deal founded discovery platform offers ready move individual rooms tenants long stays \n",
            "실제 요약 : home rental startup raises crore \n",
            "1/1 [==============================] - 0s 67ms/step\n",
            "1/1 [==============================] - 0s 71ms/step\n",
            "1/1 [==============================] - 0s 61ms/step\n",
            "1/1 [==============================] - 0s 80ms/step\n",
            "1/1 [==============================] - 0s 187ms/step\n",
            "1/1 [==============================] - 0s 117ms/step\n",
            "예측 요약 :  bengaluru startup raises crore\n",
            "\n",
            "\n",
            "원문 : reserve bank india reserves panel chairman bimal jalan said central bank accountable government autonomous institution deliver services government approved part policy framework added differences views resolved internally country interest former rbi governor said \n",
            "실제 요약 : rbi accountable to government reserves panel chairman \n",
            "1/1 [==============================] - 0s 29ms/step\n",
            "1/1 [==============================] - 0s 32ms/step\n",
            "1/1 [==============================] - 0s 75ms/step\n",
            "1/1 [==============================] - 0s 30ms/step\n",
            "1/1 [==============================] - 0s 62ms/step\n",
            "1/1 [==============================] - 0s 39ms/step\n",
            "1/1 [==============================] - 0s 39ms/step\n",
            "1/1 [==============================] - 0s 31ms/step\n",
            "1/1 [==============================] - 0s 41ms/step\n",
            "예측 요약 :  rbi imposes rbi to take on bailout\n",
            "\n",
            "\n",
            "원문 : asked congress president rahul gandhi meet chinese ministers trip kailash mansarovar last year chinese envoy zhaohui said chinese government chinese side welcome pilgrims india meanwhile bjp called rahul chinese asked give complete details meeting china ministers officials \n",
            "실제 요약 : we welcome pilgrims china envoy on rahul meeting their ministers \n",
            "1/1 [==============================] - 0s 37ms/step\n",
            "1/1 [==============================] - 0s 32ms/step\n",
            "1/1 [==============================] - 0s 37ms/step\n",
            "1/1 [==============================] - 0s 19ms/step\n",
            "1/1 [==============================] - 0s 21ms/step\n",
            "1/1 [==============================] - 0s 20ms/step\n",
            "1/1 [==============================] - 0s 19ms/step\n",
            "1/1 [==============================] - 0s 19ms/step\n",
            "1/1 [==============================] - 0s 19ms/step\n",
            "예측 요약 :  india china china china china visit china\n",
            "\n",
            "\n",
            "원문 : two months brihanmumbai municipal corporation rejected proposal hectares land aarey milk colony metro car shed instead green zone state government overruled government reportedly listed six measures include planting feet tall trees groundwater etc mitigate environmental impact move \n",
            "실제 요약 : maharashtra government sanctions metro car at \n",
            "1/1 [==============================] - 0s 20ms/step\n",
            "1/1 [==============================] - 0s 19ms/step\n",
            "1/1 [==============================] - 0s 19ms/step\n",
            "1/1 [==============================] - 0s 19ms/step\n",
            "1/1 [==============================] - 0s 19ms/step\n",
            "1/1 [==============================] - 0s 18ms/step\n",
            "1/1 [==============================] - 0s 19ms/step\n",
            "1/1 [==============================] - 0s 19ms/step\n",
            "1/1 [==============================] - 0s 19ms/step\n",
            "예측 요약 :  mumbai civic body to get for trees\n",
            "\n",
            "\n",
            "원문 : congress president rahul gandhi tuesday wrote cbse seeking probe alleged leak personal data neet candidates adding alleged data lakh students available certain websites price gandhi said leak highlighted serious lack safeguards prevent data breach \n",
            "실제 요약 : rahul seeks probe into data leak of neet candidates \n",
            "1/1 [==============================] - 0s 21ms/step\n",
            "1/1 [==============================] - 0s 21ms/step\n",
            "1/1 [==============================] - 0s 21ms/step\n",
            "1/1 [==============================] - 0s 24ms/step\n",
            "1/1 [==============================] - 0s 18ms/step\n",
            "1/1 [==============================] - 0s 19ms/step\n",
            "1/1 [==============================] - 0s 20ms/step\n",
            "1/1 [==============================] - 0s 21ms/step\n",
            "1/1 [==============================] - 0s 19ms/step\n",
            "예측 요약 :  rahul gandhi calls for not paying cases\n",
            "\n",
            "\n"
          ]
        }
      ]
    },
    {
      "cell_type": "markdown",
      "source": [
        "## Step 5. Summa을 이용해서 추출적 요약해보기\n",
        "추상적 요약은 추출적 요약과는 달리 문장의 표현력을 다양하게 가져갈 수 있지만, 추출적 요약에 비해서 난이도가 높아요. 반대로 말하면 추출적 요약은 추상적 요약에 비해 난이도가 낮고 기존 문장에서 문장을 꺼내오는 것이므로 잘못된 요약이 나올 가능성이 낮아요.\n",
        "\n",
        "Summa의 summarize를 사용하여 추출적 요약을 해보세요."
      ],
      "metadata": {
        "id": "0f9ulcDTe4cV"
      }
    },
    {
      "cell_type": "code",
      "source": [
        "!pip install summa"
      ],
      "metadata": {
        "colab": {
          "base_uri": "https://localhost:8080/"
        },
        "id": "nvaaqmudr9ZX",
        "outputId": "ba9f5e55-5a61-49cf-8b56-4add3f8f4b6c"
      },
      "execution_count": 57,
      "outputs": [
        {
          "output_type": "stream",
          "name": "stdout",
          "text": [
            "Requirement already satisfied: summa in /usr/local/lib/python3.10/dist-packages (1.2.0)\n",
            "Requirement already satisfied: scipy>=0.19 in /usr/local/lib/python3.10/dist-packages (from summa) (1.11.3)\n",
            "Requirement already satisfied: numpy<1.28.0,>=1.21.6 in /usr/local/lib/python3.10/dist-packages (from scipy>=0.19->summa) (1.23.5)\n"
          ]
        }
      ]
    },
    {
      "cell_type": "code",
      "source": [
        "import pandas as pd\n",
        "import urllib.request\n",
        "from summa.summarizer import summarize"
      ],
      "metadata": {
        "id": "0uwn-G8FsDPG"
      },
      "execution_count": 58,
      "outputs": []
    },
    {
      "cell_type": "code",
      "source": [
        "# 데이터셋 다운로드 및 로드\n",
        "urllib.request.urlretrieve(\"https://raw.githubusercontent.com/sunnysai12345/News_Summary/master/news_summary_more.csv\", filename=\"news_summary_more.csv\")\n",
        "data1 = pd.read_csv('news_summary_more.csv', encoding='iso-8859-1')"
      ],
      "metadata": {
        "id": "dUYPO73PuPuk"
      },
      "execution_count": 60,
      "outputs": []
    },
    {
      "cell_type": "code",
      "source": [
        "# Summa를 사용하여 추출적 요약 수행 (첫 10개의 샘플에 대해)\n",
        "for i in range(10):\n",
        "    print(f\"기사 {i+1} 요약:\")\n",
        "    print(\"원본 Headline:\", data1['headlines'][i])\n",
        "    print(\"추출적 요약:\", summarize(data1['text'][i], ratio=0.5))\n",
        "    print(\"\\n\")"
      ],
      "metadata": {
        "colab": {
          "base_uri": "https://localhost:8080/"
        },
        "id": "ky3ytqhpuUsB",
        "outputId": "f59bf97f-e574-4d7e-d0fc-f668ec0abb88"
      },
      "execution_count": 61,
      "outputs": [
        {
          "output_type": "stream",
          "name": "stdout",
          "text": [
            "기사 1 요약:\n",
            "원본 Headline: upGrad learner switches to career in ML & Al with 90% salary hike\n",
            "추출적 요약: upGrad's Online Power Learning has powered 3 lakh+ careers.\n",
            "\n",
            "\n",
            "기사 2 요약:\n",
            "원본 Headline: Delhi techie wins free food from Swiggy for one year on CRED\n",
            "추출적 요약: Users get one CRED coin per rupee of bill paid, which can be used to avail rewards from brands like Ixigo, BookMyShow, UberEats, Cult.Fit and more.\n",
            "\n",
            "\n",
            "기사 3 요약:\n",
            "원본 Headline: New Zealand end Rohit Sharma-led India's 12-match winning streak\n",
            "추출적 요약: The match witnessed India getting all out for 92, their seventh lowest total in ODI cricket history.\n",
            "\n",
            "\n",
            "기사 4 요약:\n",
            "원본 Headline: Aegon life iTerm insurance plan helps customers save tax\n",
            "추출적 요약: Also, customers have options to insure against Critical Illnesses, Disability and Accidental Death Benefit Rider with a life cover up to the age of 80 years.\n",
            "\n",
            "\n",
            "기사 5 요약:\n",
            "원본 Headline: Have known Hirani for yrs, what if MeToo claims are not true: Sonam\n",
            "추출적 요약: Speaking about the sexual harassment allegations against Rajkumar Hirani, Sonam Kapoor said, \"I've known Hirani for many years...What if it's not true, the [#MeToo] movement will get derailed.\" \"In the #MeToo movement, I always believe a woman.\n",
            "\n",
            "\n",
            "기사 6 요약:\n",
            "원본 Headline: Rahat Fateh Ali Khan denies getting notice for smuggling currency\n",
            "추출적 요약: Pakistani singer Rahat Fateh Ali Khan has denied receiving any notice from the Enforcement Directorate over allegedly smuggling foreign currency out of India.\n",
            "\n",
            "\n",
            "기사 7 요약:\n",
            "원본 Headline: India get all out for 92, their lowest ODI total in New Zealand\n",
            "추출적 요약: India's previous lowest ODI total in New Zealand was 108.\n",
            "\n",
            "\n",
            "기사 8 요약:\n",
            "원본 Headline: Govt directs Alok Verma to join work 1 day before his retirement\n",
            "추출적 요약: Weeks after ex-CBI Director Alok Verma told the Department of Personnel and Training to consider him retired, the Home Ministry asked him to join work on the last day of his fixed tenure as Director on Thursday.\n",
            "\n",
            "\n",
            "기사 9 요약:\n",
            "원본 Headline: Called PM Modi 'sir' 10 times to satisfy his ego: Andhra CM\n",
            "추출적 요약: Andhra Pradesh CM N Chandrababu Naidu has said, \"When I met then US President Bill Clinton, I addressed him as Mr Clinton, not as 'sir'.\n",
            "\n",
            "\n",
            "기사 10 요약:\n",
            "원본 Headline: Cong wins Ramgarh bypoll in Rajasthan, takes total to 100 seats\n",
            "추출적 요약: Congress candidate Shafia Zubair won the Ramgarh Assembly seat in Rajasthan, by defeating BJP's Sukhwant Singh with a margin of 12,228 votes in the bypoll.\n",
            "\n",
            "\n"
          ]
        }
      ]
    },
    {
      "cell_type": "code",
      "source": [
        "comparison_df = pd.DataFrame(columns=[\"원문\", \"실제 요약\", \"추상적 요약\", \"추출적 요약\"])\n",
        "\n",
        "# 추상적 요약과 추출적 요약 결과 비교\n",
        "for i in range(10):\n",
        "    # 원문\n",
        "    original_text = seq2text(encoder_input_test[i])\n",
        "\n",
        "    # 실제 요약\n",
        "    actual_summary = seq2summary(decoder_input_test[i])\n",
        "\n",
        "    # 추상적 요약\n",
        "    abstract_summary = decode_sequence(encoder_input_test[i].reshape(1, text_max_len))\n",
        "\n",
        "    # 추출적 요약\n",
        "    extractive_summary = summarize(data1['text'][i], ratio=0.5)\n",
        "\n",
        "    # 결과를 데이터 프레임에 추가\n",
        "    comparison_df = comparison_df.append({\"원문\": original_text, \"실제 요약\": actual_summary,\n",
        "                                          \"추상적 요약\": abstract_summary, \"추출적 요약\": extractive_summary},\n",
        "                                         ignore_index=True)\n",
        "\n",
        "# 결과 표시\n",
        "print(comparison_df)\n"
      ],
      "metadata": {
        "colab": {
          "base_uri": "https://localhost:8080/"
        },
        "id": "45JLULo_vGm-",
        "outputId": "37e8eba8-44a5-4061-ad21-9b1e42ec91c6"
      },
      "execution_count": 64,
      "outputs": [
        {
          "output_type": "stream",
          "name": "stdout",
          "text": [
            "1/1 [==============================] - 0s 34ms/step\n",
            "1/1 [==============================] - 0s 32ms/step\n",
            "1/1 [==============================] - 0s 35ms/step\n",
            "1/1 [==============================] - 0s 26ms/step\n",
            "1/1 [==============================] - 0s 20ms/step\n",
            "1/1 [==============================] - 0s 19ms/step\n",
            "1/1 [==============================] - 0s 19ms/step\n",
            "1/1 [==============================] - 0s 22ms/step\n",
            "1/1 [==============================] - 0s 20ms/step\n",
            "1/1 [==============================] - 0s 19ms/step\n",
            "1/1 [==============================] - 0s 20ms/step\n",
            "1/1 [==============================] - 0s 19ms/step\n"
          ]
        },
        {
          "output_type": "stream",
          "name": "stderr",
          "text": [
            "<ipython-input-64-d6008d062562>:18: FutureWarning: The frame.append method is deprecated and will be removed from pandas in a future version. Use pandas.concat instead.\n",
            "  comparison_df = comparison_df.append({\"원문\": original_text, \"실제 요약\": actual_summary,\n"
          ]
        },
        {
          "output_type": "stream",
          "name": "stdout",
          "text": [
            "1/1 [==============================] - 0s 19ms/step\n",
            "1/1 [==============================] - 0s 20ms/step\n",
            "1/1 [==============================] - 0s 19ms/step\n",
            "1/1 [==============================] - 0s 19ms/step\n",
            "1/1 [==============================] - 0s 21ms/step\n",
            "1/1 [==============================] - 0s 19ms/step\n",
            "1/1 [==============================] - 0s 21ms/step\n",
            "1/1 [==============================] - 0s 20ms/step\n"
          ]
        },
        {
          "output_type": "stream",
          "name": "stderr",
          "text": [
            "<ipython-input-64-d6008d062562>:18: FutureWarning: The frame.append method is deprecated and will be removed from pandas in a future version. Use pandas.concat instead.\n",
            "  comparison_df = comparison_df.append({\"원문\": original_text, \"실제 요약\": actual_summary,\n"
          ]
        },
        {
          "output_type": "stream",
          "name": "stdout",
          "text": [
            "1/1 [==============================] - 0s 18ms/step\n",
            "1/1 [==============================] - 0s 20ms/step\n",
            "1/1 [==============================] - 0s 19ms/step\n",
            "1/1 [==============================] - 0s 20ms/step\n",
            "1/1 [==============================] - 0s 19ms/step\n",
            "1/1 [==============================] - 0s 21ms/step\n",
            "1/1 [==============================] - 0s 22ms/step\n"
          ]
        },
        {
          "output_type": "stream",
          "name": "stderr",
          "text": [
            "<ipython-input-64-d6008d062562>:18: FutureWarning: The frame.append method is deprecated and will be removed from pandas in a future version. Use pandas.concat instead.\n",
            "  comparison_df = comparison_df.append({\"원문\": original_text, \"실제 요약\": actual_summary,\n"
          ]
        },
        {
          "output_type": "stream",
          "name": "stdout",
          "text": [
            "1/1 [==============================] - 0s 24ms/step\n",
            "1/1 [==============================] - 0s 19ms/step\n",
            "1/1 [==============================] - 0s 18ms/step\n",
            "1/1 [==============================] - 0s 19ms/step\n",
            "1/1 [==============================] - 0s 19ms/step\n",
            "1/1 [==============================] - 0s 20ms/step\n",
            "1/1 [==============================] - 0s 21ms/step\n",
            "1/1 [==============================] - 0s 19ms/step\n",
            "1/1 [==============================] - 0s 22ms/step\n",
            "1/1 [==============================] - 0s 21ms/step\n"
          ]
        },
        {
          "output_type": "stream",
          "name": "stderr",
          "text": [
            "<ipython-input-64-d6008d062562>:18: FutureWarning: The frame.append method is deprecated and will be removed from pandas in a future version. Use pandas.concat instead.\n",
            "  comparison_df = comparison_df.append({\"원문\": original_text, \"실제 요약\": actual_summary,\n"
          ]
        },
        {
          "output_type": "stream",
          "name": "stdout",
          "text": [
            "1/1 [==============================] - 0s 20ms/step\n",
            "1/1 [==============================] - 0s 22ms/step\n",
            "1/1 [==============================] - 0s 19ms/step\n",
            "1/1 [==============================] - 0s 24ms/step\n",
            "1/1 [==============================] - 0s 19ms/step\n",
            "1/1 [==============================] - 0s 23ms/step\n",
            "1/1 [==============================] - 0s 19ms/step\n",
            "1/1 [==============================] - 0s 19ms/step\n",
            "1/1 [==============================] - 0s 19ms/step\n",
            "1/1 [==============================] - 0s 20ms/step\n"
          ]
        },
        {
          "output_type": "stream",
          "name": "stderr",
          "text": [
            "<ipython-input-64-d6008d062562>:18: FutureWarning: The frame.append method is deprecated and will be removed from pandas in a future version. Use pandas.concat instead.\n",
            "  comparison_df = comparison_df.append({\"원문\": original_text, \"실제 요약\": actual_summary,\n"
          ]
        },
        {
          "output_type": "stream",
          "name": "stdout",
          "text": [
            "1/1 [==============================] - 0s 19ms/step\n",
            "1/1 [==============================] - 0s 20ms/step\n",
            "1/1 [==============================] - 0s 20ms/step\n",
            "1/1 [==============================] - 0s 19ms/step\n",
            "1/1 [==============================] - 0s 19ms/step\n",
            "1/1 [==============================] - 0s 20ms/step\n",
            "1/1 [==============================] - 0s 19ms/step\n",
            "1/1 [==============================] - 0s 21ms/step\n"
          ]
        },
        {
          "output_type": "stream",
          "name": "stderr",
          "text": [
            "<ipython-input-64-d6008d062562>:18: FutureWarning: The frame.append method is deprecated and will be removed from pandas in a future version. Use pandas.concat instead.\n",
            "  comparison_df = comparison_df.append({\"원문\": original_text, \"실제 요약\": actual_summary,\n"
          ]
        },
        {
          "output_type": "stream",
          "name": "stdout",
          "text": [
            "1/1 [==============================] - 0s 19ms/step\n",
            "1/1 [==============================] - 0s 23ms/step\n",
            "1/1 [==============================] - 0s 21ms/step\n",
            "1/1 [==============================] - 0s 22ms/step\n",
            "1/1 [==============================] - 0s 20ms/step\n",
            "1/1 [==============================] - 0s 19ms/step\n",
            "1/1 [==============================] - 0s 21ms/step\n"
          ]
        },
        {
          "output_type": "stream",
          "name": "stderr",
          "text": [
            "<ipython-input-64-d6008d062562>:18: FutureWarning: The frame.append method is deprecated and will be removed from pandas in a future version. Use pandas.concat instead.\n",
            "  comparison_df = comparison_df.append({\"원문\": original_text, \"실제 요약\": actual_summary,\n"
          ]
        },
        {
          "output_type": "stream",
          "name": "stdout",
          "text": [
            "1/1 [==============================] - 0s 25ms/step\n",
            "1/1 [==============================] - 0s 21ms/step\n",
            "1/1 [==============================] - 0s 19ms/step\n",
            "1/1 [==============================] - 0s 20ms/step\n",
            "1/1 [==============================] - 0s 23ms/step\n",
            "1/1 [==============================] - 0s 21ms/step\n",
            "1/1 [==============================] - 0s 23ms/step\n",
            "1/1 [==============================] - 0s 25ms/step\n",
            "1/1 [==============================] - 0s 24ms/step\n",
            "1/1 [==============================] - 0s 21ms/step\n"
          ]
        },
        {
          "output_type": "stream",
          "name": "stderr",
          "text": [
            "<ipython-input-64-d6008d062562>:18: FutureWarning: The frame.append method is deprecated and will be removed from pandas in a future version. Use pandas.concat instead.\n",
            "  comparison_df = comparison_df.append({\"원문\": original_text, \"실제 요약\": actual_summary,\n"
          ]
        },
        {
          "output_type": "stream",
          "name": "stdout",
          "text": [
            "1/1 [==============================] - 0s 20ms/step\n",
            "1/1 [==============================] - 0s 20ms/step\n",
            "1/1 [==============================] - 0s 23ms/step\n",
            "1/1 [==============================] - 0s 21ms/step\n",
            "1/1 [==============================] - 0s 19ms/step\n",
            "1/1 [==============================] - 0s 18ms/step\n",
            "1/1 [==============================] - 0s 20ms/step\n",
            "1/1 [==============================] - 0s 22ms/step\n",
            "1/1 [==============================] - 0s 20ms/step\n",
            "1/1 [==============================] - 0s 22ms/step\n"
          ]
        },
        {
          "output_type": "stream",
          "name": "stderr",
          "text": [
            "<ipython-input-64-d6008d062562>:18: FutureWarning: The frame.append method is deprecated and will be removed from pandas in a future version. Use pandas.concat instead.\n",
            "  comparison_df = comparison_df.append({\"원문\": original_text, \"실제 요약\": actual_summary,\n"
          ]
        },
        {
          "output_type": "stream",
          "name": "stdout",
          "text": [
            "1/1 [==============================] - 0s 20ms/step\n",
            "1/1 [==============================] - 0s 23ms/step\n",
            "1/1 [==============================] - 0s 21ms/step\n",
            "1/1 [==============================] - 0s 21ms/step\n",
            "1/1 [==============================] - 0s 21ms/step\n",
            "1/1 [==============================] - 0s 19ms/step\n",
            "1/1 [==============================] - 0s 22ms/step\n",
            "                                                  원문  \\\n",
            "0  inspired compound eye fly stanford researchers...   \n",
            "1  nasa announced billion year old crater called ...   \n",
            "2  announced cancellation flights till october ry...   \n",
            "3  woman chhattisgarh forced give birth autoricks...   \n",
            "4  uber agreed pay million settlement data breach...   \n",
            "5  crpf jawan killed four troopers camp chhattisg...   \n",
            "6  claiming supreme court misled government congr...   \n",
            "7  book career manipur singh known personal strug...   \n",
            "8  delhi national zoological park wednesday launc...   \n",
            "9  south korean technology company samsung report...   \n",
            "\n",
            "                                               실제 요약  \\\n",
            "0                 insect eyes new solar cell design    \n",
            "1    nasa announces landing site for its mars rover    \n",
            "2     after cancelling flights ryanair cancels more    \n",
            "3  woman gives birth in auto as no doctors were a...   \n",
            "4  uber to pay million in settlement over data br...   \n",
            "5   jawan who killed wanted to kill commander probe    \n",
            "6      sc should recall self rafale ruling congress    \n",
            "7                        book on fight hiv released    \n",
            "8                delhi zoo starts free services for    \n",
            "9  samsung making wireless to rival airpods reports    \n",
            "\n",
            "                                              추상적 요약  \\\n",
            "0      scientists develop new system that can detect   \n",
            "1                 nasa spacecraft to make earth mars   \n",
            "2                            to shut down for pilots   \n",
            "3    woman gives birth to remove medical students in   \n",
            "4   uber agrees to pay million to settle uber rep...   \n",
            "5            army martyred in encounter in encounter   \n",
            "6                            congress to probe on sc   \n",
            "7                       who is the age of hiv age of   \n",
            "8   hyd university to get first students to wear ...   \n",
            "9   samsung to launch iphone battery battery in y...   \n",
            "\n",
            "                                              추출적 요약  \n",
            "0  upGrad's Online Power Learning has powered 3 l...  \n",
            "1  Users get one CRED coin per rupee of bill paid...  \n",
            "2  The match witnessed India getting all out for ...  \n",
            "3  Also, customers have options to insure against...  \n",
            "4  Speaking about the sexual harassment allegatio...  \n",
            "5  Pakistani singer Rahat Fateh Ali Khan has deni...  \n",
            "6  India's previous lowest ODI total in New Zeala...  \n",
            "7  Weeks after ex-CBI Director Alok Verma told th...  \n",
            "8  Andhra Pradesh CM N Chandrababu Naidu has said...  \n",
            "9  Congress candidate Shafia Zubair won the Ramga...  \n"
          ]
        },
        {
          "output_type": "stream",
          "name": "stderr",
          "text": [
            "<ipython-input-64-d6008d062562>:18: FutureWarning: The frame.append method is deprecated and will be removed from pandas in a future version. Use pandas.concat instead.\n",
            "  comparison_df = comparison_df.append({\"원문\": original_text, \"실제 요약\": actual_summary,\n"
          ]
        }
      ]
    }
  ]
}