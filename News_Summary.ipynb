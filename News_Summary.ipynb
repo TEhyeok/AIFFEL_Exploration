{
  "nbformat": 4,
  "nbformat_minor": 0,
  "metadata": {
    "colab": {
      "provenance": [],
      "gpuType": "V100",
      "authorship_tag": "ABX9TyO2CrFXMqITQoIwhApsx/KK",
      "include_colab_link": true
    },
    "kernelspec": {
      "name": "python3",
      "display_name": "Python 3"
    },
    "language_info": {
      "name": "python"
    },
    "accelerator": "GPU"
  },
  "cells": [
    {
      "cell_type": "markdown",
      "metadata": {
        "id": "view-in-github",
        "colab_type": "text"
      },
      "source": [
        "<a href=\"https://colab.research.google.com/github/TEhyeok/AIFFEL_Exploration/blob/main/News_Summary.ipynb\" target=\"_parent\"><img src=\"https://colab.research.google.com/assets/colab-badge.svg\" alt=\"Open In Colab\"/></a>"
      ]
    },
    {
      "cell_type": "code",
      "source": [
        "from google.colab import drive\n",
        "drive.mount('/content/drive')"
      ],
      "metadata": {
        "colab": {
          "base_uri": "https://localhost:8080/"
        },
        "id": "NXK0nnkGDfzv",
        "outputId": "1dd9365b-40ed-4b9f-a5c8-5c02daeabfc2"
      },
      "execution_count": 41,
      "outputs": [
        {
          "output_type": "stream",
          "name": "stdout",
          "text": [
            "Drive already mounted at /content/drive; to attempt to forcibly remount, call drive.mount(\"/content/drive\", force_remount=True).\n"
          ]
        }
      ]
    },
    {
      "cell_type": "code",
      "source": [
        "import nltk\n",
        "nltk.download('stopwords')\n",
        "\n",
        "import numpy as np\n",
        "import pandas as pd\n",
        "import os\n",
        "import re\n",
        "import matplotlib.pyplot as plt\n",
        "from nltk.corpus import stopwords\n",
        "from bs4 import BeautifulSoup\n",
        "from tensorflow.keras.preprocessing.text import Tokenizer\n",
        "from tensorflow.keras.preprocessing.sequence import pad_sequences\n",
        "import urllib.request\n",
        "import warnings\n",
        "warnings.filterwarnings(\"ignore\", category=UserWarning, module='bs4')\n",
        "\n",
        "print('=3')"
      ],
      "metadata": {
        "colab": {
          "base_uri": "https://localhost:8080/"
        },
        "id": "om19yXxPD1tb",
        "outputId": "f117da2f-e242-492d-ae2e-d4389cebe941"
      },
      "execution_count": 42,
      "outputs": [
        {
          "output_type": "stream",
          "name": "stdout",
          "text": [
            "=3\n"
          ]
        },
        {
          "output_type": "stream",
          "name": "stderr",
          "text": [
            "[nltk_data] Downloading package stopwords to /root/nltk_data...\n",
            "[nltk_data]   Package stopwords is already up-to-date!\n"
          ]
        }
      ]
    },
    {
      "cell_type": "code",
      "source": [
        "data = pd.read_csv(\"/content/drive/MyDrive/aiffel/Review/Reviews.csv\", nrows=100000)\n",
        "print('전체 샘플수 :', (len(data)))"
      ],
      "metadata": {
        "colab": {
          "base_uri": "https://localhost:8080/"
        },
        "id": "3wkKlxhhD3Vb",
        "outputId": "076e27c3-8cce-4e46-ea30-7b66a7d78cc2"
      },
      "execution_count": 43,
      "outputs": [
        {
          "output_type": "stream",
          "name": "stdout",
          "text": [
            "전체 샘플수 : 100000\n"
          ]
        }
      ]
    },
    {
      "cell_type": "code",
      "source": [
        "data.head()"
      ],
      "metadata": {
        "colab": {
          "base_uri": "https://localhost:8080/",
          "height": 206
        },
        "id": "fMj4aHSQF2Fo",
        "outputId": "1cc1b2b9-9d3b-40f5-e0ff-9dbe0b66d0b4"
      },
      "execution_count": 44,
      "outputs": [
        {
          "output_type": "execute_result",
          "data": {
            "text/plain": [
              "   Id   ProductId          UserId                      ProfileName  \\\n",
              "0   1  B001E4KFG0  A3SGXH7AUHU8GW                       delmartian   \n",
              "1   2  B00813GRG4  A1D87F6ZCVE5NK                           dll pa   \n",
              "2   3  B000LQOCH0   ABXLMWJIXXAIN  Natalia Corres \"Natalia Corres\"   \n",
              "3   4  B000UA0QIQ  A395BORC6FGVXV                             Karl   \n",
              "4   5  B006K2ZZ7K  A1UQRSCLF8GW1T    Michael D. Bigham \"M. Wassir\"   \n",
              "\n",
              "   HelpfulnessNumerator  HelpfulnessDenominator  Score        Time  \\\n",
              "0                     1                       1      5  1303862400   \n",
              "1                     0                       0      1  1346976000   \n",
              "2                     1                       1      4  1219017600   \n",
              "3                     3                       3      2  1307923200   \n",
              "4                     0                       0      5  1350777600   \n",
              "\n",
              "                 Summary                                               Text  \n",
              "0  Good Quality Dog Food  I have bought several of the Vitality canned d...  \n",
              "1      Not as Advertised  Product arrived labeled as Jumbo Salted Peanut...  \n",
              "2  \"Delight\" says it all  This is a confection that has been around a fe...  \n",
              "3         Cough Medicine  If you are looking for the secret ingredient i...  \n",
              "4            Great taffy  Great taffy at a great price.  There was a wid...  "
            ],
            "text/html": [
              "\n",
              "  <div id=\"df-27b1f83e-bc0c-4f51-ad45-3fa2a6880f32\" class=\"colab-df-container\">\n",
              "    <div>\n",
              "<style scoped>\n",
              "    .dataframe tbody tr th:only-of-type {\n",
              "        vertical-align: middle;\n",
              "    }\n",
              "\n",
              "    .dataframe tbody tr th {\n",
              "        vertical-align: top;\n",
              "    }\n",
              "\n",
              "    .dataframe thead th {\n",
              "        text-align: right;\n",
              "    }\n",
              "</style>\n",
              "<table border=\"1\" class=\"dataframe\">\n",
              "  <thead>\n",
              "    <tr style=\"text-align: right;\">\n",
              "      <th></th>\n",
              "      <th>Id</th>\n",
              "      <th>ProductId</th>\n",
              "      <th>UserId</th>\n",
              "      <th>ProfileName</th>\n",
              "      <th>HelpfulnessNumerator</th>\n",
              "      <th>HelpfulnessDenominator</th>\n",
              "      <th>Score</th>\n",
              "      <th>Time</th>\n",
              "      <th>Summary</th>\n",
              "      <th>Text</th>\n",
              "    </tr>\n",
              "  </thead>\n",
              "  <tbody>\n",
              "    <tr>\n",
              "      <th>0</th>\n",
              "      <td>1</td>\n",
              "      <td>B001E4KFG0</td>\n",
              "      <td>A3SGXH7AUHU8GW</td>\n",
              "      <td>delmartian</td>\n",
              "      <td>1</td>\n",
              "      <td>1</td>\n",
              "      <td>5</td>\n",
              "      <td>1303862400</td>\n",
              "      <td>Good Quality Dog Food</td>\n",
              "      <td>I have bought several of the Vitality canned d...</td>\n",
              "    </tr>\n",
              "    <tr>\n",
              "      <th>1</th>\n",
              "      <td>2</td>\n",
              "      <td>B00813GRG4</td>\n",
              "      <td>A1D87F6ZCVE5NK</td>\n",
              "      <td>dll pa</td>\n",
              "      <td>0</td>\n",
              "      <td>0</td>\n",
              "      <td>1</td>\n",
              "      <td>1346976000</td>\n",
              "      <td>Not as Advertised</td>\n",
              "      <td>Product arrived labeled as Jumbo Salted Peanut...</td>\n",
              "    </tr>\n",
              "    <tr>\n",
              "      <th>2</th>\n",
              "      <td>3</td>\n",
              "      <td>B000LQOCH0</td>\n",
              "      <td>ABXLMWJIXXAIN</td>\n",
              "      <td>Natalia Corres \"Natalia Corres\"</td>\n",
              "      <td>1</td>\n",
              "      <td>1</td>\n",
              "      <td>4</td>\n",
              "      <td>1219017600</td>\n",
              "      <td>\"Delight\" says it all</td>\n",
              "      <td>This is a confection that has been around a fe...</td>\n",
              "    </tr>\n",
              "    <tr>\n",
              "      <th>3</th>\n",
              "      <td>4</td>\n",
              "      <td>B000UA0QIQ</td>\n",
              "      <td>A395BORC6FGVXV</td>\n",
              "      <td>Karl</td>\n",
              "      <td>3</td>\n",
              "      <td>3</td>\n",
              "      <td>2</td>\n",
              "      <td>1307923200</td>\n",
              "      <td>Cough Medicine</td>\n",
              "      <td>If you are looking for the secret ingredient i...</td>\n",
              "    </tr>\n",
              "    <tr>\n",
              "      <th>4</th>\n",
              "      <td>5</td>\n",
              "      <td>B006K2ZZ7K</td>\n",
              "      <td>A1UQRSCLF8GW1T</td>\n",
              "      <td>Michael D. Bigham \"M. Wassir\"</td>\n",
              "      <td>0</td>\n",
              "      <td>0</td>\n",
              "      <td>5</td>\n",
              "      <td>1350777600</td>\n",
              "      <td>Great taffy</td>\n",
              "      <td>Great taffy at a great price.  There was a wid...</td>\n",
              "    </tr>\n",
              "  </tbody>\n",
              "</table>\n",
              "</div>\n",
              "    <div class=\"colab-df-buttons\">\n",
              "\n",
              "  <div class=\"colab-df-container\">\n",
              "    <button class=\"colab-df-convert\" onclick=\"convertToInteractive('df-27b1f83e-bc0c-4f51-ad45-3fa2a6880f32')\"\n",
              "            title=\"Convert this dataframe to an interactive table.\"\n",
              "            style=\"display:none;\">\n",
              "\n",
              "  <svg xmlns=\"http://www.w3.org/2000/svg\" height=\"24px\" viewBox=\"0 -960 960 960\">\n",
              "    <path d=\"M120-120v-720h720v720H120Zm60-500h600v-160H180v160Zm220 220h160v-160H400v160Zm0 220h160v-160H400v160ZM180-400h160v-160H180v160Zm440 0h160v-160H620v160ZM180-180h160v-160H180v160Zm440 0h160v-160H620v160Z\"/>\n",
              "  </svg>\n",
              "    </button>\n",
              "\n",
              "  <style>\n",
              "    .colab-df-container {\n",
              "      display:flex;\n",
              "      gap: 12px;\n",
              "    }\n",
              "\n",
              "    .colab-df-convert {\n",
              "      background-color: #E8F0FE;\n",
              "      border: none;\n",
              "      border-radius: 50%;\n",
              "      cursor: pointer;\n",
              "      display: none;\n",
              "      fill: #1967D2;\n",
              "      height: 32px;\n",
              "      padding: 0 0 0 0;\n",
              "      width: 32px;\n",
              "    }\n",
              "\n",
              "    .colab-df-convert:hover {\n",
              "      background-color: #E2EBFA;\n",
              "      box-shadow: 0px 1px 2px rgba(60, 64, 67, 0.3), 0px 1px 3px 1px rgba(60, 64, 67, 0.15);\n",
              "      fill: #174EA6;\n",
              "    }\n",
              "\n",
              "    .colab-df-buttons div {\n",
              "      margin-bottom: 4px;\n",
              "    }\n",
              "\n",
              "    [theme=dark] .colab-df-convert {\n",
              "      background-color: #3B4455;\n",
              "      fill: #D2E3FC;\n",
              "    }\n",
              "\n",
              "    [theme=dark] .colab-df-convert:hover {\n",
              "      background-color: #434B5C;\n",
              "      box-shadow: 0px 1px 3px 1px rgba(0, 0, 0, 0.15);\n",
              "      filter: drop-shadow(0px 1px 2px rgba(0, 0, 0, 0.3));\n",
              "      fill: #FFFFFF;\n",
              "    }\n",
              "  </style>\n",
              "\n",
              "    <script>\n",
              "      const buttonEl =\n",
              "        document.querySelector('#df-27b1f83e-bc0c-4f51-ad45-3fa2a6880f32 button.colab-df-convert');\n",
              "      buttonEl.style.display =\n",
              "        google.colab.kernel.accessAllowed ? 'block' : 'none';\n",
              "\n",
              "      async function convertToInteractive(key) {\n",
              "        const element = document.querySelector('#df-27b1f83e-bc0c-4f51-ad45-3fa2a6880f32');\n",
              "        const dataTable =\n",
              "          await google.colab.kernel.invokeFunction('convertToInteractive',\n",
              "                                                    [key], {});\n",
              "        if (!dataTable) return;\n",
              "\n",
              "        const docLinkHtml = 'Like what you see? Visit the ' +\n",
              "          '<a target=\"_blank\" href=https://colab.research.google.com/notebooks/data_table.ipynb>data table notebook</a>'\n",
              "          + ' to learn more about interactive tables.';\n",
              "        element.innerHTML = '';\n",
              "        dataTable['output_type'] = 'display_data';\n",
              "        await google.colab.output.renderOutput(dataTable, element);\n",
              "        const docLink = document.createElement('div');\n",
              "        docLink.innerHTML = docLinkHtml;\n",
              "        element.appendChild(docLink);\n",
              "      }\n",
              "    </script>\n",
              "  </div>\n",
              "\n",
              "\n",
              "<div id=\"df-e9a7e349-e337-423c-b490-5ca1ebdf334e\">\n",
              "  <button class=\"colab-df-quickchart\" onclick=\"quickchart('df-e9a7e349-e337-423c-b490-5ca1ebdf334e')\"\n",
              "            title=\"Suggest charts\"\n",
              "            style=\"display:none;\">\n",
              "\n",
              "<svg xmlns=\"http://www.w3.org/2000/svg\" height=\"24px\"viewBox=\"0 0 24 24\"\n",
              "     width=\"24px\">\n",
              "    <g>\n",
              "        <path d=\"M19 3H5c-1.1 0-2 .9-2 2v14c0 1.1.9 2 2 2h14c1.1 0 2-.9 2-2V5c0-1.1-.9-2-2-2zM9 17H7v-7h2v7zm4 0h-2V7h2v10zm4 0h-2v-4h2v4z\"/>\n",
              "    </g>\n",
              "</svg>\n",
              "  </button>\n",
              "\n",
              "<style>\n",
              "  .colab-df-quickchart {\n",
              "      --bg-color: #E8F0FE;\n",
              "      --fill-color: #1967D2;\n",
              "      --hover-bg-color: #E2EBFA;\n",
              "      --hover-fill-color: #174EA6;\n",
              "      --disabled-fill-color: #AAA;\n",
              "      --disabled-bg-color: #DDD;\n",
              "  }\n",
              "\n",
              "  [theme=dark] .colab-df-quickchart {\n",
              "      --bg-color: #3B4455;\n",
              "      --fill-color: #D2E3FC;\n",
              "      --hover-bg-color: #434B5C;\n",
              "      --hover-fill-color: #FFFFFF;\n",
              "      --disabled-bg-color: #3B4455;\n",
              "      --disabled-fill-color: #666;\n",
              "  }\n",
              "\n",
              "  .colab-df-quickchart {\n",
              "    background-color: var(--bg-color);\n",
              "    border: none;\n",
              "    border-radius: 50%;\n",
              "    cursor: pointer;\n",
              "    display: none;\n",
              "    fill: var(--fill-color);\n",
              "    height: 32px;\n",
              "    padding: 0;\n",
              "    width: 32px;\n",
              "  }\n",
              "\n",
              "  .colab-df-quickchart:hover {\n",
              "    background-color: var(--hover-bg-color);\n",
              "    box-shadow: 0 1px 2px rgba(60, 64, 67, 0.3), 0 1px 3px 1px rgba(60, 64, 67, 0.15);\n",
              "    fill: var(--button-hover-fill-color);\n",
              "  }\n",
              "\n",
              "  .colab-df-quickchart-complete:disabled,\n",
              "  .colab-df-quickchart-complete:disabled:hover {\n",
              "    background-color: var(--disabled-bg-color);\n",
              "    fill: var(--disabled-fill-color);\n",
              "    box-shadow: none;\n",
              "  }\n",
              "\n",
              "  .colab-df-spinner {\n",
              "    border: 2px solid var(--fill-color);\n",
              "    border-color: transparent;\n",
              "    border-bottom-color: var(--fill-color);\n",
              "    animation:\n",
              "      spin 1s steps(1) infinite;\n",
              "  }\n",
              "\n",
              "  @keyframes spin {\n",
              "    0% {\n",
              "      border-color: transparent;\n",
              "      border-bottom-color: var(--fill-color);\n",
              "      border-left-color: var(--fill-color);\n",
              "    }\n",
              "    20% {\n",
              "      border-color: transparent;\n",
              "      border-left-color: var(--fill-color);\n",
              "      border-top-color: var(--fill-color);\n",
              "    }\n",
              "    30% {\n",
              "      border-color: transparent;\n",
              "      border-left-color: var(--fill-color);\n",
              "      border-top-color: var(--fill-color);\n",
              "      border-right-color: var(--fill-color);\n",
              "    }\n",
              "    40% {\n",
              "      border-color: transparent;\n",
              "      border-right-color: var(--fill-color);\n",
              "      border-top-color: var(--fill-color);\n",
              "    }\n",
              "    60% {\n",
              "      border-color: transparent;\n",
              "      border-right-color: var(--fill-color);\n",
              "    }\n",
              "    80% {\n",
              "      border-color: transparent;\n",
              "      border-right-color: var(--fill-color);\n",
              "      border-bottom-color: var(--fill-color);\n",
              "    }\n",
              "    90% {\n",
              "      border-color: transparent;\n",
              "      border-bottom-color: var(--fill-color);\n",
              "    }\n",
              "  }\n",
              "</style>\n",
              "\n",
              "  <script>\n",
              "    async function quickchart(key) {\n",
              "      const quickchartButtonEl =\n",
              "        document.querySelector('#' + key + ' button');\n",
              "      quickchartButtonEl.disabled = true;  // To prevent multiple clicks.\n",
              "      quickchartButtonEl.classList.add('colab-df-spinner');\n",
              "      try {\n",
              "        const charts = await google.colab.kernel.invokeFunction(\n",
              "            'suggestCharts', [key], {});\n",
              "      } catch (error) {\n",
              "        console.error('Error during call to suggestCharts:', error);\n",
              "      }\n",
              "      quickchartButtonEl.classList.remove('colab-df-spinner');\n",
              "      quickchartButtonEl.classList.add('colab-df-quickchart-complete');\n",
              "    }\n",
              "    (() => {\n",
              "      let quickchartButtonEl =\n",
              "        document.querySelector('#df-e9a7e349-e337-423c-b490-5ca1ebdf334e button');\n",
              "      quickchartButtonEl.style.display =\n",
              "        google.colab.kernel.accessAllowed ? 'block' : 'none';\n",
              "    })();\n",
              "  </script>\n",
              "</div>\n",
              "    </div>\n",
              "  </div>\n"
            ]
          },
          "metadata": {},
          "execution_count": 44
        }
      ]
    },
    {
      "cell_type": "code",
      "source": [
        "data = data[['Summary', 'Text']]\n",
        "data.head()\n",
        "\n",
        "#랜덤한 15개 샘플 출력\n",
        "data.sample(15)"
      ],
      "metadata": {
        "colab": {
          "base_uri": "https://localhost:8080/",
          "height": 520
        },
        "id": "bPmukpmXIon_",
        "outputId": "59b87cbb-2fa0-4eff-dcfa-ab864d25a1f7"
      },
      "execution_count": 45,
      "outputs": [
        {
          "output_type": "execute_result",
          "data": {
            "text/plain": [
              "                                                 Summary  \\\n",
              "83794                                    Ground too fine   \n",
              "48334                                          tasteless   \n",
              "58202                               Best brand out there   \n",
              "51828                                          great tea   \n",
              "95841  No shortage of potatoes in this mild, comforti...   \n",
              "71956   Very tasty and healthy, but could be more in box   \n",
              "90529         Package was not sealed. Popcorn not fresh.   \n",
              "50793                                   What is in this?   \n",
              "25594      Four cats, a large jar of cat-nip. Go figure.   \n",
              "22039                               too scary for my dog   \n",
              "71394                                       Great snack!   \n",
              "95529    A taste treat that makes a perfect light snack.   \n",
              "20785                                         Old coffee   \n",
              "18623  Tastes like chemicals...my Shih tzu & Pekinges...   \n",
              "544    Stale, Rancid Oil Taste, And if You Like Even ...   \n",
              "\n",
              "                                                    Text  \n",
              "83794  We'd been buying the four-pack of Melitta Fren...  \n",
              "48334  consistency is ok but product is absolutely ta...  \n",
              "58202  Our son is now 11 months old and we've been us...  \n",
              "51828  I love this tea company they make great stuff....  \n",
              "95841  I think this is one of the better gluten-free ...  \n",
              "71956  I really enjoy this cereal, appreciate its hea...  \n",
              "90529  When my husband brought in the delivered packa...  \n",
              "50793  I used this once. It works.  My hair is strong...  \n",
              "25594  I have one cat that even though the cat-nip ma...  \n",
              "22039  I was all excited to find a toy that my smart,...  \n",
              "71394  These were great.  The packages are much bigge...  \n",
              "95529  I am a fan of granola bars and often have them...  \n",
              "20785  So when you purchase beans of a reputable bran...  \n",
              "18623  Yes, I tasted them - they taste like chemicals...  \n",
              "544    ...you can absolutely forget about these. Conf...  "
            ],
            "text/html": [
              "\n",
              "  <div id=\"df-a8baf39f-b698-4736-ac0b-cb8f73cfa1f0\" class=\"colab-df-container\">\n",
              "    <div>\n",
              "<style scoped>\n",
              "    .dataframe tbody tr th:only-of-type {\n",
              "        vertical-align: middle;\n",
              "    }\n",
              "\n",
              "    .dataframe tbody tr th {\n",
              "        vertical-align: top;\n",
              "    }\n",
              "\n",
              "    .dataframe thead th {\n",
              "        text-align: right;\n",
              "    }\n",
              "</style>\n",
              "<table border=\"1\" class=\"dataframe\">\n",
              "  <thead>\n",
              "    <tr style=\"text-align: right;\">\n",
              "      <th></th>\n",
              "      <th>Summary</th>\n",
              "      <th>Text</th>\n",
              "    </tr>\n",
              "  </thead>\n",
              "  <tbody>\n",
              "    <tr>\n",
              "      <th>83794</th>\n",
              "      <td>Ground too fine</td>\n",
              "      <td>We'd been buying the four-pack of Melitta Fren...</td>\n",
              "    </tr>\n",
              "    <tr>\n",
              "      <th>48334</th>\n",
              "      <td>tasteless</td>\n",
              "      <td>consistency is ok but product is absolutely ta...</td>\n",
              "    </tr>\n",
              "    <tr>\n",
              "      <th>58202</th>\n",
              "      <td>Best brand out there</td>\n",
              "      <td>Our son is now 11 months old and we've been us...</td>\n",
              "    </tr>\n",
              "    <tr>\n",
              "      <th>51828</th>\n",
              "      <td>great tea</td>\n",
              "      <td>I love this tea company they make great stuff....</td>\n",
              "    </tr>\n",
              "    <tr>\n",
              "      <th>95841</th>\n",
              "      <td>No shortage of potatoes in this mild, comforti...</td>\n",
              "      <td>I think this is one of the better gluten-free ...</td>\n",
              "    </tr>\n",
              "    <tr>\n",
              "      <th>71956</th>\n",
              "      <td>Very tasty and healthy, but could be more in box</td>\n",
              "      <td>I really enjoy this cereal, appreciate its hea...</td>\n",
              "    </tr>\n",
              "    <tr>\n",
              "      <th>90529</th>\n",
              "      <td>Package was not sealed. Popcorn not fresh.</td>\n",
              "      <td>When my husband brought in the delivered packa...</td>\n",
              "    </tr>\n",
              "    <tr>\n",
              "      <th>50793</th>\n",
              "      <td>What is in this?</td>\n",
              "      <td>I used this once. It works.  My hair is strong...</td>\n",
              "    </tr>\n",
              "    <tr>\n",
              "      <th>25594</th>\n",
              "      <td>Four cats, a large jar of cat-nip. Go figure.</td>\n",
              "      <td>I have one cat that even though the cat-nip ma...</td>\n",
              "    </tr>\n",
              "    <tr>\n",
              "      <th>22039</th>\n",
              "      <td>too scary for my dog</td>\n",
              "      <td>I was all excited to find a toy that my smart,...</td>\n",
              "    </tr>\n",
              "    <tr>\n",
              "      <th>71394</th>\n",
              "      <td>Great snack!</td>\n",
              "      <td>These were great.  The packages are much bigge...</td>\n",
              "    </tr>\n",
              "    <tr>\n",
              "      <th>95529</th>\n",
              "      <td>A taste treat that makes a perfect light snack.</td>\n",
              "      <td>I am a fan of granola bars and often have them...</td>\n",
              "    </tr>\n",
              "    <tr>\n",
              "      <th>20785</th>\n",
              "      <td>Old coffee</td>\n",
              "      <td>So when you purchase beans of a reputable bran...</td>\n",
              "    </tr>\n",
              "    <tr>\n",
              "      <th>18623</th>\n",
              "      <td>Tastes like chemicals...my Shih tzu &amp; Pekinges...</td>\n",
              "      <td>Yes, I tasted them - they taste like chemicals...</td>\n",
              "    </tr>\n",
              "    <tr>\n",
              "      <th>544</th>\n",
              "      <td>Stale, Rancid Oil Taste, And if You Like Even ...</td>\n",
              "      <td>...you can absolutely forget about these. Conf...</td>\n",
              "    </tr>\n",
              "  </tbody>\n",
              "</table>\n",
              "</div>\n",
              "    <div class=\"colab-df-buttons\">\n",
              "\n",
              "  <div class=\"colab-df-container\">\n",
              "    <button class=\"colab-df-convert\" onclick=\"convertToInteractive('df-a8baf39f-b698-4736-ac0b-cb8f73cfa1f0')\"\n",
              "            title=\"Convert this dataframe to an interactive table.\"\n",
              "            style=\"display:none;\">\n",
              "\n",
              "  <svg xmlns=\"http://www.w3.org/2000/svg\" height=\"24px\" viewBox=\"0 -960 960 960\">\n",
              "    <path d=\"M120-120v-720h720v720H120Zm60-500h600v-160H180v160Zm220 220h160v-160H400v160Zm0 220h160v-160H400v160ZM180-400h160v-160H180v160Zm440 0h160v-160H620v160ZM180-180h160v-160H180v160Zm440 0h160v-160H620v160Z\"/>\n",
              "  </svg>\n",
              "    </button>\n",
              "\n",
              "  <style>\n",
              "    .colab-df-container {\n",
              "      display:flex;\n",
              "      gap: 12px;\n",
              "    }\n",
              "\n",
              "    .colab-df-convert {\n",
              "      background-color: #E8F0FE;\n",
              "      border: none;\n",
              "      border-radius: 50%;\n",
              "      cursor: pointer;\n",
              "      display: none;\n",
              "      fill: #1967D2;\n",
              "      height: 32px;\n",
              "      padding: 0 0 0 0;\n",
              "      width: 32px;\n",
              "    }\n",
              "\n",
              "    .colab-df-convert:hover {\n",
              "      background-color: #E2EBFA;\n",
              "      box-shadow: 0px 1px 2px rgba(60, 64, 67, 0.3), 0px 1px 3px 1px rgba(60, 64, 67, 0.15);\n",
              "      fill: #174EA6;\n",
              "    }\n",
              "\n",
              "    .colab-df-buttons div {\n",
              "      margin-bottom: 4px;\n",
              "    }\n",
              "\n",
              "    [theme=dark] .colab-df-convert {\n",
              "      background-color: #3B4455;\n",
              "      fill: #D2E3FC;\n",
              "    }\n",
              "\n",
              "    [theme=dark] .colab-df-convert:hover {\n",
              "      background-color: #434B5C;\n",
              "      box-shadow: 0px 1px 3px 1px rgba(0, 0, 0, 0.15);\n",
              "      filter: drop-shadow(0px 1px 2px rgba(0, 0, 0, 0.3));\n",
              "      fill: #FFFFFF;\n",
              "    }\n",
              "  </style>\n",
              "\n",
              "    <script>\n",
              "      const buttonEl =\n",
              "        document.querySelector('#df-a8baf39f-b698-4736-ac0b-cb8f73cfa1f0 button.colab-df-convert');\n",
              "      buttonEl.style.display =\n",
              "        google.colab.kernel.accessAllowed ? 'block' : 'none';\n",
              "\n",
              "      async function convertToInteractive(key) {\n",
              "        const element = document.querySelector('#df-a8baf39f-b698-4736-ac0b-cb8f73cfa1f0');\n",
              "        const dataTable =\n",
              "          await google.colab.kernel.invokeFunction('convertToInteractive',\n",
              "                                                    [key], {});\n",
              "        if (!dataTable) return;\n",
              "\n",
              "        const docLinkHtml = 'Like what you see? Visit the ' +\n",
              "          '<a target=\"_blank\" href=https://colab.research.google.com/notebooks/data_table.ipynb>data table notebook</a>'\n",
              "          + ' to learn more about interactive tables.';\n",
              "        element.innerHTML = '';\n",
              "        dataTable['output_type'] = 'display_data';\n",
              "        await google.colab.output.renderOutput(dataTable, element);\n",
              "        const docLink = document.createElement('div');\n",
              "        docLink.innerHTML = docLinkHtml;\n",
              "        element.appendChild(docLink);\n",
              "      }\n",
              "    </script>\n",
              "  </div>\n",
              "\n",
              "\n",
              "<div id=\"df-b7fb9b47-3e32-4f04-ab3f-01db7e0b4f55\">\n",
              "  <button class=\"colab-df-quickchart\" onclick=\"quickchart('df-b7fb9b47-3e32-4f04-ab3f-01db7e0b4f55')\"\n",
              "            title=\"Suggest charts\"\n",
              "            style=\"display:none;\">\n",
              "\n",
              "<svg xmlns=\"http://www.w3.org/2000/svg\" height=\"24px\"viewBox=\"0 0 24 24\"\n",
              "     width=\"24px\">\n",
              "    <g>\n",
              "        <path d=\"M19 3H5c-1.1 0-2 .9-2 2v14c0 1.1.9 2 2 2h14c1.1 0 2-.9 2-2V5c0-1.1-.9-2-2-2zM9 17H7v-7h2v7zm4 0h-2V7h2v10zm4 0h-2v-4h2v4z\"/>\n",
              "    </g>\n",
              "</svg>\n",
              "  </button>\n",
              "\n",
              "<style>\n",
              "  .colab-df-quickchart {\n",
              "      --bg-color: #E8F0FE;\n",
              "      --fill-color: #1967D2;\n",
              "      --hover-bg-color: #E2EBFA;\n",
              "      --hover-fill-color: #174EA6;\n",
              "      --disabled-fill-color: #AAA;\n",
              "      --disabled-bg-color: #DDD;\n",
              "  }\n",
              "\n",
              "  [theme=dark] .colab-df-quickchart {\n",
              "      --bg-color: #3B4455;\n",
              "      --fill-color: #D2E3FC;\n",
              "      --hover-bg-color: #434B5C;\n",
              "      --hover-fill-color: #FFFFFF;\n",
              "      --disabled-bg-color: #3B4455;\n",
              "      --disabled-fill-color: #666;\n",
              "  }\n",
              "\n",
              "  .colab-df-quickchart {\n",
              "    background-color: var(--bg-color);\n",
              "    border: none;\n",
              "    border-radius: 50%;\n",
              "    cursor: pointer;\n",
              "    display: none;\n",
              "    fill: var(--fill-color);\n",
              "    height: 32px;\n",
              "    padding: 0;\n",
              "    width: 32px;\n",
              "  }\n",
              "\n",
              "  .colab-df-quickchart:hover {\n",
              "    background-color: var(--hover-bg-color);\n",
              "    box-shadow: 0 1px 2px rgba(60, 64, 67, 0.3), 0 1px 3px 1px rgba(60, 64, 67, 0.15);\n",
              "    fill: var(--button-hover-fill-color);\n",
              "  }\n",
              "\n",
              "  .colab-df-quickchart-complete:disabled,\n",
              "  .colab-df-quickchart-complete:disabled:hover {\n",
              "    background-color: var(--disabled-bg-color);\n",
              "    fill: var(--disabled-fill-color);\n",
              "    box-shadow: none;\n",
              "  }\n",
              "\n",
              "  .colab-df-spinner {\n",
              "    border: 2px solid var(--fill-color);\n",
              "    border-color: transparent;\n",
              "    border-bottom-color: var(--fill-color);\n",
              "    animation:\n",
              "      spin 1s steps(1) infinite;\n",
              "  }\n",
              "\n",
              "  @keyframes spin {\n",
              "    0% {\n",
              "      border-color: transparent;\n",
              "      border-bottom-color: var(--fill-color);\n",
              "      border-left-color: var(--fill-color);\n",
              "    }\n",
              "    20% {\n",
              "      border-color: transparent;\n",
              "      border-left-color: var(--fill-color);\n",
              "      border-top-color: var(--fill-color);\n",
              "    }\n",
              "    30% {\n",
              "      border-color: transparent;\n",
              "      border-left-color: var(--fill-color);\n",
              "      border-top-color: var(--fill-color);\n",
              "      border-right-color: var(--fill-color);\n",
              "    }\n",
              "    40% {\n",
              "      border-color: transparent;\n",
              "      border-right-color: var(--fill-color);\n",
              "      border-top-color: var(--fill-color);\n",
              "    }\n",
              "    60% {\n",
              "      border-color: transparent;\n",
              "      border-right-color: var(--fill-color);\n",
              "    }\n",
              "    80% {\n",
              "      border-color: transparent;\n",
              "      border-right-color: var(--fill-color);\n",
              "      border-bottom-color: var(--fill-color);\n",
              "    }\n",
              "    90% {\n",
              "      border-color: transparent;\n",
              "      border-bottom-color: var(--fill-color);\n",
              "    }\n",
              "  }\n",
              "</style>\n",
              "\n",
              "  <script>\n",
              "    async function quickchart(key) {\n",
              "      const quickchartButtonEl =\n",
              "        document.querySelector('#' + key + ' button');\n",
              "      quickchartButtonEl.disabled = true;  // To prevent multiple clicks.\n",
              "      quickchartButtonEl.classList.add('colab-df-spinner');\n",
              "      try {\n",
              "        const charts = await google.colab.kernel.invokeFunction(\n",
              "            'suggestCharts', [key], {});\n",
              "      } catch (error) {\n",
              "        console.error('Error during call to suggestCharts:', error);\n",
              "      }\n",
              "      quickchartButtonEl.classList.remove('colab-df-spinner');\n",
              "      quickchartButtonEl.classList.add('colab-df-quickchart-complete');\n",
              "    }\n",
              "    (() => {\n",
              "      let quickchartButtonEl =\n",
              "        document.querySelector('#df-b7fb9b47-3e32-4f04-ab3f-01db7e0b4f55 button');\n",
              "      quickchartButtonEl.style.display =\n",
              "        google.colab.kernel.accessAllowed ? 'block' : 'none';\n",
              "    })();\n",
              "  </script>\n",
              "</div>\n",
              "    </div>\n",
              "  </div>\n"
            ]
          },
          "metadata": {},
          "execution_count": 45
        }
      ]
    },
    {
      "cell_type": "code",
      "source": [
        "print('Text 열에서 중복을 배제한 유일한 샘플의 수 :', data['Text'].nunique())\n",
        "print('Summary 열에서 중복을 배제한 유일한 샘플의 수 :', data['Summary'].nunique())"
      ],
      "metadata": {
        "colab": {
          "base_uri": "https://localhost:8080/"
        },
        "id": "svdmMyBQIri4",
        "outputId": "e9a3c34f-ce3b-431e-ecc3-06e5992eb568"
      },
      "execution_count": 46,
      "outputs": [
        {
          "output_type": "stream",
          "name": "stdout",
          "text": [
            "Text 열에서 중복을 배제한 유일한 샘플의 수 : 88426\n",
            "Summary 열에서 중복을 배제한 유일한 샘플의 수 : 72348\n"
          ]
        }
      ]
    },
    {
      "cell_type": "code",
      "source": [
        "# inplace=True 를 설정하면 DataFrame 타입 값을 return 하지 않고 data 내부를 직접적으로 바꿉니다\n",
        "data.drop_duplicates(subset = ['Text'], inplace=True)\n",
        "print('전체 샘플수 :', (len(data)))"
      ],
      "metadata": {
        "colab": {
          "base_uri": "https://localhost:8080/"
        },
        "id": "Z07d9l4pIsLw",
        "outputId": "9efe29cc-0510-40c2-eed2-6a0980c574e0"
      },
      "execution_count": 47,
      "outputs": [
        {
          "output_type": "stream",
          "name": "stdout",
          "text": [
            "전체 샘플수 : 88426\n"
          ]
        }
      ]
    },
    {
      "cell_type": "code",
      "source": [
        "print(data.isnull().sum())"
      ],
      "metadata": {
        "colab": {
          "base_uri": "https://localhost:8080/"
        },
        "id": "4T8hyUJ6Itf5",
        "outputId": "73e82a58-2d1f-4945-8302-31e555f8afc0"
      },
      "execution_count": 48,
      "outputs": [
        {
          "output_type": "stream",
          "name": "stdout",
          "text": [
            "Summary    1\n",
            "Text       0\n",
            "dtype: int64\n"
          ]
        }
      ]
    },
    {
      "cell_type": "code",
      "source": [
        "data.dropna(axis=0, inplace=True)\n",
        "print('전체 샘플수 :', (len(data)))"
      ],
      "metadata": {
        "colab": {
          "base_uri": "https://localhost:8080/"
        },
        "id": "7wlVFm59Iy_s",
        "outputId": "fb977496-cfcc-485f-aa54-77d255d335a7"
      },
      "execution_count": 49,
      "outputs": [
        {
          "output_type": "stream",
          "name": "stdout",
          "text": [
            "전체 샘플수 : 88425\n"
          ]
        }
      ]
    },
    {
      "cell_type": "code",
      "source": [
        "contractions = {\"ain't\": \"is not\", \"aren't\": \"are not\",\"can't\": \"cannot\", \"'cause\": \"because\", \"could've\": \"could have\", \"couldn't\": \"could not\",\n",
        "                           \"didn't\": \"did not\",  \"doesn't\": \"does not\", \"don't\": \"do not\", \"hadn't\": \"had not\", \"hasn't\": \"has not\", \"haven't\": \"have not\",\n",
        "                           \"he'd\": \"he would\",\"he'll\": \"he will\", \"he's\": \"he is\", \"how'd\": \"how did\", \"how'd'y\": \"how do you\", \"how'll\": \"how will\", \"how's\": \"how is\",\n",
        "                           \"I'd\": \"I would\", \"I'd've\": \"I would have\", \"I'll\": \"I will\", \"I'll've\": \"I will have\",\"I'm\": \"I am\", \"I've\": \"I have\", \"i'd\": \"i would\",\n",
        "                           \"i'd've\": \"i would have\", \"i'll\": \"i will\",  \"i'll've\": \"i will have\",\"i'm\": \"i am\", \"i've\": \"i have\", \"isn't\": \"is not\", \"it'd\": \"it would\",\n",
        "                           \"it'd've\": \"it would have\", \"it'll\": \"it will\", \"it'll've\": \"it will have\",\"it's\": \"it is\", \"let's\": \"let us\", \"ma'am\": \"madam\",\n",
        "                           \"mayn't\": \"may not\", \"might've\": \"might have\",\"mightn't\": \"might not\",\"mightn't've\": \"might not have\", \"must've\": \"must have\",\n",
        "                           \"mustn't\": \"must not\", \"mustn't've\": \"must not have\", \"needn't\": \"need not\", \"needn't've\": \"need not have\",\"o'clock\": \"of the clock\",\n",
        "                           \"oughtn't\": \"ought not\", \"oughtn't've\": \"ought not have\", \"shan't\": \"shall not\", \"sha'n't\": \"shall not\", \"shan't've\": \"shall not have\",\n",
        "                           \"she'd\": \"she would\", \"she'd've\": \"she would have\", \"she'll\": \"she will\", \"she'll've\": \"she will have\", \"she's\": \"she is\",\n",
        "                           \"should've\": \"should have\", \"shouldn't\": \"should not\", \"shouldn't've\": \"should not have\", \"so've\": \"so have\",\"so's\": \"so as\",\n",
        "                           \"this's\": \"this is\",\"that'd\": \"that would\", \"that'd've\": \"that would have\", \"that's\": \"that is\", \"there'd\": \"there would\",\n",
        "                           \"there'd've\": \"there would have\", \"there's\": \"there is\", \"here's\": \"here is\",\"they'd\": \"they would\", \"they'd've\": \"they would have\",\n",
        "                           \"they'll\": \"they will\", \"they'll've\": \"they will have\", \"they're\": \"they are\", \"they've\": \"they have\", \"to've\": \"to have\",\n",
        "                           \"wasn't\": \"was not\", \"we'd\": \"we would\", \"we'd've\": \"we would have\", \"we'll\": \"we will\", \"we'll've\": \"we will have\", \"we're\": \"we are\",\n",
        "                           \"we've\": \"we have\", \"weren't\": \"were not\", \"what'll\": \"what will\", \"what'll've\": \"what will have\", \"what're\": \"what are\",\n",
        "                           \"what's\": \"what is\", \"what've\": \"what have\", \"when's\": \"when is\", \"when've\": \"when have\", \"where'd\": \"where did\", \"where's\": \"where is\",\n",
        "                           \"where've\": \"where have\", \"who'll\": \"who will\", \"who'll've\": \"who will have\", \"who's\": \"who is\", \"who've\": \"who have\",\n",
        "                           \"why's\": \"why is\", \"why've\": \"why have\", \"will've\": \"will have\", \"won't\": \"will not\", \"won't've\": \"will not have\",\n",
        "                           \"would've\": \"would have\", \"wouldn't\": \"would not\", \"wouldn't've\": \"would not have\", \"y'all\": \"you all\",\n",
        "                           \"y'all'd\": \"you all would\",\"y'all'd've\": \"you all would have\",\"y'all're\": \"you all are\",\"y'all've\": \"you all have\",\n",
        "                           \"you'd\": \"you would\", \"you'd've\": \"you would have\", \"you'll\": \"you will\", \"you'll've\": \"you will have\",\n",
        "                           \"you're\": \"you are\", \"you've\": \"you have\"}\n",
        "\n",
        "print(\"정규화 사전의 수: \", len(contractions))"
      ],
      "metadata": {
        "colab": {
          "base_uri": "https://localhost:8080/"
        },
        "id": "CRVh92ypI0O-",
        "outputId": "4eadc734-b633-4fcd-e300-4df9f48bed11"
      },
      "execution_count": 50,
      "outputs": [
        {
          "output_type": "stream",
          "name": "stdout",
          "text": [
            "정규화 사전의 수:  120\n"
          ]
        }
      ]
    },
    {
      "cell_type": "code",
      "source": [
        "print('불용어 개수 :', len(stopwords.words('english') ))\n",
        "print(stopwords.words('english'))"
      ],
      "metadata": {
        "colab": {
          "base_uri": "https://localhost:8080/"
        },
        "id": "KHtwYNHlI1i5",
        "outputId": "a9ee7c97-3814-4d6e-c9ca-8c39fda0cc5e"
      },
      "execution_count": 51,
      "outputs": [
        {
          "output_type": "stream",
          "name": "stdout",
          "text": [
            "불용어 개수 : 179\n",
            "['i', 'me', 'my', 'myself', 'we', 'our', 'ours', 'ourselves', 'you', \"you're\", \"you've\", \"you'll\", \"you'd\", 'your', 'yours', 'yourself', 'yourselves', 'he', 'him', 'his', 'himself', 'she', \"she's\", 'her', 'hers', 'herself', 'it', \"it's\", 'its', 'itself', 'they', 'them', 'their', 'theirs', 'themselves', 'what', 'which', 'who', 'whom', 'this', 'that', \"that'll\", 'these', 'those', 'am', 'is', 'are', 'was', 'were', 'be', 'been', 'being', 'have', 'has', 'had', 'having', 'do', 'does', 'did', 'doing', 'a', 'an', 'the', 'and', 'but', 'if', 'or', 'because', 'as', 'until', 'while', 'of', 'at', 'by', 'for', 'with', 'about', 'against', 'between', 'into', 'through', 'during', 'before', 'after', 'above', 'below', 'to', 'from', 'up', 'down', 'in', 'out', 'on', 'off', 'over', 'under', 'again', 'further', 'then', 'once', 'here', 'there', 'when', 'where', 'why', 'how', 'all', 'any', 'both', 'each', 'few', 'more', 'most', 'other', 'some', 'such', 'no', 'nor', 'not', 'only', 'own', 'same', 'so', 'than', 'too', 'very', 's', 't', 'can', 'will', 'just', 'don', \"don't\", 'should', \"should've\", 'now', 'd', 'll', 'm', 'o', 're', 've', 'y', 'ain', 'aren', \"aren't\", 'couldn', \"couldn't\", 'didn', \"didn't\", 'doesn', \"doesn't\", 'hadn', \"hadn't\", 'hasn', \"hasn't\", 'haven', \"haven't\", 'isn', \"isn't\", 'ma', 'mightn', \"mightn't\", 'mustn', \"mustn't\", 'needn', \"needn't\", 'shan', \"shan't\", 'shouldn', \"shouldn't\", 'wasn', \"wasn't\", 'weren', \"weren't\", 'won', \"won't\", 'wouldn', \"wouldn't\"]\n"
          ]
        }
      ]
    },
    {
      "cell_type": "markdown",
      "source": [
        "NLTK에서 미리 정의하여 제공하고 있는 불용어는 총 179개라는 것을 볼 수 있죠. 이를 사용하여 불용어를 제거할 거예요. 이 작업 외에도 모든 영어 문자는 소문자로 만들고, 섞여있는 html 태그를 제거하고, 정규 표현식을 통해 각종 특수문자를 제거해서 정말 필요한 내용만 잘 학습할 수 있도록 처리할 거예요.\n",
        "\n",
        "함수의 하단을 보면, NLTK를 이용해 불용어를 제거하는 파트가 있는데, 이는 Text 전처리 시에서만 호출하고 이미 상대적으로 문장 길이가 짧은 Summary 전처리할 때는 호출하지 않을 예정이에요. Abstractive한 문장 요약 결과문이 자연스러운 문장이 되려면 이 불용어들이 Summary에는 남아 있는 게 더 좋을 것 같습니다. 이 처리를 위해서 함수의 인자로 remove_stopwords를 추가하고, if문을 추가했어요."
      ],
      "metadata": {
        "id": "zQ79ysrRI78O"
      }
    },
    {
      "cell_type": "code",
      "source": [
        "# 데이터 전처리 함수\n",
        "def preprocess_sentence(sentence, remove_stopwords=True):\n",
        "    sentence = sentence.lower() # 텍스트 소문자화\n",
        "    sentence = BeautifulSoup(sentence, \"lxml\").text # <br />, <a href = ...> 등의 html 태그 제거\n",
        "    sentence = re.sub(r'\\([^)]*\\)', '', sentence) # 괄호로 닫힌 문자열 (...) 제거 Ex) my husband (and myself!) for => my husband for\n",
        "    sentence = re.sub('\"','', sentence) # 쌍따옴표 \" 제거\n",
        "    sentence = ' '.join([contractions[t] if t in contractions else t for t in sentence.split(\" \")]) # 약어 정규화\n",
        "    sentence = re.sub(r\"'s\\b\",\"\", sentence) # 소유격 제거. Ex) roland's -> roland\n",
        "    sentence = re.sub(\"[^a-zA-Z]\", \" \", sentence) # 영어 외 문자(숫자, 특수문자 등) 공백으로 변환\n",
        "    sentence = re.sub('[m]{2,}', 'mm', sentence) # m이 3개 이상이면 2개로 변경. Ex) ummmmmmm yeah -> umm yeah\n",
        "\n",
        "    # 불용어 제거 (Text)\n",
        "    if remove_stopwords:\n",
        "        tokens = ' '.join(word for word in sentence.split() if not word in stopwords.words('english') if len(word) > 1)\n",
        "    # 불용어 미제거 (Summary)\n",
        "    else:\n",
        "        tokens = ' '.join(word for word in sentence.split() if len(word) > 1)\n",
        "    return tokens\n",
        "print('=3')"
      ],
      "metadata": {
        "colab": {
          "base_uri": "https://localhost:8080/"
        },
        "id": "7DZ7-LRnI4I-",
        "outputId": "39ceedc7-0a1d-418a-a71c-4b5b3d1d0be6"
      },
      "execution_count": 52,
      "outputs": [
        {
          "output_type": "stream",
          "name": "stdout",
          "text": [
            "=3\n"
          ]
        }
      ]
    },
    {
      "cell_type": "code",
      "source": [
        "temp_text = 'Everything I bought was great, infact I ordered twice and the third ordered was<br />for my mother and father.'\n",
        "temp_summary = 'Great way to start (or finish) the day!!!'\n",
        "\n",
        "print(\"text: \", preprocess_sentence(temp_text))\n",
        "print(\"summary:\", preprocess_sentence(temp_summary, False))  # 불용어를 제거하지 않습니다."
      ],
      "metadata": {
        "colab": {
          "base_uri": "https://localhost:8080/"
        },
        "id": "uwiEaw7TI52Y",
        "outputId": "db73d9e7-e5ea-4965-f873-0e655475a015"
      },
      "execution_count": 53,
      "outputs": [
        {
          "output_type": "stream",
          "name": "stdout",
          "text": [
            "text:  everything bought great infact ordered twice third ordered wasfor mother father\n",
            "summary: great way to start the day\n"
          ]
        }
      ]
    },
    {
      "cell_type": "code",
      "source": [
        "# 전체 Text 데이터에 대한 전처리 : 10분 이상 시간이 걸릴 수 있습니다.\n",
        "clean_text = []\n",
        "\n",
        "for index, item in data.iterrows():\n",
        "    text = preprocess_sentence(item['Text'])\n",
        "\n",
        "    clean_text.append(text)\n",
        "\n",
        "# 전처리 후 출력\n",
        "print(\"Text 전처리 후 결과: \", clean_text[:5])"
      ],
      "metadata": {
        "colab": {
          "base_uri": "https://localhost:8080/"
        },
        "id": "5uMnPgDhMlob",
        "outputId": "f1182562-f72b-4e0f-9775-d8fcca4c455c"
      },
      "execution_count": 54,
      "outputs": [
        {
          "output_type": "stream",
          "name": "stderr",
          "text": [
            "<ipython-input-52-8985a2a10398>:4: MarkupResemblesLocatorWarning: The input looks more like a filename than markup. You may want to open this file and pass the filehandle into Beautiful Soup.\n",
            "  sentence = BeautifulSoup(sentence, \"lxml\").text # <br />, <a href = ...> 등의 html 태그 제거\n"
          ]
        },
        {
          "output_type": "stream",
          "name": "stdout",
          "text": [
            "Text 전처리 후 결과:  ['bought several vitality canned dog food products found good quality product looks like stew processed meat smells better labrador finicky appreciates product better', 'product arrived labeled jumbo salted peanuts peanuts actually small sized unsalted sure error vendor intended represent product jumbo', 'confection around centuries light pillowy citrus gelatin nuts case filberts cut tiny squares liberally coated powdered sugar tiny mouthful heaven chewy flavorful highly recommend yummy treat familiar story lewis lion witch wardrobe treat seduces edmund selling brother sisters witch', 'looking secret ingredient robitussin believe found got addition root beer extract ordered made cherry soda flavor medicinal', 'great taffy great price wide assortment yummy taffy delivery quick taffy lover deal']\n"
          ]
        }
      ]
    },
    {
      "cell_type": "code",
      "source": [
        "# 전체 Summary 데이터에 대한 전처리 : 5분 이상 시간이 걸릴 수 있습니다.\n",
        "clean_summary = []\n",
        "\n",
        "for index, item in data.iterrows():\n",
        "    summary = preprocess_sentence(item['Summary'], False)\n",
        "\n",
        "    clean_summary.append(summary)\n",
        "\n",
        "print(\"Summary 전처리 후 결과: \", clean_summary[:5])"
      ],
      "metadata": {
        "colab": {
          "base_uri": "https://localhost:8080/"
        },
        "id": "pzNhPGd2TGt-",
        "outputId": "34b773fb-3b70-48e7-c426-08d85b3b8a92"
      },
      "execution_count": 55,
      "outputs": [
        {
          "output_type": "stream",
          "name": "stderr",
          "text": [
            "<ipython-input-52-8985a2a10398>:4: MarkupResemblesLocatorWarning: The input looks more like a filename than markup. You may want to open this file and pass the filehandle into Beautiful Soup.\n",
            "  sentence = BeautifulSoup(sentence, \"lxml\").text # <br />, <a href = ...> 등의 html 태그 제거\n",
            "<ipython-input-52-8985a2a10398>:4: MarkupResemblesLocatorWarning: The input looks more like a URL than markup. You may want to use an HTTP client like requests to get the document behind the URL, and feed that document to Beautiful Soup.\n",
            "  sentence = BeautifulSoup(sentence, \"lxml\").text # <br />, <a href = ...> 등의 html 태그 제거\n"
          ]
        },
        {
          "output_type": "stream",
          "name": "stdout",
          "text": [
            "Summary 전처리 후 결과:  ['good quality dog food', 'not as advertised', 'delight says it all', 'cough medicine', 'great taffy']\n"
          ]
        }
      ]
    },
    {
      "cell_type": "markdown",
      "source": [
        "이렇게 텍스트 정제의 과정을 거친 후에는 다시 한번 빈(empty) 샘플이 생겼는지 확인해보는 것이 좋아요. 정제 전에는 데이터가 존재했지만, 정제 과정에서 문장의 모든 단어가 사라지는 경우가 있을 수 있어요. 이렇게 되면 샘플 자체가 빈 값을 가지게 되겠죠.\n",
        "\n",
        "보다 쉽게 확인하기 위해 데이터들을 데이터프레임에 재저장할게요. 빈(empty) 값을 가진 샘플들이 있다면, 모두 Null 값을 가진 샘플로 대체해요."
      ],
      "metadata": {
        "id": "MJyoCJlQURSc"
      }
    },
    {
      "cell_type": "code",
      "source": [
        "data['Text'] = clean_text\n",
        "data['Summary'] = clean_summary\n",
        "\n",
        "# 빈 값을 Null 값으로 변환\n",
        "data.replace('', np.nan, inplace=True)\n",
        "print('=3')"
      ],
      "metadata": {
        "colab": {
          "base_uri": "https://localhost:8080/"
        },
        "id": "YCAYJj_5NYch",
        "outputId": "8df4b6fe-01a6-4eba-d6b6-9f2774813379"
      },
      "execution_count": 56,
      "outputs": [
        {
          "output_type": "stream",
          "name": "stdout",
          "text": [
            "=3\n"
          ]
        }
      ]
    },
    {
      "cell_type": "code",
      "source": [
        "data.isnull().sum()"
      ],
      "metadata": {
        "colab": {
          "base_uri": "https://localhost:8080/"
        },
        "id": "caTMkaqoUL4R",
        "outputId": "0dc19142-3db3-445f-f151-4baac992b241"
      },
      "execution_count": 57,
      "outputs": [
        {
          "output_type": "execute_result",
          "data": {
            "text/plain": [
              "Summary    70\n",
              "Text        0\n",
              "dtype: int64"
            ]
          },
          "metadata": {},
          "execution_count": 57
        }
      ]
    },
    {
      "cell_type": "code",
      "source": [
        "data.dropna(axis=0, inplace=True)\n",
        "print('전체 샘플수 :', (len(data)))"
      ],
      "metadata": {
        "colab": {
          "base_uri": "https://localhost:8080/"
        },
        "id": "VM52PR9LUPG2",
        "outputId": "016d28b9-3973-4a7b-d7b5-6d2881b41348"
      },
      "execution_count": 58,
      "outputs": [
        {
          "output_type": "stream",
          "name": "stdout",
          "text": [
            "전체 샘플수 : 88355\n"
          ]
        }
      ]
    },
    {
      "cell_type": "markdown",
      "source": [
        "필요 없는 단어를 모두 솎아낸 데이터를 가지게 되었으니, 이제 훈련에 사용할 샘플의 최대 길이를 정해줄 차례에요.\n",
        "\n",
        "Text와 Summary의 최소, 최대, 평균 길이를 구하고 또한 길이 분포를 시각화해서 볼게요."
      ],
      "metadata": {
        "id": "0lCDo52UUeFS"
      }
    },
    {
      "cell_type": "code",
      "source": [
        "# 길이 분포 출력\n",
        "import matplotlib.pyplot as plt\n",
        "\n",
        "text_len = [len(s.split()) for s in data['Text']]\n",
        "summary_len = [len(s.split()) for s in data['Summary']]\n",
        "\n",
        "print('텍스트의 최소 길이 : {}'.format(np.min(text_len)))\n",
        "print('텍스트의 최대 길이 : {}'.format(np.max(text_len)))\n",
        "print('텍스트의 평균 길이 : {}'.format(np.mean(text_len)))\n",
        "print('요약의 최소 길이 : {}'.format(np.min(summary_len)))\n",
        "print('요약의 최대 길이 : {}'.format(np.max(summary_len)))\n",
        "print('요약의 평균 길이 : {}'.format(np.mean(summary_len)))\n",
        "\n",
        "plt.subplot(1,2,1)\n",
        "plt.boxplot(text_len)\n",
        "plt.title('Text')\n",
        "plt.subplot(1,2,2)\n",
        "plt.boxplot(summary_len)\n",
        "plt.title('Summary')\n",
        "plt.tight_layout()\n",
        "plt.show()\n",
        "\n",
        "plt.title('Text')\n",
        "plt.hist(text_len, bins = 40)\n",
        "plt.xlabel('length of samples')\n",
        "plt.ylabel('number of samples')\n",
        "plt.show()\n",
        "\n",
        "plt.title('Summary')\n",
        "plt.hist(summary_len, bins = 40)\n",
        "plt.xlabel('length of samples')\n",
        "plt.ylabel('number of samples')\n",
        "plt.show()"
      ],
      "metadata": {
        "colab": {
          "base_uri": "https://localhost:8080/",
          "height": 1000
        },
        "id": "nLeiRRMcUahI",
        "outputId": "e3547486-6514-4b0f-a184-a8aa0ed1a52e"
      },
      "execution_count": 59,
      "outputs": [
        {
          "output_type": "stream",
          "name": "stdout",
          "text": [
            "텍스트의 최소 길이 : 2\n",
            "텍스트의 최대 길이 : 1235\n",
            "텍스트의 평균 길이 : 38.792428272310566\n",
            "요약의 최소 길이 : 1\n",
            "요약의 최대 길이 : 28\n",
            "요약의 평균 길이 : 4.010729443721352\n"
          ]
        },
        {
          "output_type": "display_data",
          "data": {
            "text/plain": [
              "<Figure size 640x480 with 2 Axes>"
            ],
            "image/png": "[encoded data removed]"
          },
          "metadata": {}
        },
        {
          "output_type": "display_data",
          "data": {
            "text/plain": [
              "<Figure size 640x480 with 1 Axes>"
            ],
            "image/png": "[encoded data removed]"
          },
          "metadata": {}
        },
        {
          "output_type": "display_data",
          "data": {
            "text/plain": [
              "<Figure size 640x480 with 1 Axes>"
            ],
            "image/png": "[encoded data removed]"
          },
          "metadata": {}
        }
      ]
    },
    {
      "cell_type": "markdown",
      "source": [
        "위의 그래프처럼, 많은 양의 데이터를 다룰 때는 데이터를 시각화하여 보는 것이 도움이 돼요. 위에서부터 차례대로 그래프는 각각 실제 텍스트와 요약의 길이 분포, 실제 텍스트 샘플 길이별 개수, 요약본 샘플 길이별 개수를 나타내고 있어요.\n",
        "\n",
        "Text의 경우 최소 길이가 2, 최대 길이가 1,235로 그 차이가 굉장히 크죠. 하지만 평균 길이는 38로 시각화된 그래프로 봤을 때는 대체적으로는 100 내외의 길이를 가진다는 것을 확인할 수 있어요.\n",
        "\n",
        "Summary의 경우 최소 길이가 1, 최대 길이가 28, 그리고 평균 길이가 4로 Text에 비해 상대적으로 길이가 매우 짧아요. 그래프로 봤을 때에도 대체적으로 10이하의 길이를 가지고 있네요.\n",
        "\n",
        "이로부터 Text의 최대 길이와 Summary의 적절한 최대 길이를 임의로 정해볼게요."
      ],
      "metadata": {
        "id": "KiXQPSLZUbQP"
      }
    },
    {
      "cell_type": "code",
      "source": [
        "text_max_len = 50\n",
        "summary_max_len = 8\n",
        "print('=3')"
      ],
      "metadata": {
        "colab": {
          "base_uri": "https://localhost:8080/"
        },
        "id": "Zq7k_lJMU_VF",
        "outputId": "a06c3f80-bd08-4e95-b654-cfbcb3969328"
      },
      "execution_count": 60,
      "outputs": [
        {
          "output_type": "stream",
          "name": "stdout",
          "text": [
            "=3\n"
          ]
        }
      ]
    },
    {
      "cell_type": "code",
      "source": [
        "def below_threshold_len(max_len, nested_list):\n",
        "  cnt = 0\n",
        "  for s in nested_list:\n",
        "    if(len(s.split()) <= max_len):\n",
        "        cnt = cnt + 1\n",
        "  print('전체 샘플 중 길이가 %s 이하인 샘플의 비율: %s'%(max_len, (cnt / len(nested_list))))\n"
      ],
      "metadata": {
        "id": "t-HW5QHCU_wz"
      },
      "execution_count": 61,
      "outputs": []
    },
    {
      "cell_type": "code",
      "source": [
        "below_threshold_len(text_max_len, data['Text'])\n",
        "below_threshold_len(summary_max_len,  data['Summary'])"
      ],
      "metadata": {
        "colab": {
          "base_uri": "https://localhost:8080/"
        },
        "id": "yQsEWlyqVA3C",
        "outputId": "653da2fc-6b7f-4a90-ac4b-c0346656356d"
      },
      "execution_count": 62,
      "outputs": [
        {
          "output_type": "stream",
          "name": "stdout",
          "text": [
            "전체 샘플 중 길이가 50 이하인 샘플의 비율: 0.7745119121724859\n",
            "전체 샘플 중 길이가 8 이하인 샘플의 비율: 0.9424593967517402\n"
          ]
        }
      ]
    },
    {
      "cell_type": "code",
      "source": [
        "# 길이 조건을 만족하는 샘플만 필터링\n",
        "filtered_data = data.apply(lambda x: len(x['Text'].split()) <= text_max_len and len(x['Summary'].split()) <= summary_max_len, axis=1)\n",
        "data = data[filtered_data]\n",
        "\n",
        "# 결과 확인\n",
        "print('전체 샘플수 :', len(data))\n"
      ],
      "metadata": {
        "colab": {
          "base_uri": "https://localhost:8080/"
        },
        "id": "JgE3rzTLVCCm",
        "outputId": "06535af2-4629-456a-a811-ff4dfd53f351"
      },
      "execution_count": 63,
      "outputs": [
        {
          "output_type": "stream",
          "name": "stdout",
          "text": [
            "전체 샘플수 : 65818\n"
          ]
        }
      ]
    },
    {
      "cell_type": "code",
      "source": [
        "text = \"hello world\"\n",
        "words = text.split()  # 기본 구분자는 공백\n",
        "print(words)"
      ],
      "metadata": {
        "colab": {
          "base_uri": "https://localhost:8080/"
        },
        "id": "-xvewA6chL1F",
        "outputId": "edd91e34-c3b9-4f04-d723-6ad630e6cef2"
      },
      "execution_count": 64,
      "outputs": [
        {
          "output_type": "stream",
          "name": "stdout",
          "text": [
            "['hello', 'world']\n"
          ]
        }
      ]
    },
    {
      "cell_type": "code",
      "source": [
        "text_example = \"bough t\"\n",
        "\n",
        "text_len = [len(s.split()) for s in text_example]\n",
        "\n",
        "print(text_example)\n",
        "print(text_len)\n",
        "print(len(text_len))"
      ],
      "metadata": {
        "colab": {
          "base_uri": "https://localhost:8080/"
        },
        "id": "Fu5vM1QDhOrS",
        "outputId": "be6d2b7b-e837-41ba-ae80-eaf10371c4ca"
      },
      "execution_count": 65,
      "outputs": [
        {
          "output_type": "stream",
          "name": "stdout",
          "text": [
            "bough t\n",
            "[1, 1, 1, 1, 1, 0, 1]\n",
            "7\n"
          ]
        }
      ]
    },
    {
      "cell_type": "markdown",
      "source": [
        "앞서 시작 토큰과 종료 토큰에 대해서 언급했던 것을 기억하시나요? 디코더는 시작 토큰을 입력받아 문장을 생성하기 시작하고, 종료 토큰을 예측한 순간에 문장 생성을 멈추는 거였죠.\n",
        "\n",
        "seq2seq 훈련을 위해서는 디코더의 입력과 레이블에 시작 토큰과 종료 토큰을 추가할 필요가 있어요. 이번 실습에서는 시작 토큰은 sostoken, 종료 토큰은 eostoken이라 임의로 명명하고 앞, 뒤로 추가할 거예요. 디코더의 입력에 해당하면서 시작 토큰이 맨 앞에 있는 문장의 이름을 decoder_input, 디코더의 출력 또는 레이블에 해당되면서 종료 토큰이 맨 뒤에 붙는 문장의 이름을 decoder_target이라고 이름을 정했어요. 두 개의 문장 모두 Summary 열로부터 만들 거예요."
      ],
      "metadata": {
        "id": "jq1f-MPB6fEw"
      }
    },
    {
      "cell_type": "code",
      "source": [
        "# 요약 데이터에는 시작 토큰과 종료 토큰을 추가한다.\n",
        "data['decoder_input'] = data['Summary'].apply(lambda x : 'sostoken '+ x)\n",
        "data['decoder_target'] = data['Summary'].apply(lambda x : x + ' eostoken')\n",
        "data.head()"
      ],
      "metadata": {
        "colab": {
          "base_uri": "https://localhost:8080/",
          "height": 426
        },
        "id": "jk6PFPqVcgwP",
        "outputId": "9fbc19da-a37c-4549-e1b9-da98dd64bf9c"
      },
      "execution_count": 66,
      "outputs": [
        {
          "output_type": "stream",
          "name": "stderr",
          "text": [
            "<ipython-input-66-2597ec9a2495>:2: SettingWithCopyWarning: \n",
            "A value is trying to be set on a copy of a slice from a DataFrame.\n",
            "Try using .loc[row_indexer,col_indexer] = value instead\n",
            "\n",
            "See the caveats in the documentation: https://pandas.pydata.org/pandas-docs/stable/user_guide/indexing.html#returning-a-view-versus-a-copy\n",
            "  data['decoder_input'] = data['Summary'].apply(lambda x : 'sostoken '+ x)\n",
            "<ipython-input-66-2597ec9a2495>:3: SettingWithCopyWarning: \n",
            "A value is trying to be set on a copy of a slice from a DataFrame.\n",
            "Try using .loc[row_indexer,col_indexer] = value instead\n",
            "\n",
            "See the caveats in the documentation: https://pandas.pydata.org/pandas-docs/stable/user_guide/indexing.html#returning-a-view-versus-a-copy\n",
            "  data['decoder_target'] = data['Summary'].apply(lambda x : x + ' eostoken')\n"
          ]
        },
        {
          "output_type": "execute_result",
          "data": {
            "text/plain": [
              "                 Summary                                               Text  \\\n",
              "0  good quality dog food  bought several vitality canned dog food produc...   \n",
              "1      not as advertised  product arrived labeled jumbo salted peanuts p...   \n",
              "2    delight says it all  confection around centuries light pillowy citr...   \n",
              "3         cough medicine  looking secret ingredient robitussin believe f...   \n",
              "4            great taffy  great taffy great price wide assortment yummy ...   \n",
              "\n",
              "                    decoder_input                  decoder_target  \n",
              "0  sostoken good quality dog food  good quality dog food eostoken  \n",
              "1      sostoken not as advertised      not as advertised eostoken  \n",
              "2    sostoken delight says it all    delight says it all eostoken  \n",
              "3         sostoken cough medicine         cough medicine eostoken  \n",
              "4            sostoken great taffy            great taffy eostoken  "
            ],
            "text/html": [
              "\n",
              "  <div id=\"df-70fbd3b1-a6ea-45e1-bca0-54be2e657650\" class=\"colab-df-container\">\n",
              "    <div>\n",
              "<style scoped>\n",
              "    .dataframe tbody tr th:only-of-type {\n",
              "        vertical-align: middle;\n",
              "    }\n",
              "\n",
              "    .dataframe tbody tr th {\n",
              "        vertical-align: top;\n",
              "    }\n",
              "\n",
              "    .dataframe thead th {\n",
              "        text-align: right;\n",
              "    }\n",
              "</style>\n",
              "<table border=\"1\" class=\"dataframe\">\n",
              "  <thead>\n",
              "    <tr style=\"text-align: right;\">\n",
              "      <th></th>\n",
              "      <th>Summary</th>\n",
              "      <th>Text</th>\n",
              "      <th>decoder_input</th>\n",
              "      <th>decoder_target</th>\n",
              "    </tr>\n",
              "  </thead>\n",
              "  <tbody>\n",
              "    <tr>\n",
              "      <th>0</th>\n",
              "      <td>good quality dog food</td>\n",
              "      <td>bought several vitality canned dog food produc...</td>\n",
              "      <td>sostoken good quality dog food</td>\n",
              "      <td>good quality dog food eostoken</td>\n",
              "    </tr>\n",
              "    <tr>\n",
              "      <th>1</th>\n",
              "      <td>not as advertised</td>\n",
              "      <td>product arrived labeled jumbo salted peanuts p...</td>\n",
              "      <td>sostoken not as advertised</td>\n",
              "      <td>not as advertised eostoken</td>\n",
              "    </tr>\n",
              "    <tr>\n",
              "      <th>2</th>\n",
              "      <td>delight says it all</td>\n",
              "      <td>confection around centuries light pillowy citr...</td>\n",
              "      <td>sostoken delight says it all</td>\n",
              "      <td>delight says it all eostoken</td>\n",
              "    </tr>\n",
              "    <tr>\n",
              "      <th>3</th>\n",
              "      <td>cough medicine</td>\n",
              "      <td>looking secret ingredient robitussin believe f...</td>\n",
              "      <td>sostoken cough medicine</td>\n",
              "      <td>cough medicine eostoken</td>\n",
              "    </tr>\n",
              "    <tr>\n",
              "      <th>4</th>\n",
              "      <td>great taffy</td>\n",
              "      <td>great taffy great price wide assortment yummy ...</td>\n",
              "      <td>sostoken great taffy</td>\n",
              "      <td>great taffy eostoken</td>\n",
              "    </tr>\n",
              "  </tbody>\n",
              "</table>\n",
              "</div>\n",
              "    <div class=\"colab-df-buttons\">\n",
              "\n",
              "  <div class=\"colab-df-container\">\n",
              "    <button class=\"colab-df-convert\" onclick=\"convertToInteractive('df-70fbd3b1-a6ea-45e1-bca0-54be2e657650')\"\n",
              "            title=\"Convert this dataframe to an interactive table.\"\n",
              "            style=\"display:none;\">\n",
              "\n",
              "  <svg xmlns=\"http://www.w3.org/2000/svg\" height=\"24px\" viewBox=\"0 -960 960 960\">\n",
              "    <path d=\"M120-120v-720h720v720H120Zm60-500h600v-160H180v160Zm220 220h160v-160H400v160Zm0 220h160v-160H400v160ZM180-400h160v-160H180v160Zm440 0h160v-160H620v160ZM180-180h160v-160H180v160Zm440 0h160v-160H620v160Z\"/>\n",
              "  </svg>\n",
              "    </button>\n",
              "\n",
              "  <style>\n",
              "    .colab-df-container {\n",
              "      display:flex;\n",
              "      gap: 12px;\n",
              "    }\n",
              "\n",
              "    .colab-df-convert {\n",
              "      background-color: #E8F0FE;\n",
              "      border: none;\n",
              "      border-radius: 50%;\n",
              "      cursor: pointer;\n",
              "      display: none;\n",
              "      fill: #1967D2;\n",
              "      height: 32px;\n",
              "      padding: 0 0 0 0;\n",
              "      width: 32px;\n",
              "    }\n",
              "\n",
              "    .colab-df-convert:hover {\n",
              "      background-color: #E2EBFA;\n",
              "      box-shadow: 0px 1px 2px rgba(60, 64, 67, 0.3), 0px 1px 3px 1px rgba(60, 64, 67, 0.15);\n",
              "      fill: #174EA6;\n",
              "    }\n",
              "\n",
              "    .colab-df-buttons div {\n",
              "      margin-bottom: 4px;\n",
              "    }\n",
              "\n",
              "    [theme=dark] .colab-df-convert {\n",
              "      background-color: #3B4455;\n",
              "      fill: #D2E3FC;\n",
              "    }\n",
              "\n",
              "    [theme=dark] .colab-df-convert:hover {\n",
              "      background-color: #434B5C;\n",
              "      box-shadow: 0px 1px 3px 1px rgba(0, 0, 0, 0.15);\n",
              "      filter: drop-shadow(0px 1px 2px rgba(0, 0, 0, 0.3));\n",
              "      fill: #FFFFFF;\n",
              "    }\n",
              "  </style>\n",
              "\n",
              "    <script>\n",
              "      const buttonEl =\n",
              "        document.querySelector('#df-70fbd3b1-a6ea-45e1-bca0-54be2e657650 button.colab-df-convert');\n",
              "      buttonEl.style.display =\n",
              "        google.colab.kernel.accessAllowed ? 'block' : 'none';\n",
              "\n",
              "      async function convertToInteractive(key) {\n",
              "        const element = document.querySelector('#df-70fbd3b1-a6ea-45e1-bca0-54be2e657650');\n",
              "        const dataTable =\n",
              "          await google.colab.kernel.invokeFunction('convertToInteractive',\n",
              "                                                    [key], {});\n",
              "        if (!dataTable) return;\n",
              "\n",
              "        const docLinkHtml = 'Like what you see? Visit the ' +\n",
              "          '<a target=\"_blank\" href=https://colab.research.google.com/notebooks/data_table.ipynb>data table notebook</a>'\n",
              "          + ' to learn more about interactive tables.';\n",
              "        element.innerHTML = '';\n",
              "        dataTable['output_type'] = 'display_data';\n",
              "        await google.colab.output.renderOutput(dataTable, element);\n",
              "        const docLink = document.createElement('div');\n",
              "        docLink.innerHTML = docLinkHtml;\n",
              "        element.appendChild(docLink);\n",
              "      }\n",
              "    </script>\n",
              "  </div>\n",
              "\n",
              "\n",
              "<div id=\"df-ebc2c8d2-f12a-4b72-81cf-2e6e8b5a7147\">\n",
              "  <button class=\"colab-df-quickchart\" onclick=\"quickchart('df-ebc2c8d2-f12a-4b72-81cf-2e6e8b5a7147')\"\n",
              "            title=\"Suggest charts\"\n",
              "            style=\"display:none;\">\n",
              "\n",
              "<svg xmlns=\"http://www.w3.org/2000/svg\" height=\"24px\"viewBox=\"0 0 24 24\"\n",
              "     width=\"24px\">\n",
              "    <g>\n",
              "        <path d=\"M19 3H5c-1.1 0-2 .9-2 2v14c0 1.1.9 2 2 2h14c1.1 0 2-.9 2-2V5c0-1.1-.9-2-2-2zM9 17H7v-7h2v7zm4 0h-2V7h2v10zm4 0h-2v-4h2v4z\"/>\n",
              "    </g>\n",
              "</svg>\n",
              "  </button>\n",
              "\n",
              "<style>\n",
              "  .colab-df-quickchart {\n",
              "      --bg-color: #E8F0FE;\n",
              "      --fill-color: #1967D2;\n",
              "      --hover-bg-color: #E2EBFA;\n",
              "      --hover-fill-color: #174EA6;\n",
              "      --disabled-fill-color: #AAA;\n",
              "      --disabled-bg-color: #DDD;\n",
              "  }\n",
              "\n",
              "  [theme=dark] .colab-df-quickchart {\n",
              "      --bg-color: #3B4455;\n",
              "      --fill-color: #D2E3FC;\n",
              "      --hover-bg-color: #434B5C;\n",
              "      --hover-fill-color: #FFFFFF;\n",
              "      --disabled-bg-color: #3B4455;\n",
              "      --disabled-fill-color: #666;\n",
              "  }\n",
              "\n",
              "  .colab-df-quickchart {\n",
              "    background-color: var(--bg-color);\n",
              "    border: none;\n",
              "    border-radius: 50%;\n",
              "    cursor: pointer;\n",
              "    display: none;\n",
              "    fill: var(--fill-color);\n",
              "    height: 32px;\n",
              "    padding: 0;\n",
              "    width: 32px;\n",
              "  }\n",
              "\n",
              "  .colab-df-quickchart:hover {\n",
              "    background-color: var(--hover-bg-color);\n",
              "    box-shadow: 0 1px 2px rgba(60, 64, 67, 0.3), 0 1px 3px 1px rgba(60, 64, 67, 0.15);\n",
              "    fill: var(--button-hover-fill-color);\n",
              "  }\n",
              "\n",
              "  .colab-df-quickchart-complete:disabled,\n",
              "  .colab-df-quickchart-complete:disabled:hover {\n",
              "    background-color: var(--disabled-bg-color);\n",
              "    fill: var(--disabled-fill-color);\n",
              "    box-shadow: none;\n",
              "  }\n",
              "\n",
              "  .colab-df-spinner {\n",
              "    border: 2px solid var(--fill-color);\n",
              "    border-color: transparent;\n",
              "    border-bottom-color: var(--fill-color);\n",
              "    animation:\n",
              "      spin 1s steps(1) infinite;\n",
              "  }\n",
              "\n",
              "  @keyframes spin {\n",
              "    0% {\n",
              "      border-color: transparent;\n",
              "      border-bottom-color: var(--fill-color);\n",
              "      border-left-color: var(--fill-color);\n",
              "    }\n",
              "    20% {\n",
              "      border-color: transparent;\n",
              "      border-left-color: var(--fill-color);\n",
              "      border-top-color: var(--fill-color);\n",
              "    }\n",
              "    30% {\n",
              "      border-color: transparent;\n",
              "      border-left-color: var(--fill-color);\n",
              "      border-top-color: var(--fill-color);\n",
              "      border-right-color: var(--fill-color);\n",
              "    }\n",
              "    40% {\n",
              "      border-color: transparent;\n",
              "      border-right-color: var(--fill-color);\n",
              "      border-top-color: var(--fill-color);\n",
              "    }\n",
              "    60% {\n",
              "      border-color: transparent;\n",
              "      border-right-color: var(--fill-color);\n",
              "    }\n",
              "    80% {\n",
              "      border-color: transparent;\n",
              "      border-right-color: var(--fill-color);\n",
              "      border-bottom-color: var(--fill-color);\n",
              "    }\n",
              "    90% {\n",
              "      border-color: transparent;\n",
              "      border-bottom-color: var(--fill-color);\n",
              "    }\n",
              "  }\n",
              "</style>\n",
              "\n",
              "  <script>\n",
              "    async function quickchart(key) {\n",
              "      const quickchartButtonEl =\n",
              "        document.querySelector('#' + key + ' button');\n",
              "      quickchartButtonEl.disabled = true;  // To prevent multiple clicks.\n",
              "      quickchartButtonEl.classList.add('colab-df-spinner');\n",
              "      try {\n",
              "        const charts = await google.colab.kernel.invokeFunction(\n",
              "            'suggestCharts', [key], {});\n",
              "      } catch (error) {\n",
              "        console.error('Error during call to suggestCharts:', error);\n",
              "      }\n",
              "      quickchartButtonEl.classList.remove('colab-df-spinner');\n",
              "      quickchartButtonEl.classList.add('colab-df-quickchart-complete');\n",
              "    }\n",
              "    (() => {\n",
              "      let quickchartButtonEl =\n",
              "        document.querySelector('#df-ebc2c8d2-f12a-4b72-81cf-2e6e8b5a7147 button');\n",
              "      quickchartButtonEl.style.display =\n",
              "        google.colab.kernel.accessAllowed ? 'block' : 'none';\n",
              "    })();\n",
              "  </script>\n",
              "</div>\n",
              "    </div>\n",
              "  </div>\n"
            ]
          },
          "metadata": {},
          "execution_count": 66
        }
      ]
    },
    {
      "cell_type": "markdown",
      "source": [
        "앞뒤로 토큰이 잘 붙었죠? 인코더의 입력, 디코더의 입력과 레이블을 각각 다시 Numpy 타입으로 저장해 줄게요."
      ],
      "metadata": {
        "id": "TSV_qH6e7dVW"
      }
    },
    {
      "cell_type": "code",
      "source": [
        "encoder_input = np.array(data['Text']) # 인코더의 입력\n",
        "decoder_input = np.array(data['decoder_input']) # 디코더의 입력\n",
        "decoder_target = np.array(data['decoder_target']) # 디코더의 레이블\n",
        "print('=3')"
      ],
      "metadata": {
        "colab": {
          "base_uri": "https://localhost:8080/"
        },
        "id": "K2B8xC6Mcig2",
        "outputId": "f45674a7-b139-4282-ab1d-d0737d853aa1"
      },
      "execution_count": 67,
      "outputs": [
        {
          "output_type": "stream",
          "name": "stdout",
          "text": [
            "=3\n"
          ]
        }
      ]
    },
    {
      "cell_type": "markdown",
      "source": [
        "이제 훈련 데이터와 테스트 데이터를 분리할거에요.\n",
        "\n",
        "훈련 데이터와 테스트 데이터를 분리하는 방법은 분리 패키지를 사용하는 방법, 또는 직접 코딩을 통해서 분리하는 방법 등 여러 가지 방법이 있을 텐데 여기서는 직접 해볼게요. 우선, encoder_input과 크기와 형태가 같은 순서가 섞인 정수 시퀀스를 만들어줄게요."
      ],
      "metadata": {
        "id": "-xtyX-Sk7zrX"
      }
    },
    {
      "cell_type": "code",
      "source": [
        "indices = np.arange(encoder_input.shape[0])\n",
        "np.random.shuffle(indices)\n",
        "print(indices)"
      ],
      "metadata": {
        "colab": {
          "base_uri": "https://localhost:8080/"
        },
        "id": "tBah75pScjtS",
        "outputId": "9193ebe3-68da-4e61-e00c-32aaf724f08e"
      },
      "execution_count": 68,
      "outputs": [
        {
          "output_type": "stream",
          "name": "stdout",
          "text": [
            "[ 4175 46155 17665 ... 62266 35306 48504]\n"
          ]
        }
      ]
    },
    {
      "cell_type": "markdown",
      "source": [
        "이 정수 시퀀스를 이용해 다시 데이터의 샘플 순서를 정의해 주면 잘 섞인 샘플이 되겠죠."
      ],
      "metadata": {
        "id": "GsfnqOEi76aY"
      }
    },
    {
      "cell_type": "code",
      "source": [
        "encoder_input = encoder_input[indices]\n",
        "decoder_input = decoder_input[indices]\n",
        "decoder_target = decoder_target[indices]\n",
        "print('=3')"
      ],
      "metadata": {
        "colab": {
          "base_uri": "https://localhost:8080/"
        },
        "id": "bISgWvB5ck51",
        "outputId": "686f46af-b985-4ba9-8646-455f70a22e18"
      },
      "execution_count": 69,
      "outputs": [
        {
          "output_type": "stream",
          "name": "stdout",
          "text": [
            "=3\n"
          ]
        }
      ]
    },
    {
      "cell_type": "markdown",
      "source": [
        "이제 섞인 데이터를 8:2의 비율로 훈련 데이터와 테스트 데이터로 분리해 줄게요. 전체 데이터의 크기에서 0.2를 곱해서 테스트 데이터의 크기를 정의해 줄게요."
      ],
      "metadata": {
        "id": "eP70mQkC8B4d"
      }
    },
    {
      "cell_type": "code",
      "source": [
        "n_of_val = int(len(encoder_input)*0.2)\n",
        "print('테스트 데이터의 수 :', n_of_val)"
      ],
      "metadata": {
        "colab": {
          "base_uri": "https://localhost:8080/"
        },
        "id": "RV235W2Scl83",
        "outputId": "d7eae4f0-0b60-4357-907e-702c800cd389"
      },
      "execution_count": 70,
      "outputs": [
        {
          "output_type": "stream",
          "name": "stdout",
          "text": [
            "테스트 데이터의 수 : 13163\n"
          ]
        }
      ]
    },
    {
      "cell_type": "markdown",
      "source": [
        "이렇게 정의한 테스트 데이터의 개수를 이용해 전체 데이터를 양분할게요. :표시의 위치에 주의해 주세요."
      ],
      "metadata": {
        "id": "agoXoLPf8Ng9"
      }
    },
    {
      "cell_type": "code",
      "source": [
        "encoder_input_train = encoder_input[:-n_of_val]\n",
        "decoder_input_train = decoder_input[:-n_of_val]\n",
        "decoder_target_train = decoder_target[:-n_of_val]\n",
        "\n",
        "encoder_input_test = encoder_input[-n_of_val:]\n",
        "decoder_input_test = decoder_input[-n_of_val:]\n",
        "decoder_target_test = decoder_target[-n_of_val:]\n",
        "\n",
        "print('훈련 데이터의 개수 :', len(encoder_input_train))\n",
        "print('훈련 레이블의 개수 :', len(decoder_input_train))\n",
        "print('테스트 데이터의 개수 :', len(encoder_input_test))\n",
        "print('테스트 레이블의 개수 :', len(decoder_input_test))"
      ],
      "metadata": {
        "colab": {
          "base_uri": "https://localhost:8080/"
        },
        "id": "hP0Wwxk5cm6v",
        "outputId": "b0914b8d-270e-404f-dcc3-039183b94a4b"
      },
      "execution_count": 71,
      "outputs": [
        {
          "output_type": "stream",
          "name": "stdout",
          "text": [
            "훈련 데이터의 개수 : 52655\n",
            "훈련 레이블의 개수 : 52655\n",
            "테스트 데이터의 개수 : 13163\n",
            "테스트 레이블의 개수 : 13163\n"
          ]
        }
      ]
    },
    {
      "cell_type": "markdown",
      "source": [
        "훈련 데이터와 테스트 데이터가 각각 52,655개와 13,163개로 잘 분리된 것을 볼 수 있어요!"
      ],
      "metadata": {
        "id": "hYUaNBzG8PHZ"
      }
    },
    {
      "cell_type": "markdown",
      "source": [
        "---\n",
        "## 3-7. 데이터 전처리하기 (3) 정수 인코딩\n",
        "\n",
        "### 단어 집합(vocabulary) 만들기 및 정수 인코딩\n",
        "\n",
        "이제 기계가 텍스트를 숫자로 처리할 수 있도록 훈련 데이터와 테스트 데이터의 단어들을 모두 정수로 바꾸어 주어야 해요. 이를 위해서는 각 단어에 고유한 정수를 맵핑하는 작업이 필요해요. 이 과정을 단어 집합(vocabulary) 을 만든다고 표현해요. 훈련 데이터에 대해서 단어 집합을 만들어볼게요. 우선, 원문에 해당되는 encoder_input_train에 대해서 단어 집합을 만들게요.\n",
        "\n",
        "Keras의 토크나이저를 사용하면, 입력된 훈련 데이터로부터 단어 집합을 만들 수 있어요."
      ],
      "metadata": {
        "id": "9J532UB18TLG"
      }
    },
    {
      "cell_type": "code",
      "source": [
        "src_tokenizer = Tokenizer() # 토크나이저 정의\n",
        "src_tokenizer.fit_on_texts(encoder_input_train) # 입력된 데이터로부터 단어 집합 생성\n",
        "print('=3')"
      ],
      "metadata": {
        "colab": {
          "base_uri": "https://localhost:8080/"
        },
        "id": "jJ4Whyij2aWr",
        "outputId": "269c5c97-b208-4290-d4d6-ba8fd9b0d053"
      },
      "execution_count": 72,
      "outputs": [
        {
          "output_type": "stream",
          "name": "stdout",
          "text": [
            "=3\n"
          ]
        }
      ]
    },
    {
      "cell_type": "markdown",
      "source": [
        "이제 단어 집합이 생성되는 동시에 각 단어에 고유한 정수가 부여되었어요. 현재 생성된 단어 집합은 src_tokenizer.word_index에 저장되어 있어요. 그런데 우리는 이렇게 만든 단어 집합에 있는 모든 단어를 사용하는 것이 아니라, 빈도수가 낮은 단어들은 훈련 데이터에서 제외하고 진행하려고 해요.\n",
        "\n",
        "등장 빈도수가 7회 미만인 단어들이 이 데이터에서 얼만큼의 비중을 차지하는지 확인해볼게요.\n",
        "\n",
        "src_tokenizer.word_counts.items()에는 단어와 각 단어의 등장 빈도수가 저장돼 있는데, 이를 통해서 통계적인 정보를 얻을 수 있어요."
      ],
      "metadata": {
        "id": "d3PwUBkn9ov_"
      }
    },
    {
      "cell_type": "code",
      "source": [
        "threshold = 7\n",
        "total_cnt = len(src_tokenizer.word_index) # 단어의 수\n",
        "rare_cnt = 0 # 등장 빈도수가 threshold보다 작은 단어의 개수를 카운트\n",
        "total_freq = 0 # 훈련 데이터의 전체 단어 빈도수 총 합\n",
        "rare_freq = 0 # 등장 빈도수가 threshold보다 작은 단어의 등장 빈도수의 총 합\n",
        "\n",
        "# 단어와 빈도수의 쌍(pair)을 key와 value로 받는다.\n",
        "for key, value in src_tokenizer.word_counts.items():\n",
        "    total_freq = total_freq + value\n",
        "\n",
        "    # 단어의 등장 빈도수가 threshold보다 작으면\n",
        "    if(value < threshold):\n",
        "        rare_cnt = rare_cnt + 1\n",
        "        rare_freq = rare_freq + value\n",
        "\n",
        "print('단어 집합(vocabulary)의 크기 :', total_cnt)\n",
        "print('등장 빈도가 %s번 이하인 희귀 단어의 수: %s'%(threshold - 1, rare_cnt))\n",
        "print('단어 집합에서 희귀 단어를 제외시킬 경우의 단어 집합의 크기 %s'%(total_cnt - rare_cnt))\n",
        "print(\"단어 집합에서 희귀 단어의 비율:\", (rare_cnt / total_cnt)*100)\n",
        "print(\"전체 등장 빈도에서 희귀 단어 등장 빈도 비율:\", (rare_freq / total_freq)*100)"
      ],
      "metadata": {
        "colab": {
          "base_uri": "https://localhost:8080/"
        },
        "id": "6ckoWjkR2kFU",
        "outputId": "11164310-80c5-47a6-9b1e-5e8cca8f80cf"
      },
      "execution_count": 73,
      "outputs": [
        {
          "output_type": "stream",
          "name": "stdout",
          "text": [
            "단어 집합(vocabulary)의 크기 : 32034\n",
            "등장 빈도가 6번 이하인 희귀 단어의 수: 23818\n",
            "단어 집합에서 희귀 단어를 제외시킬 경우의 단어 집합의 크기 8216\n",
            "단어 집합에서 희귀 단어의 비율: 74.35225073359555\n",
            "전체 등장 빈도에서 희귀 단어 등장 빈도 비율: 3.4090139149534933\n"
          ]
        }
      ]
    },
    {
      "cell_type": "markdown",
      "source": [
        "encoder_input_train에는 3만여 개의 단어가 있네요. 그 아래의 통계 정보들을 해석해볼까요?\n",
        "\n",
        "등장 빈도가 threshold 값인 7회 미만, 즉 6회 이하인 단어들은 단어 집합에서 무려 70% 이상을 차지하네요. 하지만 실제로 훈련 데이터에서 등장 빈도로 차지하는 비중은 상대적으로 적은 수치인 3.39%밖에 되지 않아요.\n",
        "\n",
        "그래서 등장 빈도가 6회 이하인 단어들은 정수 인코딩 과정에서 빼고, 훈련 데이터에서 제거하고자 합니다. 위에서 이를 제외한 단어 집합의 크기를 8천여 개로 계산했는데, 이와 비슷한 값으로 어림잡아 단어 집합의 크기를 8,000으로 제한해볼게요. 토크나이저를 정의할 때 num_words의 값을 정해주면, 단어 집합의 크기를 제한할 수 있어요."
      ],
      "metadata": {
        "id": "nAIQ2kwf9rIV"
      }
    },
    {
      "cell_type": "code",
      "source": [
        "src_vocab = 8000\n",
        "src_tokenizer = Tokenizer(num_words=src_vocab) # 단어 집합의 크기를 8,000으로 제한\n",
        "src_tokenizer.fit_on_texts(encoder_input_train) # 단어 집합 재생성\n",
        "print('=3')"
      ],
      "metadata": {
        "colab": {
          "base_uri": "https://localhost:8080/"
        },
        "id": "PGuYhyQy2eVi",
        "outputId": "a8c7ad2d-da0a-492d-e288-6a9a58e3b839"
      },
      "execution_count": 74,
      "outputs": [
        {
          "output_type": "stream",
          "name": "stdout",
          "text": [
            "=3\n"
          ]
        }
      ]
    },
    {
      "cell_type": "markdown",
      "source": [
        "texts_to_sequences()는 생성된 단어 집합에 기반하여 입력으로 주어진 텍스트 데이터의 단어들을 모두 정수로 변환하는 정수 인코딩을 수행해요. 현재 단어 집합의 크기를 8,000으로 제한했으니까 이제 8,000이 넘는 숫자들은 정수 인코딩 후에는 데이터에 존재하지 않아요."
      ],
      "metadata": {
        "id": "bagw9Jf7-ACL"
      }
    },
    {
      "cell_type": "code",
      "source": [
        "# 텍스트 시퀀스를 정수 시퀀스로 변환\n",
        "encoder_input_train = src_tokenizer.texts_to_sequences(encoder_input_train)\n",
        "encoder_input_test = src_tokenizer.texts_to_sequences(encoder_input_test)\n",
        "\n",
        "# 잘 진행되었는지 샘플 출력\n",
        "print(encoder_input_train[:3])"
      ],
      "metadata": {
        "colab": {
          "base_uri": "https://localhost:8080/"
        },
        "id": "1uF0AHpg2f4A",
        "outputId": "b3a98946-5913-4ecc-eee3-9d6b257933f3"
      },
      "execution_count": 75,
      "outputs": [
        {
          "output_type": "stream",
          "name": "stdout",
          "text": [
            "[[71, 506, 1085, 477, 2715, 89, 7, 1378, 40, 3, 122, 51, 1455, 3399, 1113, 2564, 387, 3971, 432, 3023, 1925, 2235, 506, 21, 3023, 948, 1706, 1331, 3971, 214, 772, 1641, 724, 128], [227, 357, 164, 11, 45, 12, 28, 73, 143, 1744, 9, 85, 227, 2387], [165, 10, 558, 41, 213, 564, 120, 33, 141, 564, 52, 7, 15, 1265, 1801, 71, 134, 847, 3, 1265, 6146, 85, 207, 2716, 12, 314, 26, 949]]\n"
          ]
        }
      ]
    },
    {
      "cell_type": "markdown",
      "source": [
        "이제 더 이상 텍스트 데이터가 아니라 정수가 나오고 있어요.\n",
        "\n",
        "Summary 데이터에 대해서도 동일한 작업을 수행할게요. 케라스의 토크나이저를 사용하여 decoder_input_train을 입력으로 전체 단어 집합과 각 단어에 대한 빈도수를 계산해요."
      ],
      "metadata": {
        "id": "yeAiV_3x-OHW"
      }
    },
    {
      "cell_type": "code",
      "source": [
        "tar_tokenizer = Tokenizer()\n",
        "tar_tokenizer.fit_on_texts(decoder_input_train)\n",
        "print('=3')"
      ],
      "metadata": {
        "colab": {
          "base_uri": "https://localhost:8080/"
        },
        "id": "RFkfMlcp2l0T",
        "outputId": "4091d6cc-e066-4474-ee67-76f210f867fd"
      },
      "execution_count": 76,
      "outputs": [
        {
          "output_type": "stream",
          "name": "stdout",
          "text": [
            "=3\n"
          ]
        }
      ]
    },
    {
      "cell_type": "markdown",
      "source": [
        "이제 단어 집합이 생성되는 동시에 각 단어에 고유한 정수가 부여되었어요. 이는 tar_tokenizer.word_index에 저장되어 있어요. tar_tokenizer.word_counts.items()에는 단어와 각 단어의 등장 빈도수가 저장돼 있는데, 이를 통해서 통계적인 정보를 얻어서, 등장 빈도수가 6회 미만인 단어들이 이 데이터에서 얼만큼의 비중을 차지하는지 확인해볼게요."
      ],
      "metadata": {
        "id": "KSEnQPw0-Tni"
      }
    },
    {
      "cell_type": "code",
      "source": [
        "threshold = 6\n",
        "total_cnt = len(tar_tokenizer.word_index) # 단어의 수\n",
        "rare_cnt = 0 # 등장 빈도수가 threshold보다 작은 단어의 개수를 카운트\n",
        "total_freq = 0 # 훈련 데이터의 전체 단어 빈도수 총 합\n",
        "rare_freq = 0 # 등장 빈도수가 threshold보다 작은 단어의 등장 빈도수의 총 합\n",
        "\n",
        "# 단어와 빈도수의 쌍(pair)을 key와 value로 받는다.\n",
        "for key, value in tar_tokenizer.word_counts.items():\n",
        "    total_freq = total_freq + value\n",
        "\n",
        "    # 단어의 등장 빈도수가 threshold보다 작으면\n",
        "    if(value < threshold):\n",
        "        rare_cnt = rare_cnt + 1\n",
        "        rare_freq = rare_freq + value\n",
        "\n",
        "print('단어 집합(vocabulary)의 크기 :', total_cnt)\n",
        "print('등장 빈도가 %s번 이하인 희귀 단어의 수: %s'%(threshold - 1, rare_cnt))\n",
        "print('단어 집합에서 희귀 단어를 제외시킬 경우의 단어 집합의 크기 %s'%(total_cnt - rare_cnt))\n",
        "print(\"단어 집합에서 희귀 단어의 비율:\", (rare_cnt / total_cnt)*100)\n",
        "print(\"전체 등장 빈도에서 희귀 단어 등장 빈도 비율:\", (rare_freq / total_freq)*100)"
      ],
      "metadata": {
        "colab": {
          "base_uri": "https://localhost:8080/"
        },
        "id": "bixc5Hy32npQ",
        "outputId": "b395aaf1-5f74-4bbd-c5a5-47c063ff5899"
      },
      "execution_count": 77,
      "outputs": [
        {
          "output_type": "stream",
          "name": "stdout",
          "text": [
            "단어 집합(vocabulary)의 크기 : 10582\n",
            "등장 빈도가 5번 이하인 희귀 단어의 수: 8202\n",
            "단어 집합에서 희귀 단어를 제외시킬 경우의 단어 집합의 크기 2380\n",
            "단어 집합에서 희귀 단어의 비율: 77.50897750897751\n",
            "전체 등장 빈도에서 희귀 단어 등장 빈도 비율: 5.93576832161479\n"
          ]
        }
      ]
    },
    {
      "cell_type": "markdown",
      "source": [
        "등장 빈도가 5회 이하인 단어들은 단어 집합에서 약 77%를 차지하고 있네요. 하지만 실제로 훈련 데이터에서 등장 빈도로 차지하는 비중은 상대적으로 매우 적은 수치인 5.87%밖에 되지 않아요. 아까 했던 것과 동일하게 이 단어들은 모두 제거할게요. 어림잡아 2,000을 단어 집합의 크기로 제한할게요."
      ],
      "metadata": {
        "id": "oh30qdPq-wof"
      }
    },
    {
      "cell_type": "code",
      "source": [
        "tar_vocab = 2000\n",
        "tar_tokenizer = Tokenizer(num_words=tar_vocab)\n",
        "tar_tokenizer.fit_on_texts(decoder_input_train)\n",
        "tar_tokenizer.fit_on_texts(decoder_target_train)\n",
        "\n",
        "# 텍스트 시퀀스를 정수 시퀀스로 변환\n",
        "decoder_input_train = tar_tokenizer.texts_to_sequences(decoder_input_train)\n",
        "decoder_target_train = tar_tokenizer.texts_to_sequences(decoder_target_train)\n",
        "decoder_input_test = tar_tokenizer.texts_to_sequences(decoder_input_test)\n",
        "decoder_target_test = tar_tokenizer.texts_to_sequences(decoder_target_test)\n",
        "\n",
        "# 잘 변환되었는지 확인\n",
        "print('input')\n",
        "print('input ',decoder_input_train[:5])\n",
        "print('target')\n",
        "print('decoder ',decoder_target_train[:5])"
      ],
      "metadata": {
        "colab": {
          "base_uri": "https://localhost:8080/"
        },
        "id": "WUmLLOzn2pYD",
        "outputId": "d74fe019-1959-410a-ebfa-1f6d2070ae90"
      },
      "execution_count": 78,
      "outputs": [
        {
          "output_type": "stream",
          "name": "stdout",
          "text": [
            "input\n",
            "input  [[1, 3, 20], [1, 293, 74], [1], [1, 9, 5, 77, 114, 728, 5, 182], [1, 9, 15, 99]]\n",
            "target\n",
            "decoder  [[3, 20, 2], [293, 74, 2], [2], [9, 5, 77, 114, 728, 5, 182, 2], [9, 15, 99, 2]]\n"
          ]
        }
      ]
    },
    {
      "cell_type": "markdown",
      "source": [
        "정상적으로 정수 인코딩 작업이 끝났어요. 현재 decoder_input_train과 decoder_target_train에는 더 이상 숫자 2,000이 넘는 숫자들은 존재하지 않아요. 그런데 다음 작업인 패딩 하기로 넘어가기 전에 한 가지 점검해야 할 것이 있어요.\n",
        "\n",
        "전체 데이터에서 빈도수가 낮은 단어가 삭제되었다는 것은 빈도수가 낮은 단어만으로 구성되었던 샘플들은 이제 빈(empty) 샘플이 되었을 가능성이 있어요. 이 현상은 길이가 상대적으로 길었던 원문(Text)의 경우에는 문제가 별로 없겠지만, 애초에 평균 길이가 4밖에 되지 않았던 요약문(Summary)의 경우에는 이 현상이 굉장히 두드러졌을 가능성이 높겠죠.\n",
        "\n",
        "요약문에서 길이가 0이 된 샘플들의 인덱스를 받아와볼게요. 여기서 주의할 점은 요약문인 decoder_input에는 sostoken 또는 decoder_target에는 eostoken이 추가된 상태이고, 이 두 토큰은 모든 샘플에서 등장하므로 빈도수가 샘플 수와 동일하게 매우 높으므로 단어 집합 제한에도 삭제되지 않아요. 그래서 이제 길이가 0이 된 요약문의 실제 길이는 1로 나올 거예요. 길이 0이 된 decoder_input에는 sostoken, decoder_target에는 eostoken만 남아 있을 테니까요.\n",
        "\n",
        "훈련 데이터와 테스트 데이터에 대해서 요약문의 길이가 1인 경우의 인덱스를 각각 drop_train과 drop_test에 라는 변수에 저장해볼게요. 이 샘플들은 모두 삭제할 거예요."
      ],
      "metadata": {
        "id": "zn-wVu8F_QOD"
      }
    },
    {
      "cell_type": "code",
      "source": [
        "drop_train = [index for index, sentence in enumerate(decoder_input_train) if len(sentence) == 1]\n",
        "drop_test = [index for index, sentence in enumerate(decoder_input_test) if len(sentence) == 1]\n",
        "\n",
        "print('삭제할 훈련 데이터의 개수 :', len(drop_train))\n",
        "print('삭제할 테스트 데이터의 개수 :', len(drop_test))\n",
        "\n",
        "encoder_input_train = [sentence for index, sentence in enumerate(encoder_input_train) if index not in drop_train]\n",
        "decoder_input_train = [sentence for index, sentence in enumerate(decoder_input_train) if index not in drop_train]\n",
        "decoder_target_train = [sentence for index, sentence in enumerate(decoder_target_train) if index not in drop_train]\n",
        "\n",
        "encoder_input_test = [sentence for index, sentence in enumerate(encoder_input_test) if index not in drop_test]\n",
        "decoder_input_test = [sentence for index, sentence in enumerate(decoder_input_test) if index not in drop_test]\n",
        "decoder_target_test = [sentence for index, sentence in enumerate(decoder_target_test) if index not in drop_test]\n",
        "\n",
        "print('훈련 데이터의 개수 :', len(encoder_input_train))\n",
        "print('훈련 레이블의 개수 :', len(decoder_input_train))\n",
        "print('테스트 데이터의 개수 :', len(encoder_input_test))\n",
        "print('테스트 레이블의 개수 :', len(decoder_input_test))"
      ],
      "metadata": {
        "colab": {
          "base_uri": "https://localhost:8080/"
        },
        "id": "iEi0BDUq2rqd",
        "outputId": "574ae396-373a-4bca-b7a6-e547ef8a0efb"
      },
      "execution_count": 79,
      "outputs": [
        {
          "output_type": "stream",
          "name": "stdout",
          "text": [
            "삭제할 훈련 데이터의 개수 : 1290\n",
            "삭제할 테스트 데이터의 개수 : 319\n",
            "훈련 데이터의 개수 : 51365\n",
            "훈련 레이블의 개수 : 51365\n",
            "테스트 데이터의 개수 : 12844\n",
            "테스트 레이블의 개수 : 12844\n"
          ]
        }
      ]
    },
    {
      "cell_type": "markdown",
      "source": [
        "### 패딩하기\n",
        "텍스트 시퀀스를 정수 시퀀스로 변환했다면, 이제 서로 다른 길이의 샘플들을 병렬 처리하기 위해 같은 길이로 맞춰주는 패딩 작업을 해주어야 해야 해요. 아까 정해두었던 최대 길이로 패딩 해 줄 거에요. 최대 길이보다 짧은 데이터들은 뒤의 공간에 숫자 0을 넣어 최대 길이로 길이를 맞춰줄게요."
      ],
      "metadata": {
        "id": "9_0yzFzC_sPp"
      }
    },
    {
      "cell_type": "code",
      "source": [
        "encoder_input_train = pad_sequences(encoder_input_train, maxlen=text_max_len, padding='post')\n",
        "encoder_input_test = pad_sequences(encoder_input_test, maxlen=text_max_len, padding='post')\n",
        "decoder_input_train = pad_sequences(decoder_input_train, maxlen=summary_max_len, padding='post')\n",
        "decoder_target_train = pad_sequences(decoder_target_train, maxlen=summary_max_len, padding='post')\n",
        "decoder_input_test = pad_sequences(decoder_input_test, maxlen=summary_max_len, padding='post')\n",
        "decoder_target_test = pad_sequences(decoder_target_test, maxlen=summary_max_len, padding='post')\n",
        "print('=3')"
      ],
      "metadata": {
        "colab": {
          "base_uri": "https://localhost:8080/"
        },
        "id": "noW7VX3j2wFT",
        "outputId": "fac39556-1645-4bd2-d76c-c0775282341b"
      },
      "execution_count": 80,
      "outputs": [
        {
          "output_type": "stream",
          "name": "stdout",
          "text": [
            "=3\n"
          ]
        }
      ]
    },
    {
      "cell_type": "markdown",
      "source": [
        "## 3-8. 모델 설계하기\n",
        "이제는 모델을 설계할 시간이에요. 우선 함수형 API를 이용해서 인코더를 설계해 볼게요."
      ],
      "metadata": {
        "id": "gU6zha5a_8jY"
      }
    },
    {
      "cell_type": "code",
      "source": [
        "from tensorflow.keras.layers import Input, LSTM, Embedding, Dense, Concatenate, TimeDistributed\n",
        "from tensorflow.keras.models import Model\n",
        "from tensorflow.keras.callbacks import EarlyStopping, ModelCheckpoint\n",
        "\n",
        "\n",
        "# 인코더 설계 시작\n",
        "embedding_dim = 128\n",
        "hidden_size = 256\n",
        "\n",
        "# 인코더\n",
        "encoder_inputs = Input(shape=(text_max_len,))\n",
        "\n",
        "# 인코더의 임베딩 층\n",
        "enc_emb = Embedding(src_vocab, embedding_dim)(encoder_inputs)\n",
        "\n",
        "# 인코더의 LSTM 1\n",
        "# encoder_lstm1 = LSTM(hidden_size, return_sequences=True, return_state=True ,dropout = 0.4, recurrent_dropout = 0.4)\n",
        "encoder_lstm1 = LSTM(hidden_size, return_sequences=True, return_state=True ,dropout = 0.4)\n",
        "encoder_output1, state_h1, state_c1 = encoder_lstm1(enc_emb)\n",
        "\n",
        "# 인코더의 LSTM 2\n",
        "encoder_lstm2 = LSTM(hidden_size, return_sequences=True, return_state=True, dropout=0.4)\n",
        "encoder_output2, state_h2, state_c2 = encoder_lstm2(encoder_output1)\n",
        "\n",
        "# 인코더의 LSTM 3\n",
        "encoder_lstm3 = LSTM(hidden_size, return_sequences=True, return_state=True, dropout=0.4)\n",
        "encoder_output3, state_h3, state_c3 = encoder_lstm3(encoder_output2)"
      ],
      "metadata": {
        "id": "6rtSHTubBelA"
      },
      "execution_count": 81,
      "outputs": []
    },
    {
      "cell_type": "markdown",
      "source": [
        "임베딩 벡터의 차원은 128로 정의하고, hidden state의 크기를 256으로 정의했어요. hidden state는 LSTM에서 얼만큼의 수용력(capacity)를 가질지를 정하는 파라미터에요. 이 파라미터는 LSTM의 용량의 크기나, LSTM에서의 뉴런의 개수라고 이해하면 돼요. 다른 신경망과 마찬가지로, 무조건 용량을 많이 준다고 해서 성능이 반드시 올라가는 것은 아니에요.\n",
        "\n",
        "인코더의 LSTM은 총 3개의 층으로 구성해서 모델의 복잡도를 높였어요. hidden state의 크기를 늘리는 것이 LSTM 층 1개의 용량을 늘린다면, 3개의 층을 사용하는 것은 모델의 용량을 늘린다고 볼 수 있죠. 3개의 층을 지나서 인코더로부터 나온 출력 벡터는 디코더로 보내줘야겠죠?\n",
        "\n",
        "또한 LSTM은 dropout 뿐 아니라 recurrent dropout까지 사용할 수 있어요. 일반적인 dropout은 레이어의 weight를 랜덤으로 생략하여 모델의 과적합(overfitting)을 해결해주는 방법이에요.\n",
        "\n",
        "반면 recurrent dropout은 dropout을 레이어가 아닌 time step마다 해주는 방식이에요. 즉 time step의 입력을 랜덤으로 생략해 주는 거죠. recurrent dropout은 일반적인 dropout와 같이 regularization을 해주는 효과가 있고, 과적합을 방지할 수 있다고 해요.\n",
        "\n",
        "아래 그림은 일반적인 dropout과, dropout과 recurrent dropout을 동시에 사용한 것을 시각적으로 표현한 것입니다. 색이 있는 화살표는 dropout을 나타낸 것이에요. (색이 다른 것은 다른 dropout mask를 사용했다는 표시인데, 지금은 그냥 넘어가셔도 됩니다.) 코드를 수정해서 LSTM에 dropout과 recurrent dropout을 모두 사용할 수 있습니다. 그렇게 되면 오른쪽 그림과 같은 형태가 되겠군요. 참고로 dropout과 recurrent dropout을 모두 사용한 것을 Variational Dropout이라고도 해요.\n",
        "\n",
        "![image.png](data:image/png;base64,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)"
      ],
      "metadata": {
        "id": "AxPIdaT1Bi2Q"
      }
    },
    {
      "cell_type": "code",
      "source": [
        "# 디코더 설계\n",
        "decoder_inputs = Input(shape=(None,))\n",
        "\n",
        "# 디코더의 임베딩 층\n",
        "dec_emb_layer = Embedding(tar_vocab, embedding_dim)\n",
        "dec_emb = dec_emb_layer(decoder_inputs)\n",
        "\n",
        "# 디코더의 LSTM\n",
        "# decoder_lstm = LSTM(hidden_size, return_sequences=True, return_state=True, dropout=0.4, recurrent_dropout=0.2)\n",
        "decoder_lstm = LSTM(hidden_size, return_sequences=True, return_state=True, dropout=0.4)\n",
        "decoder_outputs, _, _ = decoder_lstm(dec_emb, initial_state=[state_h3, state_c3])"
      ],
      "metadata": {
        "id": "mpS_WCetERB8"
      },
      "execution_count": 82,
      "outputs": []
    },
    {
      "cell_type": "code",
      "source": [
        "# 디코더의 출력층\n",
        "decoder_softmax_layer = Dense(tar_vocab, activation='softmax')\n",
        "decoder_softmax_outputs = decoder_softmax_layer(decoder_outputs)\n",
        "\n",
        "# 모델 정의\n",
        "model = Model([encoder_inputs, decoder_inputs], decoder_softmax_outputs)\n",
        "model.summary()"
      ],
      "metadata": {
        "colab": {
          "base_uri": "https://localhost:8080/"
        },
        "id": "ELQIXfk_EScA",
        "outputId": "5a321106-1891-4367-f36b-280c43ae3291"
      },
      "execution_count": 83,
      "outputs": [
        {
          "output_type": "stream",
          "name": "stdout",
          "text": [
            "Model: \"model\"\n",
            "__________________________________________________________________________________________________\n",
            " Layer (type)                Output Shape                 Param #   Connected to                  \n",
            "==================================================================================================\n",
            " input_1 (InputLayer)        [(None, 50)]                 0         []                            \n",
            "                                                                                                  \n",
            " embedding (Embedding)       (None, 50, 128)              1024000   ['input_1[0][0]']             \n",
            "                                                                                                  \n",
            " lstm (LSTM)                 [(None, 50, 256),            394240    ['embedding[0][0]']           \n",
            "                              (None, 256),                                                        \n",
            "                              (None, 256)]                                                        \n",
            "                                                                                                  \n",
            " input_2 (InputLayer)        [(None, None)]               0         []                            \n",
            "                                                                                                  \n",
            " lstm_1 (LSTM)               [(None, 50, 256),            525312    ['lstm[0][0]']                \n",
            "                              (None, 256),                                                        \n",
            "                              (None, 256)]                                                        \n",
            "                                                                                                  \n",
            " embedding_1 (Embedding)     (None, None, 128)            256000    ['input_2[0][0]']             \n",
            "                                                                                                  \n",
            " lstm_2 (LSTM)               [(None, 50, 256),            525312    ['lstm_1[0][0]']              \n",
            "                              (None, 256),                                                        \n",
            "                              (None, 256)]                                                        \n",
            "                                                                                                  \n",
            " lstm_3 (LSTM)               [(None, None, 256),          394240    ['embedding_1[0][0]',         \n",
            "                              (None, 256),                           'lstm_2[0][1]',              \n",
            "                              (None, 256)]                           'lstm_2[0][2]']              \n",
            "                                                                                                  \n",
            " dense (Dense)               (None, None, 2000)           514000    ['lstm_3[0][0]']              \n",
            "                                                                                                  \n",
            "==================================================================================================\n",
            "Total params: 3633104 (13.86 MB)\n",
            "Trainable params: 3633104 (13.86 MB)\n",
            "Non-trainable params: 0 (0.00 Byte)\n",
            "__________________________________________________________________________________________________\n"
          ]
        }
      ]
    },
    {
      "cell_type": "code",
      "source": [
        "from tensorflow.keras.layers import AdditiveAttention\n",
        "\n",
        "# 어텐션 층(어텐션 함수)\n",
        "attn_layer = AdditiveAttention(name='attention_layer')\n",
        "\n",
        "# 인코더와 디코더의 모든 time step의 hidden state를 어텐션 층에 전달하고 결과를 리턴\n",
        "attn_out = attn_layer([decoder_outputs, encoder_output3])\n",
        "\n",
        "# 어텐션의 결과와 디코더의 hidden state들을 연결\n",
        "decoder_concat_input = Concatenate(axis=-1, name='concat_layer')([decoder_outputs, attn_out])\n",
        "\n",
        "# 디코더의 출력층\n",
        "decoder_softmax_layer = Dense(tar_vocab, activation='softmax')\n",
        "decoder_softmax_outputs = decoder_softmax_layer(decoder_concat_input)\n",
        "\n",
        "# 모델 정의\n",
        "model = Model([encoder_inputs, decoder_inputs], decoder_softmax_outputs)\n",
        "model.summary()\n"
      ],
      "metadata": {
        "colab": {
          "base_uri": "https://localhost:8080/"
        },
        "id": "cAoeoB5cETqu",
        "outputId": "4d27e2a3-0d5a-419b-a7d2-1e1eadc0c74b"
      },
      "execution_count": 84,
      "outputs": [
        {
          "output_type": "stream",
          "name": "stdout",
          "text": [
            "Model: \"model_1\"\n",
            "__________________________________________________________________________________________________\n",
            " Layer (type)                Output Shape                 Param #   Connected to                  \n",
            "==================================================================================================\n",
            " input_1 (InputLayer)        [(None, 50)]                 0         []                            \n",
            "                                                                                                  \n",
            " embedding (Embedding)       (None, 50, 128)              1024000   ['input_1[0][0]']             \n",
            "                                                                                                  \n",
            " lstm (LSTM)                 [(None, 50, 256),            394240    ['embedding[0][0]']           \n",
            "                              (None, 256),                                                        \n",
            "                              (None, 256)]                                                        \n",
            "                                                                                                  \n",
            " input_2 (InputLayer)        [(None, None)]               0         []                            \n",
            "                                                                                                  \n",
            " lstm_1 (LSTM)               [(None, 50, 256),            525312    ['lstm[0][0]']                \n",
            "                              (None, 256),                                                        \n",
            "                              (None, 256)]                                                        \n",
            "                                                                                                  \n",
            " embedding_1 (Embedding)     (None, None, 128)            256000    ['input_2[0][0]']             \n",
            "                                                                                                  \n",
            " lstm_2 (LSTM)               [(None, 50, 256),            525312    ['lstm_1[0][0]']              \n",
            "                              (None, 256),                                                        \n",
            "                              (None, 256)]                                                        \n",
            "                                                                                                  \n",
            " lstm_3 (LSTM)               [(None, None, 256),          394240    ['embedding_1[0][0]',         \n",
            "                              (None, 256),                           'lstm_2[0][1]',              \n",
            "                              (None, 256)]                           'lstm_2[0][2]']              \n",
            "                                                                                                  \n",
            " attention_layer (AdditiveA  (None, None, 256)            256       ['lstm_3[0][0]',              \n",
            " ttention)                                                           'lstm_2[0][0]']              \n",
            "                                                                                                  \n",
            " concat_layer (Concatenate)  (None, None, 512)            0         ['lstm_3[0][0]',              \n",
            "                                                                     'attention_layer[0][0]']     \n",
            "                                                                                                  \n",
            " dense_1 (Dense)             (None, None, 2000)           1026000   ['concat_layer[0][0]']        \n",
            "                                                                                                  \n",
            "==================================================================================================\n",
            "Total params: 4145360 (15.81 MB)\n",
            "Trainable params: 4145360 (15.81 MB)\n",
            "Non-trainable params: 0 (0.00 Byte)\n",
            "__________________________________________________________________________________________________\n"
          ]
        }
      ]
    },
    {
      "cell_type": "code",
      "source": [
        "model.compile(optimizer='rmsprop', loss='sparse_categorical_crossentropy')\n",
        "es = EarlyStopping(monitor='val_loss', patience=2, verbose=1)\n",
        "history = model.fit(x=[encoder_input_train, decoder_input_train], y=decoder_target_train, \\\n",
        "          validation_data=([encoder_input_test, decoder_input_test], decoder_target_test), \\\n",
        "          batch_size=256, callbacks=[es], epochs=50)"
      ],
      "metadata": {
        "colab": {
          "base_uri": "https://localhost:8080/"
        },
        "id": "2pLUVhmjEV6l",
        "outputId": "f3ee3ea4-1212-4cd8-95bf-8c6d6fa1a108"
      },
      "execution_count": 85,
      "outputs": [
        {
          "output_type": "stream",
          "name": "stdout",
          "text": [
            "Epoch 1/50\n",
            "201/201 [==============================] - 37s 108ms/step - loss: 2.8970 - val_loss: 2.5569\n",
            "Epoch 2/50\n",
            "201/201 [==============================] - 11s 54ms/step - loss: 2.5498 - val_loss: 2.4824\n",
            "Epoch 3/50\n",
            "201/201 [==============================] - 10s 49ms/step - loss: 2.4653 - val_loss: 2.4188\n",
            "Epoch 4/50\n",
            "201/201 [==============================] - 9s 43ms/step - loss: 2.4027 - val_loss: 2.3696\n",
            "Epoch 5/50\n",
            "201/201 [==============================] - 9s 45ms/step - loss: 2.3626 - val_loss: 2.3383\n",
            "Epoch 6/50\n",
            "201/201 [==============================] - 8s 41ms/step - loss: 2.3253 - val_loss: 2.3016\n",
            "Epoch 7/50\n",
            "201/201 [==============================] - 8s 42ms/step - loss: 2.2912 - val_loss: 2.2809\n",
            "Epoch 8/50\n",
            "201/201 [==============================] - 8s 40ms/step - loss: 2.2591 - val_loss: 2.2545\n",
            "Epoch 9/50\n",
            "201/201 [==============================] - 9s 43ms/step - loss: 2.2248 - val_loss: 2.2140\n",
            "Epoch 10/50\n",
            "201/201 [==============================] - 8s 40ms/step - loss: 2.1898 - val_loss: 2.1951\n",
            "Epoch 11/50\n",
            "201/201 [==============================] - 8s 41ms/step - loss: 2.1576 - val_loss: 2.1591\n",
            "Epoch 12/50\n",
            "201/201 [==============================] - 8s 40ms/step - loss: 2.1274 - val_loss: 2.1362\n",
            "Epoch 13/50\n",
            "201/201 [==============================] - 8s 40ms/step - loss: 2.1011 - val_loss: 2.1163\n",
            "Epoch 14/50\n",
            "201/201 [==============================] - 8s 40ms/step - loss: 2.0779 - val_loss: 2.1014\n",
            "Epoch 15/50\n",
            "201/201 [==============================] - 8s 40ms/step - loss: 2.0556 - val_loss: 2.0819\n",
            "Epoch 16/50\n",
            "201/201 [==============================] - 8s 40ms/step - loss: 2.0354 - val_loss: 2.0711\n",
            "Epoch 17/50\n",
            "201/201 [==============================] - 8s 40ms/step - loss: 2.0158 - val_loss: 2.0552\n",
            "Epoch 18/50\n",
            "201/201 [==============================] - 8s 38ms/step - loss: 1.9985 - val_loss: 2.0474\n",
            "Epoch 19/50\n",
            "201/201 [==============================] - 8s 40ms/step - loss: 1.9806 - val_loss: 2.0359\n",
            "Epoch 20/50\n",
            "201/201 [==============================] - 8s 41ms/step - loss: 1.9628 - val_loss: 2.0244\n",
            "Epoch 21/50\n",
            "201/201 [==============================] - 8s 40ms/step - loss: 1.9452 - val_loss: 2.0098\n",
            "Epoch 22/50\n",
            "201/201 [==============================] - 8s 39ms/step - loss: 1.9283 - val_loss: 2.0022\n",
            "Epoch 23/50\n",
            "201/201 [==============================] - 8s 39ms/step - loss: 1.9118 - val_loss: 1.9930\n",
            "Epoch 24/50\n",
            "201/201 [==============================] - 8s 40ms/step - loss: 1.8945 - val_loss: 1.9808\n",
            "Epoch 25/50\n",
            "201/201 [==============================] - 9s 44ms/step - loss: 1.8796 - val_loss: 1.9742\n",
            "Epoch 26/50\n",
            "201/201 [==============================] - 9s 43ms/step - loss: 1.8640 - val_loss: 1.9680\n",
            "Epoch 27/50\n",
            "201/201 [==============================] - 11s 53ms/step - loss: 1.8497 - val_loss: 1.9573\n",
            "Epoch 28/50\n",
            "201/201 [==============================] - 8s 42ms/step - loss: 1.8356 - val_loss: 1.9602\n",
            "Epoch 29/50\n",
            "201/201 [==============================] - 9s 46ms/step - loss: 1.8223 - val_loss: 1.9535\n",
            "Epoch 30/50\n",
            "201/201 [==============================] - 8s 40ms/step - loss: 1.8087 - val_loss: 1.9543\n",
            "Epoch 31/50\n",
            "201/201 [==============================] - 8s 40ms/step - loss: 1.7966 - val_loss: 1.9427\n",
            "Epoch 32/50\n",
            "201/201 [==============================] - 8s 39ms/step - loss: 1.7836 - val_loss: 1.9413\n",
            "Epoch 33/50\n",
            "201/201 [==============================] - 9s 45ms/step - loss: 1.7718 - val_loss: 1.9444\n",
            "Epoch 34/50\n",
            "201/201 [==============================] - 8s 41ms/step - loss: 1.7592 - val_loss: 1.9426\n",
            "Epoch 34: early stopping\n"
          ]
        }
      ]
    },
    {
      "cell_type": "markdown",
      "source": [
        "'조기 종료'를 뜻하는 EarlyStopping은 특정 조건이 충족되면 훈련을 멈추는 역할을 해요.\n",
        "\n",
        "es = EarlyStopping(monitor='val_loss', patience=2, verbose=1)\n",
        "위 코드에서는 val_loss(검증 데이터의 손실)을 관찰하다가, 검증 데이터의 손실이 줄어들지 않고 증가하는 현상이 2회(patience=2) 관측되면 학습을 멈추도록 설정돼 있어요. EarlyStopping이 작동한다면 epochs가 아무리 크게 설정되어 있어도 모델 훈련을 최적점에서 멈출 수 있겠네요.\n",
        "\n",
        "EarlyStopping에 대한 자세한 내용은 아래 링크를 참고하세요! 자주 쓰이는 도구이니 자세히 알아두면 매우 도움이 될 거예요!!\n",
        "\n",
        "https://www.tensorflow.org/api_docs/python/tf/keras/callbacks/EarlyStopping"
      ],
      "metadata": {
        "id": "NYNaZfhQFTLG"
      }
    },
    {
      "cell_type": "markdown",
      "source": [
        "Q. Early Stopping을 사용할 경우 조심해야 하는 경우가 있는데, 어떤 경우일까요?\n",
        "\n",
        "patience가 0이 아닌 경우에는 훈련이 종료되었을 때 성능이 최고인 상황이 아닐 수 있습니다. 예를들어 patience가 3인 경우, 15 epoch에서 loss가 감소하다가 16 epoch부터 loss가 증가한다면 18 epoch 때 모델을 저장하고 학습을 종료합니다. 그래서 학습 중에 모델을 저장하는 callback 함수를 같이 사용한다."
      ],
      "metadata": {
        "id": "P82gWAagFfXJ"
      }
    },
    {
      "cell_type": "code",
      "source": [
        "plt.plot(history.history['loss'], label='train')\n",
        "plt.plot(history.history['val_loss'], label='test')\n",
        "plt.legend()\n",
        "plt.show()"
      ],
      "metadata": {
        "colab": {
          "base_uri": "https://localhost:8080/",
          "height": 430
        },
        "id": "dim6QZfPFQfZ",
        "outputId": "9983e3a6-c465-4005-9e87-d532df9116ad"
      },
      "execution_count": 86,
      "outputs": [
        {
          "output_type": "display_data",
          "data": {
            "text/plain": [
              "<Figure size 640x480 with 1 Axes>"
            ],
            "image/png": "[encoded data removed]"
          },
          "metadata": {}
        }
      ]
    },
    {
      "cell_type": "markdown",
      "source": [
        "테스트 단계에서는 정수 인덱스 행렬로 존재하던 텍스트 데이터를 실제 데이터로 복원해야 하므로, 필요한 3개의 사전을 아래와 같이 미리 준비해 둡니다."
      ],
      "metadata": {
        "id": "h9NuOa63FpSW"
      }
    },
    {
      "cell_type": "markdown",
      "source": [
        "## 3-10. 인퍼런스 모델 구현하기\n",
        "\n",
        "테스트 단계에서는 정수 인덱스 행렬로 존재하던 텍스트 데이터를 실제 데이터로 복원해야 하므로, 필요한 3개의 사전을 아래와 같이 미리 준비해 둡니다."
      ],
      "metadata": {
        "id": "n830TI6dGQ7g"
      }
    },
    {
      "cell_type": "code",
      "source": [
        "src_index_to_word = src_tokenizer.index_word # 원문 단어 집합에서 정수 -> 단어를 얻음\n",
        "tar_word_to_index = tar_tokenizer.word_index # 요약 단어 집합에서 단어 -> 정수를 얻음\n",
        "tar_index_to_word = tar_tokenizer.index_word # 요약 단어 집합에서 정수 -> 단어를 얻음\n",
        "\n",
        "print('=3')"
      ],
      "metadata": {
        "colab": {
          "base_uri": "https://localhost:8080/"
        },
        "id": "wdxlN4hwFrLl",
        "outputId": "50d7ebb7-f590-4596-e7dc-c138157978bf"
      },
      "execution_count": 87,
      "outputs": [
        {
          "output_type": "stream",
          "name": "stdout",
          "text": [
            "=3\n"
          ]
        }
      ]
    },
    {
      "cell_type": "markdown",
      "source": [
        "seq2seq는 훈련할 때와 실제 동작할 때(인퍼런스 단계)의 방식이 다르므로 그에 맞게 모델 설계를 별개로 진행해야 한다는 것, 알고 계시나요?\n",
        "\n",
        "훈련 단계에서는 디코더의 입력부에 정답이 되는 문장 전체를 한꺼번에 넣고 디코더의 출력과 한 번에 비교할 수 있으므로, 인코더와 디코더를 엮은 통짜 모델 하나만 준비했습니다.\n",
        "\n",
        "그러나 정답 문장이 없는 인퍼런스 단계에서는 만들어야 할 문장의 길이만큼 디코더가 반복 구조로 동작해야 하기 때문에 부득이하게 인퍼런스를 위한 모델 설계를 별도로 해주어야 합니다. 이때는 인코더 모델과 디코더 모델을 분리해서 설계합니다."
      ],
      "metadata": {
        "id": "PyxdYCpsGajw"
      }
    },
    {
      "cell_type": "code",
      "source": [
        "# 인코더 설계\n",
        "encoder_model = Model(inputs=encoder_inputs, outputs=[encoder_output3, state_h3, state_c3])\n",
        "\n",
        "# 이전 시점의 상태들을 저장하는 텐서\n",
        "decoder_state_input_h = Input(shape=(hidden_size,))\n",
        "decoder_state_input_c = Input(shape=(hidden_size,))\n",
        "\n",
        "dec_emb2 = dec_emb_layer(decoder_inputs)\n",
        "\n",
        "# 문장의 다음 단어를 예측하기 위해서 초기 상태(initial_state)를 이전 시점의 상태로 사용. 이는 뒤의 함수 decode_sequence()에 구현\n",
        "# 훈련 과정에서와 달리 LSTM의 리턴하는 은닉 상태와 셀 상태인 state_h와 state_c를 버리지 않음.\n",
        "decoder_outputs2, state_h2, state_c2 = decoder_lstm(dec_emb2, initial_state=[decoder_state_input_h, decoder_state_input_c])\n",
        "\n",
        "print('=3')\n"
      ],
      "metadata": {
        "colab": {
          "base_uri": "https://localhost:8080/"
        },
        "id": "khWRZ8cBGO9q",
        "outputId": "736fe786-18cb-4499-95c4-332757cca629"
      },
      "execution_count": 88,
      "outputs": [
        {
          "output_type": "stream",
          "name": "stdout",
          "text": [
            "=3\n"
          ]
        }
      ]
    },
    {
      "cell_type": "markdown",
      "source": [
        "어텐션 메커니즘을 사용하는 출력층을 설계해 주세요."
      ],
      "metadata": {
        "id": "OmoHKLz-Gq5J"
      }
    },
    {
      "cell_type": "code",
      "source": [
        "# 어텐션 함수\n",
        "decoder_hidden_state_input = Input(shape=(text_max_len, hidden_size))\n",
        "attn_out_inf = attn_layer([decoder_outputs2, decoder_hidden_state_input])\n",
        "decoder_inf_concat = Concatenate(axis=-1, name='concat')([decoder_outputs2, attn_out_inf])\n",
        "\n",
        "# 디코더의 출력층\n",
        "decoder_outputs2 = decoder_softmax_layer(decoder_inf_concat)\n",
        "\n",
        "# 최종 디코더 모델\n",
        "decoder_model = Model(\n",
        "    [decoder_inputs] + [decoder_hidden_state_input,decoder_state_input_h, decoder_state_input_c],\n",
        "    [decoder_outputs2] + [state_h2, state_c2])\n",
        "\n",
        "print('=3')"
      ],
      "metadata": {
        "colab": {
          "base_uri": "https://localhost:8080/"
        },
        "id": "3ucHxEFdGwmd",
        "outputId": "18480a3e-721d-4447-cb00-cbfbfc9625b9"
      },
      "execution_count": 89,
      "outputs": [
        {
          "output_type": "stream",
          "name": "stdout",
          "text": [
            "=3\n"
          ]
        }
      ]
    },
    {
      "cell_type": "markdown",
      "source": [
        "인퍼런스 단계에서 단어 시퀀스를 완성하는 함수를 만들어주세요."
      ],
      "metadata": {
        "id": "Sgu8MyFZGyD3"
      }
    },
    {
      "cell_type": "code",
      "source": [
        "def decode_sequence(input_seq):\n",
        "    # 입력으로부터 인코더의 상태를 얻음\n",
        "    e_out, e_h, e_c = encoder_model.predict(input_seq)\n",
        "\n",
        "     # <SOS>에 해당하는 토큰 생성\n",
        "    target_seq = np.zeros((1,1))\n",
        "    target_seq[0, 0] = tar_word_to_index['sostoken']\n",
        "\n",
        "    stop_condition = False\n",
        "    decoded_sentence = ''\n",
        "    while not stop_condition: # stop_condition이 True가 될 때까지 루프 반복\n",
        "\n",
        "        output_tokens, h, c = decoder_model.predict([target_seq] + [e_out, e_h, e_c])\n",
        "        sampled_token_index = np.argmax(output_tokens[0, -1, :])\n",
        "        sampled_token = tar_index_to_word[sampled_token_index]\n",
        "\n",
        "        if (sampled_token!='eostoken'):\n",
        "            decoded_sentence += ' '+sampled_token\n",
        "\n",
        "        #  <eos>에 도달하거나 최대 길이를 넘으면 중단.\n",
        "        if (sampled_token == 'eostoken'  or len(decoded_sentence.split()) >= (summary_max_len-1)):\n",
        "            stop_condition = True\n",
        "\n",
        "        # 길이가 1인 타겟 시퀀스를 업데이트\n",
        "        target_seq = np.zeros((1,1))\n",
        "        target_seq[0, 0] = sampled_token_index\n",
        "\n",
        "        # 상태를 업데이트 합니다.\n",
        "        e_h, e_c = h, c\n",
        "\n",
        "    return decoded_sentence\n",
        "print('=3')"
      ],
      "metadata": {
        "colab": {
          "base_uri": "https://localhost:8080/"
        },
        "id": "rFu-YWSSG0FD",
        "outputId": "1deba3c5-a716-43ee-8763-8017e682d46d"
      },
      "execution_count": 90,
      "outputs": [
        {
          "output_type": "stream",
          "name": "stdout",
          "text": [
            "=3\n"
          ]
        }
      ]
    },
    {
      "cell_type": "markdown",
      "source": [
        "Q. 정답 문장이 없는 추론(inference) 단계에서는 왜 모델 설계를 별도로 해주어야 하나요?\n",
        "\n",
        "생성해야 할 문장의 길이만큼 디코더가 반복 구조로 동작해야 하기 때문입니다."
      ],
      "metadata": {
        "id": "fQTwe4eVG1Un"
      }
    },
    {
      "cell_type": "markdown",
      "source": [
        "## 3-11. 모델 테스트하기\n",
        "\n",
        "테스트 단계에서는 정수 시퀀스를 텍스트 시퀀스로 변환하여 결과를 확인하는 것이 편하겠죠. 주어진 정수 시퀀스를 텍스트 시퀀스로 변환하는 함수를 만들어볼게요. 함수를 만들 때, Text의 정수 시퀀스에서는 패딩을 위해 사용되는 숫자 0을 제외하고 Summary의 정수 시퀀스에서는 숫자 0, 시작 토큰의 인덱스, 종료 토큰의 인덱스를 출력에서 제외하도록 만들 거예요.\n",
        "\n",
        "Q. seq2text 함수처럼 요약문의 정수 시퀀스를 텍스트로 변환하는 seq2summary 함수 코드를 작성하세요.\n",
        "(힌트 : 요약문에는 sostoken과 eostoken을 고려해야 함)"
      ],
      "metadata": {
        "id": "uoLAy3QXG7FS"
      }
    },
    {
      "cell_type": "code",
      "source": [
        "# 원문의 정수 시퀀스를 텍스트 시퀀스로 변환\n",
        "def seq2text(input_seq):\n",
        "    temp=''\n",
        "    for i in input_seq:\n",
        "        if (i!=0):\n",
        "            temp = temp + src_index_to_word[i]+' '\n",
        "    return temp\n",
        "\n",
        "# 요약문의 정수 시퀀스를 텍스트 시퀀스로 변환\n",
        "def seq2summary(input_seq):\n",
        "    temp=''\n",
        "    for i in input_seq:\n",
        "        if (i!=0) and i != tar_word_to_index['sostoken'] and i != tar_word_to_index['eostoken']:\n",
        "            temp = temp + tar_index_to_word[i] + ' '\n",
        "\n",
        "print('=3')"
      ],
      "metadata": {
        "colab": {
          "base_uri": "https://localhost:8080/"
        },
        "id": "teVIAvkMJMLj",
        "outputId": "b6388f18-30e5-4807-e963-220b50894a4e"
      },
      "execution_count": 92,
      "outputs": [
        {
          "output_type": "stream",
          "name": "stdout",
          "text": [
            "=3\n"
          ]
        }
      ]
    },
    {
      "cell_type": "code",
      "source": [
        "# # 원문의 정수 시퀀스를 텍스트 시퀀스로 변환\n",
        "# def seq2text(input_seq):\n",
        "#     temp=''\n",
        "#     for i in input_seq:\n",
        "#         if (i!=0):\n",
        "#             # 사전에 없는 인덱스일 경우 대체 단어 사용\n",
        "#             word = src_index_to_word.get(i, '[UNK]')\n",
        "#             temp += word + ' '\n",
        "#     return temp\n",
        "\n",
        "# # 요약문의 정수 시퀀스를 텍스트 시퀀스로 변환\n",
        "# def seq2summary(input_seq):\n",
        "#     temp=''\n",
        "#     for i in input_seq:\n",
        "#         if (i!=0) and i != tar_word_to_index['sostoken'] and i != tar_word_to_index['eostoken']:\n",
        "#             # 사전에 없는 인덱스일 경우 대체 단어 '[UNK]' 사용\n",
        "#             word = tar_index_to_word.get(i, '[UNK]')\n",
        "#             temp += word + ' '\n",
        "\n",
        "# print('=3')"
      ],
      "metadata": {
        "id": "Bv8w_vkaJIpp"
      },
      "execution_count": null,
      "outputs": []
    },
    {
      "cell_type": "code",
      "source": [
        "for i in range(50, 100):\n",
        "    print(\"원문 :\", seq2text(encoder_input_test[i]))\n",
        "    print(\"실제 요약 :\", seq2summary(decoder_input_test[i]))\n",
        "    print(\"예측 요약 :\", decode_sequence(encoder_input_test[i].reshape(1, text_max_len)))\n",
        "    print(\"\\n\")"
      ],
      "metadata": {
        "colab": {
          "base_uri": "https://localhost:8080/"
        },
        "id": "3JnrSK0CJRb5",
        "outputId": "694dd8f0-4de4-48af-e75e-96afb4f6feaf"
      },
      "execution_count": 93,
      "outputs": [
        {
          "output_type": "stream",
          "name": "stdout",
          "text": [
            "원문 : cannot get oil bottle cut top bottle another brand wide mouth jar know almost impossible container \n",
            "실제 요약 : None\n",
            "1/1 [==============================] - 1s 957ms/step\n",
            "1/1 [==============================] - 0s 384ms/step\n",
            "1/1 [==============================] - 0s 21ms/step\n",
            "1/1 [==============================] - 0s 21ms/step\n",
            "예측 요약 :  great product\n",
            "\n",
            "\n",
            "원문 : taste great bit pricey healthy snack options best artificial cardboard flavor added yr old son gfcf diet bars favorite snacks go give em try swear healthy \n",
            "실제 요약 : None\n",
            "1/1 [==============================] - 0s 21ms/step\n",
            "1/1 [==============================] - 0s 24ms/step\n",
            "1/1 [==============================] - 0s 27ms/step\n",
            "1/1 [==============================] - 0s 21ms/step\n",
            "예측 요약 :  great snack\n",
            "\n",
            "\n",
            "원문 : everyone cans severely dented dented sides carefully placed could see cans shrink wrapped packed plastic air bags damage box arrived dented packed \n",
            "실제 요약 : None\n",
            "1/1 [==============================] - 0s 24ms/step\n",
            "1/1 [==============================] - 0s 26ms/step\n",
            "1/1 [==============================] - 0s 31ms/step\n",
            "1/1 [==============================] - 0s 20ms/step\n",
            "예측 요약 :  dented cans\n",
            "\n",
            "\n",
            "원문 : bags lot stuff honestly one best snacks great occasion \n",
            "실제 요약 : None\n",
            "1/1 [==============================] - 0s 22ms/step\n",
            "1/1 [==============================] - 0s 20ms/step\n",
            "1/1 [==============================] - 0s 20ms/step\n",
            "1/1 [==============================] - 0s 22ms/step\n",
            "예측 요약 :  great snack\n",
            "\n",
            "\n",
            "원문 : tried lot sticks best tasted yes spicy hot spicy means purchased box little less promo great price amazon offers price definately pick two boxes \n",
            "실제 요약 : None\n",
            "1/1 [==============================] - 0s 23ms/step\n",
            "1/1 [==============================] - 0s 21ms/step\n",
            "1/1 [==============================] - 0s 20ms/step\n",
            "1/1 [==============================] - 0s 22ms/step\n",
            "예측 요약 :  great taste\n",
            "\n",
            "\n",
            "원문 : would better like sweet want dark semi sweet chocolate us like sweet decadent worth go \n",
            "실제 요약 : None\n",
            "1/1 [==============================] - 0s 19ms/step\n",
            "1/1 [==============================] - 0s 23ms/step\n",
            "1/1 [==============================] - 0s 23ms/step\n",
            "1/1 [==============================] - 0s 25ms/step\n",
            "1/1 [==============================] - 0s 20ms/step\n",
            "1/1 [==============================] - 0s 30ms/step\n",
            "1/1 [==============================] - 0s 25ms/step\n",
            "예측 요약 :  good but not too sweet\n",
            "\n",
            "\n",
            "원문 : reminds mint chocolate chip ice cream without calories flavors help drink water loose weight love morning jump start day whenever need little perk day college student buddy study time good coffee give jitters \n",
            "실제 요약 : None\n",
            "1/1 [==============================] - 0s 22ms/step\n",
            "1/1 [==============================] - 0s 20ms/step\n",
            "1/1 [==============================] - 0s 22ms/step\n",
            "1/1 [==============================] - 0s 20ms/step\n",
            "1/1 [==============================] - 0s 20ms/step\n",
            "예측 요약 :  best chocolate ever\n",
            "\n",
            "\n",
            "원문 : finally snack appears healthy get although find chocolate liking add strong enough flavor reduce granola fooled however packaging may contain natural products high fat content carbohydrates sugars etc concerned health content products use produce great product \n",
            "실제 요약 : None\n",
            "1/1 [==============================] - 0s 26ms/step\n",
            "1/1 [==============================] - 0s 20ms/step\n",
            "1/1 [==============================] - 0s 20ms/step\n",
            "1/1 [==============================] - 0s 20ms/step\n",
            "예측 요약 :  great for\n",
            "\n",
            "\n",
            "원문 : tried disposakups several times time filter came loose top resulting coffee grounds everywhere kup lid made flimsy plastic brewing temperature result loose fit top brewing kup bottom coffee grounds everywhere lids work one time keurig kups second time loose result email company refund answered buy \n",
            "실제 요약 : None\n",
            "1/1 [==============================] - 0s 20ms/step\n",
            "1/1 [==============================] - 0s 22ms/step\n",
            "1/1 [==============================] - 0s 21ms/step\n",
            "1/1 [==============================] - 0s 20ms/step\n",
            "예측 요약 :  good coffee\n",
            "\n",
            "\n",
            "원문 : absolutely scrumptious know else say melt mouth mint strong perfectly blended chocolate best chocolate mint cookies ever eaten tempted buy pass friends homemade \n",
            "실제 요약 : None\n",
            "1/1 [==============================] - 0s 32ms/step\n",
            "1/1 [==============================] - 0s 21ms/step\n",
            "1/1 [==============================] - 0s 22ms/step\n",
            "예측 요약 :  delicious\n",
            "\n",
            "\n",
            "원문 : love coffee stomach agree searching right type coffee cause discomfort also taste good tried many claim low acid sensitive stomach still felt discomfort drinking one glad found actually bought local asian supermarket taste nice smooth although imagine strong enough people like coffee strong \n",
            "실제 요약 : None\n",
            "1/1 [==============================] - 0s 19ms/step\n",
            "1/1 [==============================] - 0s 19ms/step\n",
            "1/1 [==============================] - 0s 19ms/step\n",
            "1/1 [==============================] - 0s 20ms/step\n",
            "예측 요약 :  not bad\n",
            "\n",
            "\n",
            "원문 : box got purchase costco double price crazy gave try cause though different variety pack like get costco double price save money product needs detail information inside \n",
            "실제 요약 : None\n",
            "1/1 [==============================] - 0s 24ms/step\n",
            "1/1 [==============================] - 0s 20ms/step\n",
            "1/1 [==============================] - 0s 19ms/step\n",
            "1/1 [==============================] - 0s 21ms/step\n",
            "예측 요약 :  good product\n",
            "\n",
            "\n",
            "원문 : shipping handling product met expectations particular brand decaf opinion better taste others although give dunkin donuts coffee styrofoam cup experience \n",
            "실제 요약 : None\n",
            "1/1 [==============================] - 0s 20ms/step\n",
            "1/1 [==============================] - 0s 21ms/step\n",
            "1/1 [==============================] - 0s 20ms/step\n",
            "1/1 [==============================] - 0s 22ms/step\n",
            "예측 요약 :  good coffee\n",
            "\n",
            "\n",
            "원문 : love packs delicious easy throw diaper bag kids lunch morning feel better sending instead cookies junk \n",
            "실제 요약 : None\n",
            "1/1 [==============================] - 0s 27ms/step\n",
            "1/1 [==============================] - 0s 21ms/step\n",
            "1/1 [==============================] - 0s 21ms/step\n",
            "1/1 [==============================] - 0s 21ms/step\n",
            "1/1 [==============================] - 0s 26ms/step\n",
            "1/1 [==============================] - 0s 23ms/step\n",
            "예측 요약 :  great for the go\n",
            "\n",
            "\n",
            "원문 : love coffee favorite far want try like strong coffee hate bitter taste coffee perfect cup coffee telling everyone go buy opinion \n",
            "실제 요약 : None\n",
            "1/1 [==============================] - 0s 23ms/step\n",
            "1/1 [==============================] - 0s 21ms/step\n",
            "1/1 [==============================] - 0s 20ms/step\n",
            "1/1 [==============================] - 0s 21ms/step\n",
            "예측 요약 :  good coffee\n",
            "\n",
            "\n",
            "원문 : feeding two food yrs well older lab seems thrive despite level arthritis hips still active mean canidae certainly helps \n",
            "실제 요약 : None\n",
            "1/1 [==============================] - 0s 19ms/step\n",
            "1/1 [==============================] - 0s 22ms/step\n",
            "1/1 [==============================] - 0s 21ms/step\n",
            "1/1 [==============================] - 0s 23ms/step\n",
            "1/1 [==============================] - 0s 21ms/step\n",
            "1/1 [==============================] - 0s 21ms/step\n",
            "예측 요약 :  my cat loves it\n",
            "\n",
            "\n",
            "원문 : yes smokey yes add dash salt stays little bitter far best marinade ever used beef fajitas never tried chicken use steak make best fajitas white southern girl make yum mom made fajitas growing used always sneak pieces meal \n",
            "실제 요약 : None\n",
            "1/1 [==============================] - 0s 21ms/step\n",
            "1/1 [==============================] - 0s 23ms/step\n",
            "1/1 [==============================] - 0s 21ms/step\n",
            "1/1 [==============================] - 0s 23ms/step\n",
            "1/1 [==============================] - 0s 21ms/step\n",
            "예측 요약 :  great for cooking\n",
            "\n",
            "\n",
            "원문 : live product finely ground use knowing using whole grain flour cause reaction gluten intolerance \n",
            "실제 요약 : None\n",
            "1/1 [==============================] - 0s 21ms/step\n",
            "1/1 [==============================] - 0s 20ms/step\n",
            "1/1 [==============================] - 0s 20ms/step\n",
            "1/1 [==============================] - 0s 20ms/step\n",
            "예측 요약 :  great product\n",
            "\n",
            "\n",
            "원문 : panda licorice great always received fresh much better tasting red brands highly recommend standing order reduces overall price per box amazon reliable mail order company \n",
            "실제 요약 : None\n",
            "1/1 [==============================] - 0s 19ms/step\n",
            "1/1 [==============================] - 0s 20ms/step\n",
            "1/1 [==============================] - 0s 23ms/step\n",
            "1/1 [==============================] - 0s 20ms/step\n",
            "예측 요약 :  great product\n",
            "\n",
            "\n",
            "원문 : riceselect website riceselect products produced non gmo seed grown farmers strict united states complete control production process allows us ensure products co varieties may gmo \n",
            "실제 요약 : None\n",
            "1/1 [==============================] - 0s 23ms/step\n",
            "1/1 [==============================] - 0s 22ms/step\n",
            "1/1 [==============================] - 0s 22ms/step\n",
            "1/1 [==============================] - 0s 23ms/step\n",
            "예측 요약 :  good product\n",
            "\n",
            "\n",
            "원문 : cups great green love less plastic get grounds cup said coffee pretty good hard find really strong cup coffee burnt harsh tasting one pretty close smooth wish amazon would offer kcups auto delivery \n",
            "실제 요약 : None\n",
            "1/1 [==============================] - 0s 22ms/step\n",
            "1/1 [==============================] - 0s 34ms/step\n",
            "1/1 [==============================] - 0s 33ms/step\n",
            "1/1 [==============================] - 0s 29ms/step\n",
            "예측 요약 :  great coffee\n",
            "\n",
            "\n",
            "원문 : best coffee ever tasted well worth price freshly ground brewed holds well \n",
            "실제 요약 : None\n",
            "1/1 [==============================] - 0s 31ms/step\n",
            "1/1 [==============================] - 0s 31ms/step\n",
            "1/1 [==============================] - 0s 32ms/step\n",
            "1/1 [==============================] - 0s 36ms/step\n",
            "예측 요약 :  great coffee\n",
            "\n",
            "\n",
            "원문 : always big vitamin water fan recently trying switch drinking water hint water refreshing variety pack great try many different flavors also great product kids drink enough water like flavors juices \n",
            "실제 요약 : None\n",
            "1/1 [==============================] - 0s 34ms/step\n",
            "1/1 [==============================] - 0s 30ms/step\n",
            "1/1 [==============================] - 0s 32ms/step\n",
            "1/1 [==============================] - 0s 32ms/step\n",
            "예측 요약 :  great taste\n",
            "\n",
            "\n",
            "원문 : mom used love eat jelly beans live miles away us giving jelly belly trip memory lane \n",
            "실제 요약 : None\n",
            "1/1 [==============================] - 0s 31ms/step\n",
            "1/1 [==============================] - 0s 32ms/step\n",
            "1/1 [==============================] - 0s 34ms/step\n",
            "1/1 [==============================] - 0s 32ms/step\n",
            "예측 요약 :  great product\n",
            "\n",
            "\n",
            "원문 : bought someone loves hot sauces said truly hot plus packaging makes fun gift \n",
            "실제 요약 : None\n",
            "1/1 [==============================] - 0s 35ms/step\n",
            "1/1 [==============================] - 0s 33ms/step\n",
            "1/1 [==============================] - 0s 32ms/step\n",
            "1/1 [==============================] - 0s 33ms/step\n",
            "예측 요약 :  good stuff\n",
            "\n",
            "\n",
            "원문 : love stuff one container save cash purchasing one sugar free flavors add bit coco powder container coffee mate powder shake times almost perfect much less cash spent \n",
            "실제 요약 : None\n",
            "1/1 [==============================] - 0s 32ms/step\n",
            "1/1 [==============================] - 0s 34ms/step\n",
            "1/1 [==============================] - 0s 38ms/step\n",
            "1/1 [==============================] - 0s 36ms/step\n",
            "예측 요약 :  good stuff\n",
            "\n",
            "\n",
            "원문 : dad loved coffee arrived perfectly fresh well packaged tastes great buying \n",
            "실제 요약 : None\n",
            "1/1 [==============================] - 0s 27ms/step\n",
            "1/1 [==============================] - 0s 37ms/step\n",
            "1/1 [==============================] - 0s 34ms/step\n",
            "1/1 [==============================] - 0s 31ms/step\n",
            "예측 요약 :  great coffee\n",
            "\n",
            "\n",
            "원문 : outstanding product gives warm feeling makes senses come alive bags quite large good thing get bigger cup tea full flavor fantastic \n",
            "실제 요약 : None\n",
            "1/1 [==============================] - 0s 30ms/step\n",
            "1/1 [==============================] - 0s 37ms/step\n",
            "1/1 [==============================] - 0s 30ms/step\n",
            "1/1 [==============================] - 0s 32ms/step\n",
            "예측 요약 :  great product\n",
            "\n",
            "\n",
            "원문 : dried berries exactly like dried berries breakfast cereals put yogurt regular corn flakes think good buy \n",
            "실제 요약 : None\n",
            "1/1 [==============================] - 0s 30ms/step\n",
            "1/1 [==============================] - 0s 33ms/step\n",
            "1/1 [==============================] - 0s 35ms/step\n",
            "1/1 [==============================] - 0s 33ms/step\n",
            "예측 요약 :  great product\n",
            "\n",
            "\n",
            "원문 : purchased candy bars vendor daughters party favors long story short arrived decent time thing broken shipped type contents unfortunately enough time send back use content pricing candy bars think using vendor \n",
            "실제 요약 : None\n",
            "1/1 [==============================] - 0s 31ms/step\n",
            "1/1 [==============================] - 0s 35ms/step\n",
            "1/1 [==============================] - 0s 34ms/step\n",
            "1/1 [==============================] - 0s 31ms/step\n",
            "1/1 [==============================] - 0s 33ms/step\n",
            "예측 요약 :  not as pictured\n",
            "\n",
            "\n",
            "원문 : long time fan death products familiar spicy items like sauces however never tried chips tastiest easily chips known man everything love chip rolled one deceived fact says chipotle bag concentrated stuff personally eat chips per serving hot \n",
            "실제 요약 : None\n",
            "1/1 [==============================] - 0s 32ms/step\n",
            "1/1 [==============================] - 0s 35ms/step\n",
            "1/1 [==============================] - 0s 34ms/step\n",
            "1/1 [==============================] - 0s 32ms/step\n",
            "예측 요약 :  great chips\n",
            "\n",
            "\n",
            "원문 : always looking good deal planters dry roasted unsalted peanuts good deal however amazon still packing problems two jars broken receipt kept shipment still bad price amazon needs packing carefully buy \n",
            "실제 요약 : None\n",
            "1/1 [==============================] - 0s 37ms/step\n",
            "1/1 [==============================] - 0s 37ms/step\n",
            "1/1 [==============================] - 0s 37ms/step\n",
            "1/1 [==============================] - 0s 34ms/step\n",
            "예측 요약 :  good product\n",
            "\n",
            "\n",
            "원문 : favorite products make flavorful dish less half hour reason mix hard find stores happy find amazon \n",
            "실제 요약 : None\n",
            "1/1 [==============================] - 0s 33ms/step\n",
            "1/1 [==============================] - 0s 32ms/step\n",
            "1/1 [==============================] - 0s 31ms/step\n",
            "1/1 [==============================] - 0s 35ms/step\n",
            "1/1 [==============================] - 0s 31ms/step\n",
            "예측 요약 :  best seasoning ever\n",
            "\n",
            "\n",
            "원문 : little chi mix hardly sit still without fill food bowl perfect sized kibble tiny mouth coat looks great shiny fuller foods slightly gross end product better also denser less smelly seems like body better foods \n",
            "실제 요약 : None\n",
            "1/1 [==============================] - 0s 31ms/step\n",
            "1/1 [==============================] - 0s 34ms/step\n",
            "1/1 [==============================] - 0s 32ms/step\n",
            "1/1 [==============================] - 0s 38ms/step\n",
            "예측 요약 :  great food\n",
            "\n",
            "\n",
            "원문 : lot honest tea think tea tea way better sweet really taste tea refreshing \n",
            "실제 요약 : None\n",
            "1/1 [==============================] - 0s 50ms/step\n",
            "1/1 [==============================] - 0s 33ms/step\n",
            "1/1 [==============================] - 0s 38ms/step\n",
            "1/1 [==============================] - 0s 32ms/step\n",
            "예측 요약 :  great tea\n",
            "\n",
            "\n",
            "원문 : hint raspberry sparkling wild berry flavor much like hate raspberry even actual fruit happy tried flavor usual shipment sparkling orange unavailable stock probably never would orange subscribe save removed tasting flavor hope amazon com put flavor program buy way \n",
            "실제 요약 : None\n",
            "1/1 [==============================] - 0s 29ms/step\n",
            "1/1 [==============================] - 0s 34ms/step\n",
            "1/1 [==============================] - 0s 37ms/step\n",
            "1/1 [==============================] - 0s 30ms/step\n",
            "예측 요약 :  good stuff\n",
            "\n",
            "\n",
            "원문 : popcorn lover really like stuff make microwave saw decided give try liked lot side half probably one got \n",
            "실제 요약 : None\n",
            "1/1 [==============================] - 0s 32ms/step\n",
            "1/1 [==============================] - 0s 50ms/step\n",
            "1/1 [==============================] - 0s 21ms/step\n",
            "1/1 [==============================] - 0s 20ms/step\n",
            "예측 요약 :  great popcorn\n",
            "\n",
            "\n",
            "원문 : price organic drew try stash brand taste nowhere near jasmine tea get local tried several different ways brewing sweet jasmine aroma taste barely discernible drinkable though like said price good hope try numi brand next heard rave reviews jasmine pearl teas \n",
            "실제 요약 : None\n",
            "1/1 [==============================] - 0s 23ms/step\n",
            "1/1 [==============================] - 0s 30ms/step\n",
            "1/1 [==============================] - 0s 21ms/step\n",
            "1/1 [==============================] - 0s 21ms/step\n",
            "예측 요약 :  not bad\n",
            "\n",
            "\n",
            "원문 : cookies flight loved sure could find area checked amazon found spreads well long story short spreads great taste cookie almost good hard resist put toast english muffins even spoon know jar empty \n",
            "실제 요약 : None\n",
            "1/1 [==============================] - 0s 22ms/step\n",
            "1/1 [==============================] - 0s 23ms/step\n",
            "1/1 [==============================] - 0s 20ms/step\n",
            "1/1 [==============================] - 0s 24ms/step\n",
            "예측 요약 :  great cookies\n",
            "\n",
            "\n",
            "원문 : sent grandmother th birthday loves chocolate kisses happy big surprise unique item give gift highly recommended \n",
            "실제 요약 : None\n",
            "1/1 [==============================] - 0s 25ms/step\n",
            "1/1 [==============================] - 0s 21ms/step\n",
            "1/1 [==============================] - 0s 20ms/step\n",
            "1/1 [==============================] - 0s 23ms/step\n",
            "예측 요약 :  great gift\n",
            "\n",
            "\n",
            "원문 : arrived promised ahead time cans smashed destroyed currently enjoying cup write ordered tomato mm mm \n",
            "실제 요약 : None\n",
            "1/1 [==============================] - 0s 25ms/step\n",
            "1/1 [==============================] - 0s 24ms/step\n",
            "1/1 [==============================] - 0s 23ms/step\n",
            "1/1 [==============================] - 0s 29ms/step\n",
            "예측 요약 :  great product\n",
            "\n",
            "\n",
            "원문 : far best corn chips ever going send case gift would wonderful party \n",
            "실제 요약 : None\n",
            "1/1 [==============================] - 0s 19ms/step\n",
            "1/1 [==============================] - 0s 20ms/step\n",
            "1/1 [==============================] - 0s 20ms/step\n",
            "1/1 [==============================] - 0s 22ms/step\n",
            "예측 요약 :  great chips\n",
            "\n",
            "\n",
            "원문 : product good taste consistency wanted beverage \n",
            "실제 요약 : None\n",
            "1/1 [==============================] - 0s 20ms/step\n",
            "1/1 [==============================] - 0s 21ms/step\n",
            "1/1 [==============================] - 0s 24ms/step\n",
            "1/1 [==============================] - 0s 23ms/step\n",
            "예측 요약 :  not bad\n",
            "\n",
            "\n",
            "원문 : halloween eating weekend good pretty much kept kids visit door get something else ok kidding giving gotten lot great comments one feels way love sweet salty combination pretzels peanut butter chocolate one top candy choices \n",
            "실제 요약 : None\n",
            "1/1 [==============================] - 0s 24ms/step\n",
            "1/1 [==============================] - 0s 20ms/step\n",
            "1/1 [==============================] - 0s 22ms/step\n",
            "1/1 [==============================] - 0s 28ms/step\n",
            "1/1 [==============================] - 0s 24ms/step\n",
            "예측 요약 :  great for baby\n",
            "\n",
            "\n",
            "원문 : great serving chocolate liquor adds touch class event host supreme able eat cup afterwards icing cake \n",
            "실제 요약 : None\n",
            "1/1 [==============================] - 0s 22ms/step\n",
            "1/1 [==============================] - 0s 31ms/step\n",
            "1/1 [==============================] - 0s 21ms/step\n",
            "1/1 [==============================] - 0s 22ms/step\n",
            "1/1 [==============================] - 0s 21ms/step\n",
            "예측 요약 :  best chocolate ever\n",
            "\n",
            "\n",
            "원문 : liked enough frequent purchase particularly spicy sauce flavorful mild lacked real heat consistency thick creamy non greasy worth variety eat taco bell enough compare menu item \n",
            "실제 요약 : None\n",
            "1/1 [==============================] - 0s 22ms/step\n",
            "1/1 [==============================] - 0s 20ms/step\n",
            "1/1 [==============================] - 0s 20ms/step\n",
            "1/1 [==============================] - 0s 20ms/step\n",
            "예측 요약 :  good stuff\n",
            "\n",
            "\n",
            "원문 : product rocks tried brands market easiest work flavor really good fall apart cook directions simple flavor best \n",
            "실제 요약 : None\n",
            "1/1 [==============================] - 0s 24ms/step\n",
            "1/1 [==============================] - 0s 21ms/step\n",
            "1/1 [==============================] - 0s 20ms/step\n",
            "1/1 [==============================] - 0s 22ms/step\n",
            "예측 요약 :  great taste\n",
            "\n",
            "\n",
            "원문 : baked loaf bread new bread machine came fantastic light fluffy crumbly like many store bought gf breads added italian seasoning onion powder make savory bread cannot wait make bread mix gave product stars far tell short \n",
            "실제 요약 : None\n",
            "1/1 [==============================] - 0s 21ms/step\n",
            "1/1 [==============================] - 0s 19ms/step\n",
            "1/1 [==============================] - 0s 31ms/step\n",
            "1/1 [==============================] - 0s 20ms/step\n",
            "1/1 [==============================] - 0s 25ms/step\n",
            "예측 요약 :  great bread mix\n",
            "\n",
            "\n",
            "원문 : coffee beans seem fresh oil ever tasted much better fresher order \n",
            "실제 요약 : None\n",
            "1/1 [==============================] - 0s 22ms/step\n",
            "1/1 [==============================] - 0s 23ms/step\n",
            "1/1 [==============================] - 0s 23ms/step\n",
            "1/1 [==============================] - 0s 23ms/step\n",
            "예측 요약 :  great coffee\n",
            "\n",
            "\n",
            "원문 : purchased two gifts beautifully crafted even finish color excellent price product lining white preference would darker color simply matter personal taste recipients raved could wait serve tea \n",
            "실제 요약 : None\n",
            "1/1 [==============================] - 0s 23ms/step\n",
            "1/1 [==============================] - 0s 23ms/step\n",
            "1/1 [==============================] - 0s 20ms/step\n",
            "1/1 [==============================] - 0s 20ms/step\n",
            "예측 요약 :  great product\n",
            "\n",
            "\n"
          ]
        }
      ]
    },
    {
      "cell_type": "markdown",
      "source": [
        "많은 결과가 출력이 되는데, 기존의 요약과는 다른 요약을 출력하면서도 원문의 내용을 담고 있는 의미 있는 요약들이 보이네요. 심지어 일부 요약의 경우에는 원문에 없던 단어를 사용해서 요약을 하기도 하고 있어요. 워드 임베딩과 RNN의 콜라보로 이뤄낸 신기한 성과네요!\n",
        "\n",
        "물론 슬프게도 그다지 좋지 않은 요약의 예도 꽤나 보이기도 하네요. 성능을 개선하기 위해서는 seq2seq와 어텐션의 자체의 조합을 좀 더 좋게 수정하는 방법도 있고, 빔 서치(beam search), 사전 훈련된 워드 임베딩(pre-trained word embedding), 또는 인코더 - 디코더 자체의 구조를 새로이 변경한 하는 트랜스포머(Transformer)와 같은 여러 개선 방안들이 존재합니다. 이런 방안들에 대해서도 향후 살펴보게 될 것입니다."
      ],
      "metadata": {
        "id": "AmTfFelpJhHe"
      }
    },
    {
      "cell_type": "markdown",
      "source": [
        "## 3-12. 추출적 요약 해보기\n",
        "\n",
        "앞서 seq2seq를 통해서 추상적 요약을 진행해봤어요. 그런데 텍스트 요약에는 추상적 요약 외에도 이미 본문에 존재하는 단어구, 문장을 뽑아서 요약으로 삼는 추출적 요약 방법도 있었죠.\n",
        "\n",
        "Q. 우리가 앞에서 seq2seq 모델을 사용하여 추상적 요약을 했습니다. 그렇다면 추출적 요약은 무엇일까요?\n",
        "\n",
        "추출적 요약은 원문에서 중요한 핵심 문장 또는 단어를 뽑아 구성된 요약문을 만드는 방식입니다. 그래서 생성된 문장이나 단어는 원문에 포함되어 있기 때문에, 단점으로 언어 표현 능력이 제한되어 생성된 문장이 매끄럽지 않을 수 있습니다. 대표적인 알고리즘으로는 TextRank가 있습니다.\n",
        "\n",
        "---\n",
        "패키지 Summa에서는 추출적 요약을 위한 모듈인 summarize를 제공하고 있어 아주 간단하게 실습을 해볼 수 있어요. 영화 매트릭스 시놉시스를 요약해보면서 summarize 사용법을 익혀볼까요?\n",
        "\n",
        "---\n",
        "패키지 설치\n",
        "클라우드의 경우 이미 summa 가 설치돼있습니다. 확인해보고 싶으시면 아래 명령어를 Cloud Shell에서 실행해보세요!\n",
        "\n",
        "$ pip list | grep summa"
      ],
      "metadata": {
        "id": "wDzYmflCKL9o"
      }
    },
    {
      "cell_type": "code",
      "source": [
        "!pip install summa"
      ],
      "metadata": {
        "colab": {
          "base_uri": "https://localhost:8080/"
        },
        "id": "33Pi-ZXwLCMP",
        "outputId": "eae75225-ed36-481c-cbb3-85641235712c"
      },
      "execution_count": 97,
      "outputs": [
        {
          "output_type": "stream",
          "name": "stdout",
          "text": [
            "Collecting summa\n",
            "  Downloading summa-1.2.0.tar.gz (54 kB)\n",
            "\u001b[2K     \u001b[90m━━━━━━━━━━━━━━━━━━━━━━━━━━━━━━━━━━━━━━━━\u001b[0m \u001b[32m54.9/54.9 kB\u001b[0m \u001b[31m719.8 kB/s\u001b[0m eta \u001b[36m0:00:00\u001b[0m\n",
            "\u001b[?25h  Preparing metadata (setup.py) ... \u001b[?25l\u001b[?25hdone\n",
            "Requirement already satisfied: scipy>=0.19 in /usr/local/lib/python3.10/dist-packages (from summa) (1.11.3)\n",
            "Requirement already satisfied: numpy<1.28.0,>=1.21.6 in /usr/local/lib/python3.10/dist-packages (from scipy>=0.19->summa) (1.23.5)\n",
            "Building wheels for collected packages: summa\n",
            "  Building wheel for summa (setup.py) ... \u001b[?25l\u001b[?25hdone\n",
            "  Created wheel for summa: filename=summa-1.2.0-py3-none-any.whl size=54388 sha256=15b2b33d9bc41cefc17b0defc8be74c6e724d5bf403041bd7c898a0dd13bbcc0\n",
            "  Stored in directory: /root/.cache/pip/wheels/4a/ca/c5/4958614cfba88ed6ceb7cb5a849f9f89f9ac49971616bc919f\n",
            "Successfully built summa\n",
            "Installing collected packages: summa\n",
            "Successfully installed summa-1.2.0\n"
          ]
        }
      ]
    },
    {
      "cell_type": "code",
      "source": [
        "import requests\n",
        "from summa.summarizer import summarize"
      ],
      "metadata": {
        "id": "uLUXg_09KeXw"
      },
      "execution_count": 98,
      "outputs": []
    },
    {
      "cell_type": "code",
      "source": [
        "text = requests.get('http://rare-technologies.com/the_matrix_synopsis.txt').text"
      ],
      "metadata": {
        "id": "BY1hadbILkG9"
      },
      "execution_count": 99,
      "outputs": []
    },
    {
      "cell_type": "code",
      "source": [
        "print(text[:1500])"
      ],
      "metadata": {
        "colab": {
          "base_uri": "https://localhost:8080/"
        },
        "id": "NK2MYhElLl_Z",
        "outputId": "8db5af1c-bdd8-484c-ad26-3ebdaf471819"
      },
      "execution_count": 100,
      "outputs": [
        {
          "output_type": "stream",
          "name": "stdout",
          "text": [
            "The screen is filled with green, cascading code which gives way to the title, The Matrix.\r\n",
            "\r\n",
            "A phone rings and text appears on the screen: \"Call trans opt: received. 2-19-98 13:24:18 REC: Log>\" As a conversation takes place between Trinity (Carrie-Anne Moss) and Cypher (Joe Pantoliano), two free humans, a table of random green numbers are being scanned and individual numbers selected, creating a series of digits not unlike an ordinary phone number, as if a code is being deciphered or a call is being traced.\r\n",
            "\r\n",
            "Trinity discusses some unknown person. Cypher taunts Trinity, suggesting she enjoys watching him. Trinity counters that \"Morpheus (Laurence Fishburne) says he may be 'the One',\" just as the sound of a number being selected alerts Trinity that someone may be tracing their call. She ends the call.\r\n",
            "\r\n",
            "Armed policemen move down a darkened, decrepit hallway in the Heart O' the City Hotel, their flashlight beam bouncing just ahead of them. They come to room 303, kick down the door and find a woman dressed in black, facing away from them. It's Trinity. She brings her hands up from the laptop she's working on at their command.\r\n",
            "\r\n",
            "Outside the hotel a car drives up and three agents appear in neatly pressed black suits. They are Agent Smith (Hugo Weaving), Agent Brown (Paul Goddard), and Agent Jones (Robert Taylor). Agent Smith and the presiding police lieutenant argue. Agent Smith admonishes the policeman that they were given specific orders to contact the agents first, for their\n"
          ]
        }
      ]
    },
    {
      "cell_type": "markdown",
      "source": [
        "### summarize 사용하기\n",
        "Summa의 summarize()의 인자로 사용되는 값들에 대해서 알아볼게요.\n",
        "\n",
        "text (str) : 요약할 테스트.\n",
        "ratio (float, optional) – 요약문에서 원본에서 선택되는 문장 비율. 0~1 사이값\n",
        "words (int or None, optional) – 출력에 포함할 단어 수.\n",
        "만약, ratio와 함께 두 파라미터가 모두 제공되는 경우 ratio는 무시한다.\n",
        "split (bool, optional) – True면 문장 list / False는 조인(join)된 문자열을 반환\n",
        "\n",
        "Summa의 summarize는 문장 토큰화를 별도로 하지 않더라도 내부적으로 문장 토큰화를 수행해요. 그렇기 때문에 문장 구분이 되어있지 않은 원문을 바로 입력으로 넣을 수 있어요. 비율을 적게 주어서 요약문으로 선택되는 문장의 개수를 줄여볼게요. 원문의 0.005%만을 출력하도록 설정했어요."
      ],
      "metadata": {
        "id": "K-HpIdy4LpM2"
      }
    },
    {
      "cell_type": "code",
      "source": [
        "print('Summary:')\n",
        "print(summarize(text, ratio=0.005))"
      ],
      "metadata": {
        "colab": {
          "base_uri": "https://localhost:8080/"
        },
        "id": "bemC3-vzLnWY",
        "outputId": "bbbc920f-640b-4bd9-f044-7ac9b1c13dc1"
      },
      "execution_count": 101,
      "outputs": [
        {
          "output_type": "stream",
          "name": "stdout",
          "text": [
            "Summary:\n",
            "Morpheus, Trinity, Neo, Apoc, Switch, Mouse and Cypher are jacked into the Matrix.\n",
            "Trinity brings the helicopter down to the floor that Morpheus is on and Neo opens fire on the three Agents.\n"
          ]
        }
      ]
    },
    {
      "cell_type": "code",
      "source": [
        "print('Summary:')\n",
        "print(summarize(text, ratio=0.005, split=True))"
      ],
      "metadata": {
        "colab": {
          "base_uri": "https://localhost:8080/"
        },
        "id": "nApm-YK7Lt9K",
        "outputId": "7c8b2319-ecdf-4f9a-d3d9-c0580c21efb0"
      },
      "execution_count": 102,
      "outputs": [
        {
          "output_type": "stream",
          "name": "stdout",
          "text": [
            "Summary:\n",
            "['Morpheus, Trinity, Neo, Apoc, Switch, Mouse and Cypher are jacked into the Matrix.', 'Trinity brings the helicopter down to the floor that Morpheus is on and Neo opens fire on the three Agents.']\n"
          ]
        }
      ]
    },
    {
      "cell_type": "code",
      "source": [
        "print('Summary:')\n",
        "print(summarize(text, words=50))"
      ],
      "metadata": {
        "colab": {
          "base_uri": "https://localhost:8080/"
        },
        "id": "j1UBO_KHLuC_",
        "outputId": "6a99dd00-ad47-492a-bb2f-93597c033a41"
      },
      "execution_count": 103,
      "outputs": [
        {
          "output_type": "stream",
          "name": "stdout",
          "text": [
            "Summary:\n",
            "Trinity takes Neo to Morpheus.\n",
            "Morpheus, Trinity, Neo, Apoc, Switch, Mouse and Cypher are jacked into the Matrix.\n",
            "Trinity brings the helicopter down to the floor that Morpheus is on and Neo opens fire on the three Agents.\n"
          ]
        }
      ]
    }
  ]
}