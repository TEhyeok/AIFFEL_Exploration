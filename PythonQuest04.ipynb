{
  "nbformat": 4,
  "nbformat_minor": 0,
  "metadata": {
    "colab": {
      "provenance": [],
      "authorship_tag": "ABX9TyPfrr+dAAVxlSdNJ/OI/W3J",
      "include_colab_link": true
    },
    "kernelspec": {
      "name": "python3",
      "display_name": "Python 3"
    },
    "language_info": {
      "name": "python"
    }
  },
  "cells": [
    {
      "cell_type": "markdown",
      "metadata": {
        "id": "view-in-github",
        "colab_type": "text"
      },
      "source": [
        "<a href=\"https://colab.research.google.com/github/TEhyeok/AIFFEL_Exploration/blob/main/PythonQuest04.ipynb\" target=\"_parent\"><img src=\"https://colab.research.google.com/assets/colab-badge.svg\" alt=\"Open In Colab\"/></a>"
      ]
    },
    {
      "cell_type": "code",
      "execution_count": 5,
      "metadata": {
        "colab": {
          "base_uri": "https://localhost:8080/"
        },
        "id": "dCEIJg-zMaGd",
        "outputId": "0005c3fd-aced-4167-d9d2-0b315b63d402"
      },
      "outputs": [
        {
          "output_type": "stream",
          "name": "stdout",
          "text": [
            "Using Comprehension\n",
            "Nemo is swimming at 3 m/s\n",
            "Dory is swimming at 5 m/s\n",
            "Using Generator:\n",
            "Nemo is swimming at 3 m/s\n",
            "Dory is swimming at 5 m/s\n"
          ]
        }
      ],
      "source": [
        "def show_fish_movement_comprehension(fish_list):\n",
        "  fish_movements = [f'{x[\"이름\"]} is swimming at {x[\"speed\"]} m/s' for x in fish_list] # [표현식 for x in 이터러블 if 조건]\n",
        "  # fish_movements = [\"Nemo is swimming at 3 m/s\", \"Dory is swimming at 5 m/s\"]\n",
        "\n",
        "  for fish_movement in fish_movements:\n",
        "    print(fish_movement)\n",
        "\n",
        "def show_fish_movement_Generator(fish_list):\n",
        "  for x in fish_list:\n",
        "    yield f'{x[\"이름\"]} is swimming at {x[\"speed\"]} m/s' # 제너레이터 구문을 위해 yield를 작성\n",
        "\n",
        "\n",
        "# 물고기 리스트 생성\n",
        "fish_list = [\n",
        "    {\"이름\":\"Nemo\", \"speed\":3},\n",
        "    {\"이름\":\"Dory\",\"speed\":5},\n",
        "]\n",
        "\n",
        "print(\"Using Comprehension\")\n",
        "show_fish_movement_comprehension(fish_list)\n",
        "print(\"Using Generator:\")\n",
        "fish = show_fish_movement_Generator(fish_list)\n",
        "print(next(fish)) # 제너레이터인 fish에서 값을 하나씩 출력\n",
        "print(next(fish))"
      ]
    }
  ]
}